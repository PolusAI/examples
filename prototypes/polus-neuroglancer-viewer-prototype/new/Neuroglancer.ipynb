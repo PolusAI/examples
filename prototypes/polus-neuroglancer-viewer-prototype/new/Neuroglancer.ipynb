{
 "cells": [
  {
   "cell_type": "markdown",
   "id": "096f9730-fa08-4d19-8fe8-dbc4e5948c65",
   "metadata": {
    "tags": []
   },
   "source": [
    "Example from [Neuroglancer demo](https://github.com/google/neuroglancer/blob/master/python/examples/jupyter-notebook-demo.ipynb) implemented below with custom made ipywidgets (Cell 8).\n",
    "\n",
    "This is a [Neuroglancer documentation](https://connectomics.readthedocs.io/en/latest/external/neuroglancer.html) to help with Neuroglancer installation. \n"
   ]
  },
  {
   "cell_type": "code",
   "execution_count": null,
   "id": "13717af3-b075-4677-9353-0ef2e009aaad",
   "metadata": {},
   "outputs": [],
   "source": [
    "import neuroglancer\n",
    "import numpy as np"
   ]
  },
  {
   "cell_type": "markdown",
   "id": "6ca6e02d-19bb-4225-8f3f-1c3e05d4e1ea",
   "metadata": {},
   "source": [
    "This cell starts a webserver in a background thread, which serves a copy of the Neuroglancer client, and which also can serve local volume data and handles sending and receiving Neuroglancer state updates."
   ]
  },
  {
   "cell_type": "code",
   "execution_count": null,
   "id": "eb78a771-1dbd-42f1-b446-611e4cec0901",
   "metadata": {},
   "outputs": [],
   "source": [
    "viewer = neuroglancer.Viewer()"
   ]
  },
  {
   "cell_type": "markdown",
   "id": "0b6a3fef-63fb-4423-afe0-3d76f00fc5ac",
   "metadata": {},
   "source": [
    "This cell adds 2 example layers. \n",
    "This particular cell uses the precomputed data source (HHMI Janelia FlyEM FIB-25 dataset), but the source can be from anywhere. \n",
    "The `.txn()` method performs a state-modification transaction (changes the view state)."
   ]
  },
  {
   "cell_type": "code",
   "execution_count": null,
   "id": "86af715f-17e8-48ce-a437-73144a8ea7e3",
   "metadata": {},
   "outputs": [],
   "source": [
    "with viewer.txn() as s:\n",
    "  s.layers['image'] = neuroglancer.ImageLayer(source='precomputed://gs://neuroglancer-public-data/flyem_fib-25/image')\n",
    "  s.layers['segmentation'] = neuroglancer.SegmentationLayer(source='precomputed://gs://neuroglancer-public-data/flyem_fib-25/ground_truth', selected_alpha=0.3)\n",
    "  "
   ]
  },
  {
   "cell_type": "markdown",
   "id": "b790020f-2b97-444f-9b5d-1007147be299",
   "metadata": {},
   "source": [
    "Move the viewer position."
   ]
  },
  {
   "cell_type": "code",
   "execution_count": null,
   "id": "7233f282-6743-4c83-8534-40847caf323b",
   "metadata": {},
   "outputs": [],
   "source": [
    "with viewer.txn() as s:\n",
    "    s.voxel_coordinates = [3000.5, 3000.5, 3000.5]"
   ]
  },
  {
   "cell_type": "markdown",
   "id": "f2289764-0fed-4d9e-8df0-d816e1d9e336",
   "metadata": {},
   "source": [
    "Select a couple segments."
   ]
  },
  {
   "cell_type": "code",
   "execution_count": null,
   "id": "91dd0972-7c9e-4efb-a9b8-03193c9d9436",
   "metadata": {},
   "outputs": [],
   "source": [
    "with viewer.txn() as s:\n",
    "    s.layers['segmentation'].segments.update([1752, 88847])"
   ]
  },
  {
   "cell_type": "markdown",
   "id": "7b7174e0-52c7-4782-b60d-40e68dee337c",
   "metadata": {},
   "source": [
    "Update the state by calling `set_state` directly and provide new state uid. `set_state` overrides entire state and returns somethng like state uid."
   ]
  },
  {
   "cell_type": "code",
   "execution_count": null,
   "id": "0c1292fb-ebd4-49d9-8760-ddef6dc9c52a",
   "metadata": {},
   "outputs": [],
   "source": [
    "import copy\n",
    "new_state = copy.deepcopy(viewer.state)\n",
    "new_state.layers['segmentation'].segments.add(10625)\n",
    "viewer.set_state(new_state)"
   ]
  },
  {
   "cell_type": "markdown",
   "id": "1f8c851f-3c95-4bf0-a112-616caae5c25c",
   "metadata": {},
   "source": [
    "Change the view layout to 3-d and set projection scale.\n",
    "\n",
    "Be aware, it has something like a bug when we try to set projection scale before we call `display()` (cell 8), it doesn't apply the value the first time. However, if manually run it after running `display()`, it will set the projection scale correctly. "
   ]
  },
  {
   "cell_type": "code",
   "execution_count": null,
   "id": "5133180a-b936-42e9-967b-19dd4547ed13",
   "metadata": {},
   "outputs": [],
   "source": [
    "with viewer.txn() as s:\n",
    "    s.layout = '3d'\n",
    "    s.projection_scale = 3000"
   ]
  },
  {
   "cell_type": "markdown",
   "id": "fd8536f7-8d7e-4a31-89b9-6bce3ffa6592",
   "metadata": {},
   "source": [
    "The cell below creates custom widgets in order to show the Navigation Panel on the left of the viewer to manipulate the data. "
   ]
  },
  {
   "cell_type": "code",
   "execution_count": null,
   "id": "a2305e7d-4f17-4ad0-a50c-eea532baa2be",
   "metadata": {
    "tags": []
   },
   "outputs": [],
   "source": [
    "import ipywidgets as widgets\n",
    "\n",
    "def get_header(text):\n",
    "    return widgets.HTML(\"<h3>{}</h3>\".format(text), layout=widgets.Layout(height='auto'))\n",
    "\n",
    "# Widgets\n",
    "\n",
    "# Zoom\n",
    "zoom_slider = widgets.FloatSlider(\n",
    "    value=1,\n",
    "    min=1,\n",
    "    max=25,\n",
    "    step=1,\n",
    "    description='Zoom:',\n",
    "    disabled=False,\n",
    "    continuous_update=True,\n",
    "    orientation='horizontal',\n",
    "    readout=True,\n",
    "    readout_format='.1f'\n",
    ")\n",
    "\n",
    "# X-Axis\n",
    "x_location = widgets.FloatSlider(\n",
    "    value=3000,\n",
    "    min=1500,\n",
    "    max=4500,\n",
    "    step=100,\n",
    "    description='X Location:',\n",
    "    disabled=False,\n",
    "    continuous_update=True,\n",
    "    orientation='horizontal',\n",
    "    readout=True,\n",
    "    readout_format='.1f'\n",
    ")\n",
    "\n",
    "# Y-Axis\n",
    "\n",
    "y_location = widgets.FloatSlider(\n",
    "    value=3000,\n",
    "    min=1500,\n",
    "    max=4500,\n",
    "    step=100,\n",
    "    description='Y Location:',\n",
    "    disabled=False,\n",
    "    continuous_update=True,\n",
    "    orientation='horizontal',\n",
    "    readout=True,\n",
    "    readout_format='.1f'\n",
    ")\n",
    "\n",
    "#Z-Axis\n",
    "\n",
    "z_location = widgets.FloatSlider(\n",
    "    value=1000,\n",
    "    min=1000,\n",
    "    max=10000,\n",
    "    step=100,\n",
    "    description='Z Location:',\n",
    "    disabled=False,\n",
    "    continuous_update=True,\n",
    "    orientation='horizontal',\n",
    "    readout=True,\n",
    "    readout_format='.1f'\n",
    ")\n",
    "\n",
    "# Layers\n",
    "\n",
    "layers = [\n",
    "    widgets.Checkbox(\n",
    "        value=True,\n",
    "        description='Image',\n",
    "        disabled=False,\n",
    "        indent=False\n",
    "    ),\n",
    "    widgets.Checkbox(\n",
    "        value=True,\n",
    "        description='Segmentation',\n",
    "        disabled=False,\n",
    "        indent=False\n",
    "    ),\n",
    "]\n",
    "\n",
    "# add widget to change layout\n",
    "current_layout=widgets.ToggleButtons(\n",
    "    options=[\"xy\",\"yz\",\"xz\",\"4panel\",\"3d\"],                           \n",
    "    disabled=False,\n",
    "    value=\"3d\",\n",
    "    # layout=widgets.Layout(width='50%')\n",
    ")\n",
    "\n",
    "# Callback list\n",
    "\n",
    "def change_zoom_value(change):\n",
    "    with viewer.txn() as s:\n",
    "        s.crossSectionScale = change['new']\n",
    "\n",
    "def change_x_axis(change):\n",
    "    with viewer.txn() as s:\n",
    "        s.position[0] = change['new']\n",
    "        \n",
    "def change_y_axis(change):\n",
    "    with viewer.txn() as s:\n",
    "        s.position[1] = change['new']\n",
    "        \n",
    "def change_z_axis(change):\n",
    "    with viewer.txn() as s:\n",
    "        s.position[2] = change['new']\n",
    "        \n",
    "def change_layer(change):\n",
    "    layer_name = change.owner.description.lower()\n",
    "    with viewer.txn() as s:\n",
    "        layer = [l for l in s.layers if l.name == layer_name]\n",
    "        if len(layer) == 1:\n",
    "            layer[0].visible = change['new']\n",
    "            \n",
    "def layout_observer(change):\n",
    "    with viewer.txn() as s:\n",
    "        s.layout = change['new']\n",
    "        \n",
    "# Observers\n",
    "    \n",
    "zoom_slider.observe(change_zoom_value, 'value')\n",
    "x_location.observe(change_x_axis, 'value')\n",
    "y_location.observe(change_y_axis, 'value')\n",
    "z_location.observe(change_z_axis, 'value')\n",
    "\n",
    "for child in layers:\n",
    "    child.observe(change_layer, 'value')\n",
    "    \n",
    "current_layout.observe(layout_observer,'value')\n",
    "    \n",
    "# Display\n",
    "\n",
    "htmlIframe = '<iframe src=\"{}\" style=\"width:99%;height:98vh;\"></iframe>'.format(str(viewer))\n",
    "\n",
    "iframe_widget = widgets.HTML(value=htmlIframe,layout=widgets.Layout(width='100%',height='100%'))\n",
    "display(widgets.HBox(\n",
    "    children=[widgets.VBox([\n",
    "        get_header(\"Navigation\"),\n",
    "        zoom_slider,\n",
    "        x_location,\n",
    "        y_location,\n",
    "        z_location,\n",
    "        get_header(\"Layers\"),\n",
    "        *layers,\n",
    "        get_header(\"Layout\"),\n",
    "        current_layout\n",
    "    ],\n",
    "    layout=widgets.Layout(width='430px',height='100%')\n",
    "), iframe_widget]))\n"
   ]
  },
  {
   "cell_type": "markdown",
   "id": "7ba3b0b0-c2d2-4688-a006-dce871587df8",
   "metadata": {},
   "source": [
    "Stop the Neuroglancer web server, which invalidates any existing links to the Python-tied viewer, run the command in the cell below. "
   ]
  },
  {
   "cell_type": "code",
   "execution_count": null,
   "id": "65936341-ea85-4965-ab18-d07e82312e10",
   "metadata": {},
   "outputs": [],
   "source": [
    "neuroglancer.stop()"
   ]
  },
  {
   "cell_type": "code",
   "execution_count": null,
   "id": "3a7b5d4b-434b-4e12-8110-0fa40b4c37a2",
   "metadata": {},
   "outputs": [],
   "source": []
  }
 ],
 "metadata": {
  "kernelspec": {
   "display_name": "Python 3 (ipykernel)",
   "language": "python",
   "name": "python3"
  },
  "language_info": {
   "codemirror_mode": {
    "name": "ipython",
    "version": 3
   },
   "file_extension": ".py",
   "mimetype": "text/x-python",
   "name": "python",
   "nbconvert_exporter": "python",
   "pygments_lexer": "ipython3",
   "version": "3.9.13"
  }
 },
 "nbformat": 4,
 "nbformat_minor": 5
}
