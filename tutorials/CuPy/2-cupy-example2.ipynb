{
 "cells": [
  {
   "cell_type": "markdown",
   "id": "2c0f40e9-3dc8-4226-b9bc-31a21b9aa8f8",
   "metadata": {},
   "source": [
    "## Accelerating Python code with CuPy\n",
    "\n",
    "The example was used from [this website.](https://towardsdatascience.com/heres-how-to-use-cupy-to-make-numpy-700x-faster-4b920dda1f56)"
   ]
  },
  {
   "cell_type": "code",
   "execution_count": 1,
   "id": "af1bd8ce-90fc-43f1-b453-fabda7107da9",
   "metadata": {},
   "outputs": [],
   "source": [
    "import numpy as np\n",
    "import cupy as cp\n",
    "import time"
   ]
  },
  {
   "cell_type": "markdown",
   "id": "fa516796-a098-4df4-a493-2799e2ee695c",
   "metadata": {},
   "source": [
    "In the next cells, switching between Numpy and CuPy is as easy as replacing the Numpy `np` with CuPy’s `cp`.\n",
    "\n",
    "To measure the speed of creating the arrays, Python’s native time library was used:"
   ]
  },
  {
   "cell_type": "code",
   "execution_count": 2,
   "id": "fe420a55-05a5-4285-a485-cefa60e99d3b",
   "metadata": {},
   "outputs": [
    {
     "name": "stdout",
     "output_type": "stream",
     "text": [
      "2.289909839630127\n"
     ]
    }
   ],
   "source": [
    "### Numpy and CPU\n",
    "s = time.time()\n",
    "x_cpu = np.ones((1000,1000,1000))\n",
    "e = time.time()\n",
    "print(e - s)\n"
   ]
  },
  {
   "cell_type": "code",
   "execution_count": 3,
   "id": "2a0eb854-1c30-4b0f-a4b5-d727231b02f8",
   "metadata": {},
   "outputs": [
    {
     "name": "stdout",
     "output_type": "stream",
     "text": [
      "0.44948768615722656\n"
     ]
    }
   ],
   "source": [
    "### CuPy and GPU\n",
    "s = time.time()\n",
    "x_gpu = cp.ones((1000,1000,1000))\n",
    "cp.cuda.Stream.null.synchronize()\n",
    "e = time.time()\n",
    "print(e - s)"
   ]
  },
  {
   "cell_type": "markdown",
   "id": "9369f472-7813-4904-bc49-6d0a825d16ad",
   "metadata": {},
   "source": [
    "As it is seen in the cells above CuPy was much faster. Numpy created the array of 1 Billion 1’s in 2.4618 seconds while CuPy only took 1.08; that’s a 10.5X speedup!\n",
    "\n",
    "Now in the cells below there will be some mathematical operations done on the arrays. This time we’ll multiply the entire array by 5 and again check the speed of Numpy vs CuPy."
   ]
  },
  {
   "cell_type": "code",
   "execution_count": 4,
   "id": "6773b953-986a-453a-a4d4-54b5ad9f6276",
   "metadata": {},
   "outputs": [
    {
     "name": "stdout",
     "output_type": "stream",
     "text": [
      "1.083198070526123\n"
     ]
    }
   ],
   "source": [
    "### Numpy and CPU\n",
    "s = time.time()\n",
    "x_cpu *= 5\n",
    "e = time.time()\n",
    "print(e - s)"
   ]
  },
  {
   "cell_type": "code",
   "execution_count": 5,
   "id": "e266fa9f-8732-4bc6-aaa0-8053ca0dd1b7",
   "metadata": {},
   "outputs": [
    {
     "name": "stdout",
     "output_type": "stream",
     "text": [
      "0.3018193244934082\n"
     ]
    }
   ],
   "source": [
    "### CuPy and GPU\n",
    "s = time.time()\n",
    "x_gpu *= 5\n",
    "cp.cuda.Stream.null.synchronize()\n",
    "e = time.time()\n",
    "print(e - s)"
   ]
  },
  {
   "cell_type": "markdown",
   "id": "4c61a481-6e27-4554-b393-f3866774fe24",
   "metadata": {},
   "source": [
    "In the result, it was also clear that the CuPy is faster than Numpy.\n",
    "\n",
    "Now try working with multiple arrays and do a few operations. The code down below will do the following:\n",
    "1. Multiple the array by 5\n",
    "2. Multiple the array by itself\n",
    "3. Add the array to itself"
   ]
  },
  {
   "cell_type": "code",
   "execution_count": 6,
   "id": "1127e822-44d4-4be4-b6a8-2442da9995b5",
   "metadata": {},
   "outputs": [
    {
     "name": "stdout",
     "output_type": "stream",
     "text": [
      "3.253412961959839\n"
     ]
    }
   ],
   "source": [
    "### Numpy and CPU\n",
    "s = time.time()\n",
    "x_cpu *= 5\n",
    "x_cpu *= x_cpu\n",
    "x_cpu += x_cpu\n",
    "e = time.time()\n",
    "print(e - s)"
   ]
  },
  {
   "cell_type": "code",
   "execution_count": 7,
   "id": "6e9bdb88-547a-4b4a-b93e-93b9f77a250f",
   "metadata": {},
   "outputs": [
    {
     "name": "stdout",
     "output_type": "stream",
     "text": [
      "0.5709450244903564\n"
     ]
    }
   ],
   "source": [
    "### CuPy and GPU\n",
    "s = time.time()\n",
    "x_gpu *= 5\n",
    "x_gpu *= x_gpu\n",
    "x_gpu += x_gpu\n",
    "cp.cuda.Stream.null.synchronize()\n",
    "e = time.time()\n",
    "print(e - s)"
   ]
  }
 ],
 "metadata": {
  "kernelspec": {
   "display_name": "Python 3 (ipykernel)",
   "language": "python",
   "name": "python3"
  },
  "language_info": {
   "codemirror_mode": {
    "name": "ipython",
    "version": 3
   },
   "file_extension": ".py",
   "mimetype": "text/x-python",
   "name": "python",
   "nbconvert_exporter": "python",
   "pygments_lexer": "ipython3",
   "version": "3.9.13"
  }
 },
 "nbformat": 4,
 "nbformat_minor": 5
}
