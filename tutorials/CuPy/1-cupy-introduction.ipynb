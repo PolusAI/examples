{
 "cells": [
  {
   "cell_type": "markdown",
   "id": "a82111f5-68e2-4ae0-bae4-77edcf73996e",
   "metadata": {},
   "source": [
    "# CuPy Examples\n",
    "### Ways to use CuPy:\n",
    "\n",
    "1. A multidimensional array object, but stored in GPU memory.\n",
    "2. A ufunc system that follows broadcast rules, but executes in parallel on the GPU.\n",
    "3. A large library of array functions already implemented with CUDA.\n",
    "\n",
    "Example is from [here](https://carpentries-incubator.github.io/gpu-speedups/01_CuPy_and_Numba_on_the_GPU/index.html)"
   ]
  },
  {
   "cell_type": "code",
   "execution_count": null,
   "id": "be45d8f3-c221-4a8b-849b-7a47a9f75e9c",
   "metadata": {},
   "outputs": [],
   "source": [
    "import numpy as np\n",
    "import cupy as cp"
   ]
  },
  {
   "cell_type": "markdown",
   "id": "7d4b445d-f450-417e-8b75-f7f813cced84",
   "metadata": {},
   "source": [
    "CuPy acts as a drop-in replacement to run existing NumPy/SciPy code on NVIDIA CUDA or AMD ROCm platforms.\n",
    "\n",
    "The `cupy.ndarray` class is at the core of CuPy and is a replacement class for NumPy’s `numpy.ndarray`."
   ]
  },
  {
   "cell_type": "markdown",
   "id": "d35a73e6-9c59-4210-8939-ccbc73c5eb18",
   "metadata": {},
   "source": [
    "#### Move arrays to a device\n",
    "\n",
    "`cupy.asarray()` can be used to move a `numpy.ndarray`, a list, or any object that can be passed to `numpy.array()` to the current device:"
   ]
  },
  {
   "cell_type": "code",
   "execution_count": null,
   "id": "a5fe01d4-b7e2-4309-82ba-21267dadd6e6",
   "metadata": {},
   "outputs": [],
   "source": [
    "ary = cp.arange(10).reshape((2,5))\n",
    "print(repr(ary))\n",
    "print(ary.dtype)\n",
    "print(ary.shape)\n",
    "print(ary.strides)"
   ]
  },
  {
   "cell_type": "markdown",
   "id": "d8ea9d4f-39ba-481a-915e-5bc6c979ec95",
   "metadata": {},
   "source": [
    "In the cell below, it can be seen that is in the GPU memory of the default GPU (device 0). We can see this by inspecting the special device attribute:"
   ]
  },
  {
   "cell_type": "code",
   "execution_count": null,
   "id": "8b539d0c-81c3-49bd-bc0f-547e5838931b",
   "metadata": {},
   "outputs": [],
   "source": [
    "ary.device"
   ]
  },
  {
   "cell_type": "markdown",
   "id": "93e0c133-7394-48ac-adc6-5132d02142a5",
   "metadata": {},
   "source": [
    "The data can be moved from the CPU to the GPU using the `cp.asarray()` function:"
   ]
  },
  {
   "cell_type": "code",
   "execution_count": null,
   "id": "ac6fbab7-f934-4a09-bcd9-b960bcbcfa0e",
   "metadata": {},
   "outputs": [],
   "source": [
    "ary_cpu = np.arange(10)\n",
    "ary_gpu = cp.asarray(ary_cpu)\n",
    "print('cpu:', ary_cpu)\n",
    "print('gpu:', ary_gpu)\n",
    "print(ary_gpu.device)"
   ]
  },
  {
   "cell_type": "markdown",
   "id": "0d413dc8-e4fa-405b-a169-d9f59c19c537",
   "metadata": {},
   "source": [
    "If we are done with the data on the GPU, we can convert it back to a NumPy array on the CPU with the `cp.asnumpy()` function:"
   ]
  },
  {
   "cell_type": "code",
   "execution_count": null,
   "id": "0891761e-4eac-4864-8714-bd17a3b1eb25",
   "metadata": {},
   "outputs": [],
   "source": [
    "ary_cpu_returned = cp.asnumpy(ary_gpu)\n",
    "print(repr(ary_cpu_returned))\n",
    "print(type(ary_cpu_returned))"
   ]
  },
  {
   "cell_type": "markdown",
   "id": "a58a8529-fa64-471d-95f0-251e38578572",
   "metadata": {},
   "source": [
    "### GPU Array Math\n",
    "\n",
    "Most of the NumPy methods are supported in CuPy with identical function names and arguments. The example in the cell below shows how similar it can be to NumPy. "
   ]
  },
  {
   "cell_type": "code",
   "execution_count": null,
   "id": "8e35fa01-04ba-4292-914b-7f547bd48029",
   "metadata": {},
   "outputs": [],
   "source": [
    "print(ary_gpu * 2)\n",
    "print(cp.exp(-0.5 * ary_gpu**2))\n",
    "print(cp.linalg.norm(ary_gpu))\n",
    "print(cp.random.normal(loc=5, scale=2.0, size=10))"
   ]
  }
 ],
 "metadata": {
  "kernelspec": {
   "display_name": "Python 3 (ipykernel)",
   "language": "python",
   "name": "python3"
  },
  "language_info": {
   "codemirror_mode": {
    "name": "ipython",
    "version": 3
   },
   "file_extension": ".py",
   "mimetype": "text/x-python",
   "name": "python",
   "nbconvert_exporter": "python",
   "pygments_lexer": "ipython3",
   "version": "3.9.13"
  }
 },
 "nbformat": 4,
 "nbformat_minor": 5
}
