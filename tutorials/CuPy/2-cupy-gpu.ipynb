{
 "cells": [
  {
   "cell_type": "markdown",
   "id": "93911a40-1847-402a-9327-0084ee4c8280",
   "metadata": {},
   "source": [
    "### Check if GPU is used"
   ]
  },
  {
   "cell_type": "code",
   "execution_count": null,
   "id": "868a8b0b-ec01-4d23-94b8-7b54c6184e90",
   "metadata": {},
   "outputs": [],
   "source": [
    "import numpy as np\n",
    "import cupy "
   ]
  },
  {
   "cell_type": "markdown",
   "id": "174b4882-9040-408a-8934-f298359832a6",
   "metadata": {},
   "source": [
    "## GPU version"
   ]
  },
  {
   "cell_type": "code",
   "execution_count": null,
   "id": "4e917efe-77a3-437b-86a5-d420be1bcb28",
   "metadata": {},
   "outputs": [],
   "source": [
    "cupy.__version__"
   ]
  },
  {
   "cell_type": "markdown",
   "id": "2451ed33-f72d-4c4f-b1a5-180962b75996",
   "metadata": {},
   "source": [
    "### Current device \n",
    "\n",
    "Cells below check if CuPy is used in this system. "
   ]
  },
  {
   "cell_type": "markdown",
   "id": "9a881a68-1c01-4549-a362-49d6c3f6b0e0",
   "metadata": {},
   "source": [
    "#### The next two cells mean there are only one device that is used. \n",
    "\n",
    "CuPy has a concept of a “current device”, which is the current activated GPU device that will operate on an array or where future arrays will be allocated. Most of the time, if not explicitly declared or switched, the initial default device will be GPU 0. "
   ]
  },
  {
   "cell_type": "code",
   "execution_count": null,
   "id": "ef3631ee-2fef-458d-aaae-e68eb9192940",
   "metadata": {},
   "outputs": [],
   "source": [
    "cupy.cuda.Device()"
   ]
  },
  {
   "cell_type": "markdown",
   "id": "f1780774-1f0d-45da-9d28-33821b5595f8",
   "metadata": {},
   "source": [
    "Total number of devices Cuda can access"
   ]
  },
  {
   "cell_type": "code",
   "execution_count": null,
   "id": "314c3455-657d-44e3-91ad-84876c2f8970",
   "metadata": {},
   "outputs": [],
   "source": [
    "cupy.cuda.runtime.getDeviceCount()\n"
   ]
  },
  {
   "cell_type": "markdown",
   "id": "4c4d0adb-d58a-418c-9e49-593d4d6b3ea9",
   "metadata": {},
   "source": [
    "This cell tells the device properties that this GPU is using. "
   ]
  },
  {
   "cell_type": "code",
   "execution_count": null,
   "id": "e4cc10b6-2a4f-45e8-8403-b32be9a1e6e7",
   "metadata": {},
   "outputs": [],
   "source": [
    "cupy.cuda.runtime.getDeviceProperties(0)"
   ]
  }
 ],
 "metadata": {
  "kernelspec": {
   "display_name": "Python 3 (ipykernel)",
   "language": "python",
   "name": "python3"
  },
  "language_info": {
   "codemirror_mode": {
    "name": "ipython",
    "version": 3
   },
   "file_extension": ".py",
   "mimetype": "text/x-python",
   "name": "python",
   "nbconvert_exporter": "python",
   "pygments_lexer": "ipython3",
   "version": "3.9.13"
  }
 },
 "nbformat": 4,
 "nbformat_minor": 5
}
