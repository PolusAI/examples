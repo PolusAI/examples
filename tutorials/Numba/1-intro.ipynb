{
 "cells": [
  {
   "cell_type": "markdown",
   "id": "809eaac9-b6ba-46c8-9c50-68f7b0576906",
   "metadata": {},
   "source": [
    "## Load Libraries\n",
    "\n",
    "Numba is often used as a core package so its dependencies are kept to an absolute minimum. Basically you write your “normal” Python function, and then add a decorator to the function definition. \n",
    "However, extra packages can be installed as follows to provide additional functionality:\n",
    "\n",
    "- ```scipy``` - enables support for compiling numpy.linalg functions.\n",
    "- ```colorama``` - enables support for color highlighting in backtraces/error messages.\n",
    "- ```pyyaml``` - enables configuration of Numba via a YAML config file.\n",
    "- ```icc_rt``` - allows the use of the Intel SVML (high performance short vector math library, x86_64 only). Installation instructions are in the performance tips.\n"
   ]
  },
  {
   "cell_type": "code",
   "execution_count": 1,
   "id": "7e78c6b5-5cc4-4fb5-830d-8a0fe8185434",
   "metadata": {},
   "outputs": [],
   "source": [
    "import numba"
   ]
  },
  {
   "cell_type": "code",
   "execution_count": 2,
   "id": "030c2433-9b56-4e08-babd-74a42021b2d5",
   "metadata": {},
   "outputs": [],
   "source": [
    "from numba import jit\n",
    "import numpy as np"
   ]
  },
  {
   "cell_type": "markdown",
   "id": "be0a2c4c-5b62-4224-93f8-faf4f8fe9767",
   "metadata": {},
   "source": [
    "# What is nopython mode?\n",
    "\n",
    "The Numba ```@jit``` decorator fundamentally operates in two compilation modes, ```nopython``` mode (how to load it is in the cell above) and ```object``` mode. The behaviour of the ```nopython``` compilation mode is to essentially compile the decorated function so that it will run entirely without the involvement of the Python interpreter. This is the recommended and best-practice way to use the Numba ```jit``` decorator as it leads to the best performance.\n",
    "\n",
    "Should the compilation in ```nopython``` mode fail (how to load is in the cell below), Numba can compile using object mode, this is a fall back mode for the ```@jit``` decorator if ```nopython=True``` is not set. In this mode Numba will identify loops that it can compile and compile those into functions that run in machine code, and it will run the rest of the code in the interpreter. For best performance avoid using this mode."
   ]
  },
  {
   "cell_type": "code",
   "execution_count": 3,
   "id": "72a35a96-4e47-4558-b34f-14651f7d00a5",
   "metadata": {},
   "outputs": [],
   "source": [
    "from numba import jit\n",
    "import pandas as pd"
   ]
  }
 ],
 "metadata": {
  "kernelspec": {
   "display_name": "Python Data Science 0.1.5",
   "language": "python",
   "name": "python-data-science"
  },
  "language_info": {
   "codemirror_mode": {
    "name": "ipython",
    "version": 3
   },
   "file_extension": ".py",
   "mimetype": "text/x-python",
   "name": "python",
   "nbconvert_exporter": "python",
   "pygments_lexer": "ipython3",
   "version": "3.9.13"
  }
 },
 "nbformat": 4,
 "nbformat_minor": 5
}
