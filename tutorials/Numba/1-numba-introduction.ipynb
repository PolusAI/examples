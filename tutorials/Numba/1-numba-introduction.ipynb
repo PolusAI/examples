{
 "cells": [
  {
   "cell_type": "markdown",
   "id": "f7da2a3f-fd91-4686-b022-2c9704ff59d8",
   "metadata": {},
   "source": [
    "# Accelerating Pure Python code with Numba"
   ]
  },
  {
   "cell_type": "code",
   "execution_count": null,
   "id": "ff4dda04-9d77-4fc5-a724-23c20926cae5",
   "metadata": {},
   "outputs": [],
   "source": [
    "import numpy as np\n",
    "import matplotlib.pyplot as plt\n",
    "%matplotlib inline\n",
    "size = 400\n",
    "iterations = 100"
   ]
  },
  {
   "cell_type": "markdown",
   "id": "7786ee7c-23ba-4687-a409-af409309e713",
   "metadata": {},
   "source": [
    "The following function generates a fractal in pure Python. It accepts an empty array m as argument."
   ]
  },
  {
   "cell_type": "code",
   "execution_count": null,
   "id": "0be42d8f-5139-415d-b8b3-5827bc4381a7",
   "metadata": {},
   "outputs": [],
   "source": [
    "def mandelbrot_python(size, iterations):\n",
    "    m = np.zeros((size, size))\n",
    "    for i in range(size):\n",
    "        for j in range(size):\n",
    "            c = (-2 + 3. / size * j +\n",
    "                 1j * (1.5 - 3. / size * i))\n",
    "            z = 0\n",
    "            for n in range(iterations):\n",
    "                if np.abs(z) <= 10:\n",
    "                    z = z * z + c\n",
    "                    m[i, j] = n\n",
    "                else:\n",
    "                    break\n",
    "    return m"
   ]
  },
  {
   "cell_type": "markdown",
   "id": "ac508762-9214-4d9a-b0b7-0d66306d77b9",
   "metadata": {},
   "source": [
    "This cell runs the simulation and display the fractal"
   ]
  },
  {
   "cell_type": "code",
   "execution_count": null,
   "id": "e85140e9-80cb-4a04-960e-e98e7021f2f0",
   "metadata": {},
   "outputs": [],
   "source": [
    "m = mandelbrot_python(size, iterations)\n",
    "fig, ax = plt.subplots(1, 1, figsize=(10, 10))\n",
    "ax.imshow(np.log(m), cmap=plt.cm.hot)\n",
    "ax.set_axis_off()"
   ]
  },
  {
   "cell_type": "markdown",
   "id": "f30cff2e-c3b9-4181-b433-c9bb455db4bc",
   "metadata": {},
   "source": [
    "This evaluates the time taken by the function above without Numba:"
   ]
  },
  {
   "cell_type": "code",
   "execution_count": null,
   "id": "8a06ca94-eae4-4a6a-b993-213b8775eb1e",
   "metadata": {},
   "outputs": [],
   "source": [
    "%timeit mandelbrot_python(size, iterations)\n",
    "# The result shoudl be about 5.45 s ± 18.6 ms per loop (mean ± std. dev. of 7 runs, 1 loop each)"
   ]
  },
  {
   "cell_type": "markdown",
   "metadata": {},
   "source": [
    "### Accelerating python code using the @jit decorator"
   ]
  },
  {
   "cell_type": "markdown",
   "id": "e9090ffb-76bd-4b98-a2f9-5ee10a5b82d5",
   "metadata": {},
   "source": [
    "Now try to accelerate this function using Numba. First, we import the package:"
   ]
  },
  {
   "cell_type": "code",
   "execution_count": null,
   "id": "73344779-538d-4d44-8e56-24301d63b525",
   "metadata": {},
   "outputs": [],
   "source": [
    "from numba import jit"
   ]
  },
  {
   "cell_type": "markdown",
   "id": "877666bf-4cce-4072-86a3-4f500c2731a8",
   "metadata": {},
   "source": [
    " Next, we add the @jit decorator (this decorator is used when the code is numerically orientated, involves a lot of math, uses NumPy a lot and/or has a lot of loops) right above the function definition, without changing a single line of code in the body of the function:"
   ]
  },
  {
   "cell_type": "code",
   "execution_count": null,
   "id": "5fd297f9-0fbd-482f-b1bf-76b1c4b7d1d1",
   "metadata": {},
   "outputs": [],
   "source": [
    "@jit\n",
    "def mandelbrot_numba(size, iterations):\n",
    "    m = np.zeros((size, size))\n",
    "    for i in range(size):\n",
    "        for j in range(size):\n",
    "            c = (-2 + 3. / size * j +\n",
    "                 1j * (1.5 - 3. / size * i))\n",
    "            z = 0\n",
    "            for n in range(iterations):\n",
    "                if np.abs(z) <= 10:\n",
    "                    z = z * z + c\n",
    "                    m[i, j] = n\n",
    "                else:\n",
    "                    break\n",
    "    return m"
   ]
  },
  {
   "cell_type": "markdown",
   "id": "6f8cbd0c-6428-43e4-9e3f-f1c740ec0e67",
   "metadata": {},
   "source": [
    "Now let's evaluate the time taken by the function above using Numba"
   ]
  },
  {
   "cell_type": "code",
   "execution_count": null,
   "id": "3410412e-326e-4179-a00f-046fe65de2dd",
   "metadata": {},
   "outputs": [],
   "source": [
    "mandelbrot_numba(size, iterations)\n",
    "%timeit mandelbrot_numba(size, iterations)"
   ]
  },
  {
   "cell_type": "markdown",
   "id": "f58f6c1b-bf28-44b1-ae2e-fb5fa929ac4b",
   "metadata": {},
   "source": [
    "The Numba version is about 150 times faster than the pure Python version here!"
   ]
  }
 ],
 "metadata": {
  "kernelspec": {
   "display_name": "Python Data Science 0.1.5",
   "language": "python",
   "name": "python-data-science"
  },
  "language_info": {
   "codemirror_mode": {
    "name": "ipython",
    "version": 3
   },
   "file_extension": ".py",
   "mimetype": "text/x-python",
   "name": "python",
   "nbconvert_exporter": "python",
   "pygments_lexer": "ipython3",
   "version": "3.9.13"
  }
 },
 "nbformat": 4,
 "nbformat_minor": 5
}
