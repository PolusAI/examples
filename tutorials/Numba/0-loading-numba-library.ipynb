{
 "cells": [
  {
   "cell_type": "code",
   "execution_count": 1,
   "id": "76e0b607-59e6-4358-9af3-c5447b0939c2",
   "metadata": {},
   "outputs": [],
   "source": [
    "import numba"
   ]
  },
  {
   "cell_type": "markdown",
   "id": "e915c634-68c9-4665-977d-80afde762150",
   "metadata": {},
   "source": [
    "## Numba Library Version\n",
    "\n",
    "To Check libary version, code in the cell below."
   ]
  },
  {
   "cell_type": "code",
   "execution_count": 2,
   "id": "bb8b7aa7-be2f-492b-8ab3-7aba1e1c2bf4",
   "metadata": {},
   "outputs": [
    {
     "name": "stdout",
     "output_type": "stream",
     "text": [
      "0.56.2\n"
     ]
    }
   ],
   "source": [
    "print(numba.__version__)"
   ]
  },
  {
   "cell_type": "markdown",
   "id": "d46eaecb-606f-496d-9ced-ee0f5083f5ce",
   "metadata": {},
   "source": [
    "## Check if it's running on GPU\n",
    "\n",
    "If you do have a CUDA-enabled GPU on your system, you should see a message like:\n",
    "```<Managed Device 0>```"
   ]
  },
  {
   "cell_type": "code",
   "execution_count": 3,
   "id": "f6400d7b-e62b-401a-8534-90f49ec72e9e",
   "metadata": {},
   "outputs": [
    {
     "name": "stdout",
     "output_type": "stream",
     "text": [
      "<Managed Device 0>\n"
     ]
    }
   ],
   "source": [
    "from numba import cuda\n",
    "print(cuda.gpus)"
   ]
  }
 ],
 "metadata": {
  "kernelspec": {
   "display_name": "Python Data Science 0.1.5",
   "language": "python",
   "name": "python-data-science"
  },
  "language_info": {
   "codemirror_mode": {
    "name": "ipython",
    "version": 3
   },
   "file_extension": ".py",
   "mimetype": "text/x-python",
   "name": "python",
   "nbconvert_exporter": "python",
   "pygments_lexer": "ipython3",
   "version": "3.9.13"
  }
 },
 "nbformat": 4,
 "nbformat_minor": 5
}
