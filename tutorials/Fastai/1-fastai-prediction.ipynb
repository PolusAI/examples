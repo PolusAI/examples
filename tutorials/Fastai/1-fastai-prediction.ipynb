{
 "cells": [
  {
   "cell_type": "markdown",
   "id": "04f89cd0-839a-4cfa-bb6d-c1b6453d6624",
   "metadata": {},
   "source": [
    "# Pet Breeds Example\n",
    "\n",
    "[Source](https://github.com/fastai/fastbook/blob/master/05_pet_breeds.ipynb)"
   ]
  },
  {
   "cell_type": "code",
   "execution_count": null,
   "id": "8e19acf0-9a3c-4b12-92da-a4bf78a3a6da",
   "metadata": {},
   "outputs": [],
   "source": [
    "import fastai\n",
    "from fastai.vision.all import *\n",
    "path = untar_data(URLs.PETS)"
   ]
  },
  {
   "cell_type": "code",
   "execution_count": null,
   "id": "59299296-92fa-4bd1-bbe0-4d9c0817928b",
   "metadata": {},
   "outputs": [],
   "source": [
    "Path.BASE_PATH = path"
   ]
  },
  {
   "cell_type": "code",
   "execution_count": null,
   "id": "951ea094-4b68-4fca-a9b0-20100412c2d4",
   "metadata": {},
   "outputs": [],
   "source": [
    "path.ls()"
   ]
  },
  {
   "cell_type": "code",
   "execution_count": null,
   "id": "21a2c775-27ea-4a58-a665-1d4b987ae26b",
   "metadata": {},
   "outputs": [],
   "source": [
    "import warnings\n",
    "warnings.filterwarnings(\"ignore\")"
   ]
  },
  {
   "cell_type": "code",
   "execution_count": null,
   "id": "74ffb5ff-e85f-4312-918e-4a7c359d3d29",
   "metadata": {},
   "outputs": [],
   "source": [
    "torch.backends.cudnn.benchmark = True"
   ]
  },
  {
   "cell_type": "code",
   "execution_count": null,
   "id": "8a15665f-d313-421e-97e2-1e78daead047",
   "metadata": {},
   "outputs": [],
   "source": [
    "def get_dls(bs, workers=None):\n",
    "    path = untar_data(URLs.PETS)\n",
    "    #source = untar_data(path)\n",
    "    if workers is None: workers = min(8, num_cpus())\n",
    "    batch_tfms = [aug_transforms(size=224, min_scale=0.75)]\n",
    "    dblock = DataBlock(blocks = (ImageBlock, CategoryBlock),\n",
    "                       get_items=get_image_files, \n",
    "                       splitter=RandomSplitter(seed=42),\n",
    "                       get_y=using_attr(RegexLabeller(r'(.+)_\\d+.jpg$'), 'name'),\n",
    "                       item_tfms=Resize(460),\n",
    "                       batch_tfms=aug_transforms(size=224, min_scale=0.75))\n",
    "    return dblock.dataloaders(path/\"images\", bs=bs, num_workers=workers)"
   ]
  },
  {
   "cell_type": "code",
   "execution_count": null,
   "metadata": {},
   "outputs": [],
   "source": [
    "# define the main function as a Jupyter cell\n",
    "\n",
    "gpu = None  # set GPU to None for CPU usage\n",
    "bs = 64 # batch size\n",
    "arch = resnet34 # model architechture\n",
    "runs = 1 # epochs\n",
    "\n",
    "# gpu = setup_distrib(gpu)\n",
    "if gpu is not None: torch.cuda.set_device(gpu)\n",
    "\n",
    "dls = get_dls(bs)\n",
    "\n",
    "for run in range(runs):\n",
    "    print(f'Run: {run}')\n",
    "\n",
    "    learn = cnn_learner(dls, arch, metrics=error_rate).to_fp16()\n",
    "\n",
    "    print(\"Training in CPU/GPU context\")\n",
    "    learn.fine_tune(2)"
   ]
  },
  {
   "cell_type": "code",
   "execution_count": null,
   "metadata": {},
   "outputs": [],
   "source": [
    "# display results, e.g., confusion matrix\n",
    "interp = ClassificationInterpretation.from_learner(learn)\n",
    "interp.plot_confusion_matrix()"
   ]
  }
 ],
 "metadata": {
  "kernelspec": {
   "display_name": "base",
   "language": "python",
   "name": "python3"
  },
  "language_info": {
   "codemirror_mode": {
    "name": "ipython",
    "version": 3
   },
   "file_extension": ".py",
   "mimetype": "text/x-python",
   "name": "python",
   "nbconvert_exporter": "python",
   "pygments_lexer": "ipython3",
   "version": "3.11.4"
  }
 },
 "nbformat": 4,
 "nbformat_minor": 5
}
