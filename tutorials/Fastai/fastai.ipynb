{
 "cells": [
  {
   "cell_type": "code",
   "execution_count": 1,
   "id": "144e86a6-2480-4fe6-9601-aaf6a7d21a5e",
   "metadata": {},
   "outputs": [],
   "source": [
    "import fastai"
   ]
  },
  {
   "cell_type": "code",
   "execution_count": 2,
   "id": "eebb40d1-dfe2-4277-b9f1-d1210b6ac9b1",
   "metadata": {},
   "outputs": [],
   "source": [
    "from fastai.vision.all import *\n",
    "from fastai.text.all import *\n",
    "from fastai.collab import *\n",
    "from fastai.tabular.all import *"
   ]
  },
  {
   "cell_type": "markdown",
   "id": "c0dff5be-5c21-4991-b9c8-b603ccec9c6c",
   "metadata": {
    "tags": []
   },
   "source": [
    "## Load Library\n",
    "\n",
    "Code above is to help user to start the fastai.\n",
    "\n",
    "fastai's applications all use the same basic steps and code:\n",
    "\n",
    "- Create appropriate ```DataLoaders```\n",
    "- Create a ```Learner```\n",
    "- Call a <em>fit</em> method\n",
    "- Make predictions or view results.\n",
    "\n",
    "\n",
    "# Tests\n",
    "To run the tests in parallel, launch:\n",
    "```nbdev_test``` \n",
    "\n",
    "For all the tests to pass, you'll need to install the dependencies specified as part of dev_requirements.\n",
    "\n",
    "```pip install -e .[dev]```\n",
    "\n",
    "Tests are written using ```nbdev```"
   ]
  },
  {
   "cell_type": "code",
   "execution_count": null,
   "id": "4570fa44-2c6a-4062-a8ce-87368ea5260b",
   "metadata": {},
   "outputs": [],
   "source": []
  }
 ],
 "metadata": {
  "kernelspec": {
   "display_name": "Python Data Science 0.1.5",
   "language": "python",
   "name": "python-data-science"
  },
  "language_info": {
   "codemirror_mode": {
    "name": "ipython",
    "version": 3
   },
   "file_extension": ".py",
   "mimetype": "text/x-python",
   "name": "python",
   "nbconvert_exporter": "python",
   "pygments_lexer": "ipython3",
   "version": "3.9.13"
  }
 },
 "nbformat": 4,
 "nbformat_minor": 5
}
