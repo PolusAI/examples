{
 "cells": [
  {
   "cell_type": "markdown",
   "metadata": {},
   "source": [
    "This notebook demonstrates the ability to reuse Solara `.py` code inside a Jupyter notebook.\n",
    "\n",
    "The assumption is that the steps outlined in **instructions.ipynb** have been followed prior to creation of this notebook.\n"
   ]
  },
  {
   "cell_type": "markdown",
   "metadata": {},
   "source": [
    "Select your virtual environment (e.g.`test-env`) kernel. Then run the following cell to display the `Page()` component from `sol.py`."
   ]
  },
  {
   "cell_type": "code",
   "execution_count": 1,
   "metadata": {},
   "outputs": [
    {
     "data": {
      "application/javascript": "\nconst prevIframe = document.getElementById(\"solara-jupyter-check\");\nif(prevIframe)\n    prevIframe.remove();\nconst iframe = document.createElement('iframe')\niframe.setAttribute(\"src\", \"https://solara.dev/static/public/success.html?check=purejs\");\niframe.style.width = \"0px\";\niframe.style.height = \"0px\";\niframe.style.display = \"none\";\niframe.id = \"solara-jupyter-check\";\ndocument.body.appendChild(iframe);\n            ",
      "text/plain": [
       "<IPython.core.display.Javascript object>"
      ]
     },
     "metadata": {},
     "output_type": "display_data"
    },
    {
     "data": {
      "application/javascript": "\nconst prevIframe = document.getElementById(\"solara-jupyter-check\");\nif(prevIframe)\n    prevIframe.remove();\nconst iframe = document.createElement('iframe')\niframe.setAttribute(\"src\", \"https://solara.dev/static/public/success.html?check=purejs\");\niframe.style.width = \"0px\";\niframe.style.height = \"0px\";\niframe.style.display = \"none\";\niframe.id = \"solara-jupyter-check\";\ndocument.body.appendChild(iframe);\n            ",
      "text/plain": [
       "<IPython.core.display.Javascript object>"
      ]
     },
     "metadata": {},
     "output_type": "display_data"
    },
    {
     "data": {
      "application/vnd.jupyter.widget-view+json": {
       "model_id": "ca948d0d5b1946868fdd0454dcd3dfb1",
       "version_major": 2,
       "version_minor": 0
      },
      "text/html": [
       "Cannot show widget. You probably want to rerun the code cell above (<i>Click in the code cell, and press Shift+Enter <kbd>⇧</kbd>+<kbd>↩</kbd></i>)."
      ],
      "text/plain": [
       "Cannot show ipywidgets in text"
      ]
     },
     "metadata": {},
     "output_type": "display_data"
    }
   ],
   "source": [
    "from sol import Page\n",
    "display(Page())"
   ]
  }
 ],
 "metadata": {
  "kernelspec": {
   "display_name": "python-data-science-0.1.8",
   "language": "python",
   "name": "python3"
  },
  "language_info": {
   "codemirror_mode": {
    "name": "ipython",
    "version": 3
   },
   "file_extension": ".py",
   "mimetype": "text/x-python",
   "name": "python",
   "nbconvert_exporter": "python",
   "pygments_lexer": "ipython3",
   "version": "3.9.12"
  },
  "orig_nbformat": 4
 },
 "nbformat": 4,
 "nbformat_minor": 2
}
