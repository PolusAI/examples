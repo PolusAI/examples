{
 "cells": [
  {
   "cell_type": "markdown",
   "metadata": {},
   "source": [
    "# Using Streamlit and Solara inside Notebooks Hub!"
   ]
  },
  {
   "cell_type": "markdown",
   "metadata": {},
   "source": [
    "**Objective:** This workshop is to teach users to create an example Streamlit and Solara application using Notebooks Hub.\n",
    "\n",
    "**Task:** Users will create an application generating a scatter plot of a sample dataset (`iris`) or by uploading their own file.\n"
   ]
  },
  {
   "cell_type": "markdown",
   "metadata": {},
   "source": [
    "## Setup"
   ]
  },
  {
   "cell_type": "markdown",
   "metadata": {},
   "source": [
    "### Launch VS Code Instance using Notebooks Hub"
   ]
  },
  {
   "cell_type": "markdown",
   "metadata": {},
   "source": [
    "For documentation on Notebooks Hub, visit [here](https://polusai.github.io/notebooks-hub/index.html).\n",
    "\n",
    "- Open Notebooks Hub: [login here](https://notebooks.scb-ncats.io/home)\n",
    "- Launch VS Code\n",
    "    - Method 1: Quick launch\n",
    "    - Method 2: Create new instance\n",
    "        - Go to **Servers** tab\n",
    "        - Select **Create New Server** to load wizard\n",
    "        - Select **Select Dashboard** tab to pick appropriate type\n",
    "        - Select **Select File/Folder**\n",
    "        - Navigate to `.py` file\n",
    "        - Select appropriate hardware (**Shared Medium** is generally sufficient)\n",
    "        - Select appropriate dependencies module (load none, a custom environment, or `python-data-science-0.1.8`) \n",
    "        - Add server metadata details\n",
    "        - Check **Launch** box\n",
    "        - Click **Create Server** button"
   ]
  },
  {
   "cell_type": "markdown",
   "metadata": {},
   "source": [
    "### Create Virtual Environment"
   ]
  },
  {
   "cell_type": "markdown",
   "metadata": {},
   "source": [
    "- Open/add `work` folder to workspace\n",
    "- Create virtual environment using terminal using the following steps"
   ]
  },
  {
   "cell_type": "markdown",
   "metadata": {},
   "source": [
    "1. Create virtual environment `test-env`"
   ]
  },
  {
   "cell_type": "code",
   "execution_count": null,
   "metadata": {},
   "outputs": [],
   "source": [
    "python -m venv test-env"
   ]
  },
  {
   "cell_type": "markdown",
   "metadata": {},
   "source": [
    "2. Activate virtual environment `test-env`"
   ]
  },
  {
   "cell_type": "code",
   "execution_count": null,
   "metadata": {},
   "outputs": [],
   "source": [
    "source ./test-env/bin/activate"
   ]
  },
  {
   "cell_type": "markdown",
   "metadata": {},
   "source": [
    "3. Install necessary packages inside `test-env`"
   ]
  },
  {
   "cell_type": "code",
   "execution_count": null,
   "metadata": {},
   "outputs": [],
   "source": [
    "pip install solara plotly pandas        # for solara\n",
    "pip install streamlit                   # for streamlit, also install plotly and pandas if not installing solara"
   ]
  },
  {
   "cell_type": "markdown",
   "metadata": {},
   "source": [
    "### Create Help File For Prefix Extraction (Solara Only)"
   ]
  },
  {
   "cell_type": "markdown",
   "metadata": {},
   "source": [
    "- Create new file named `prefix.py`\n",
    "- Add the following code:"
   ]
  },
  {
   "cell_type": "code",
   "execution_count": null,
   "metadata": {},
   "outputs": [],
   "source": [
    "# simple automated script for proper port forwarding of Solara app when launched inside Notebooks Hub VSCode instance\n",
    "import os\n",
    "\n",
    "# extract jupyterhub service prefix and modify for solara service prefix\n",
    "jhsp = os.environ['JUPYTERHUB_SERVICE_PREFIX']\n",
    "ssp = jhsp + 'proxy/8765'\n",
    "\n",
    "# output the desired path to use\n",
    "print(ssp)"
   ]
  },
  {
   "cell_type": "markdown",
   "metadata": {},
   "source": [
    "## Solara"
   ]
  },
  {
   "cell_type": "markdown",
   "metadata": {},
   "source": [
    "For documentation on Solara, visit the [official site](https://solara.dev/api) or the [Notebooks Hub documentation](https://polusai.github.io/notebooks-hub/user/solara-intro.html#)."
   ]
  },
  {
   "cell_type": "markdown",
   "metadata": {},
   "source": [
    "### Create App"
   ]
  },
  {
   "cell_type": "markdown",
   "metadata": {},
   "source": [
    "- Create new file named `sol.py` (rename as desired)\n",
    "- Add code to `sol.py`"
   ]
  },
  {
   "cell_type": "markdown",
   "metadata": {},
   "source": [
    "The following code was used in the workshop:"
   ]
  },
  {
   "cell_type": "code",
   "execution_count": null,
   "metadata": {},
   "outputs": [],
   "source": [
    "# import dependencies\n",
    "import solara\n",
    "import plotly.express as px\n",
    "import pandas as pd\n",
    "from typing import Optional, cast\n",
    "from solara.components.file_drop import FileDrop\n",
    "\n",
    "# load sample dataset\n",
    "df_sample = px.data.iris()\n",
    "\n",
    "# state management\n",
    "class State:\n",
    "    # set reactive variables to use with widgets\n",
    "    color = solara.reactive(cast(Optional[str], None))\n",
    "    x = solara.reactive(cast(Optional[str], None))\n",
    "    y = solara.reactive(cast(Optional[str], None))\n",
    "    df = solara.reactive(cast(Optional[pd.DataFrame], None))\n",
    "\n",
    "    # assign initial values when loading sample dataset\n",
    "    @staticmethod\n",
    "    def load_sample():\n",
    "        State.x.value = str(\"sepal_length\")\n",
    "        State.y.value = str(\"sepal_width\")\n",
    "        State.color.value = str(\"species\")\n",
    "        State.df.value = df_sample\n",
    "    \n",
    "    # assign initial values when uploading custom dataset\n",
    "    @staticmethod\n",
    "    def load_from_file(file):\n",
    "        df = pd.read_csv(file[\"file_obj\"])\n",
    "        State.x.value = str(df.column[0])\n",
    "        State.y.value = str(df.column[1])\n",
    "        State.color.value = str(df.column[2])\n",
    "        State.df.value = df\n",
    "    \n",
    "    # clear stored dataframe upon reset\n",
    "    @staticmethod\n",
    "    def reset():\n",
    "        State.df.value = None\n",
    "\n",
    "# define app's main component\n",
    "@solara.component\n",
    "def Page():\n",
    "    # initialize variable from state\n",
    "    df = State.df.value\n",
    "\n",
    "    # name app\n",
    "    with solara.AppBarTitle():\n",
    "        solara.Text(\"Solara Demo\")\n",
    "    \n",
    "    # create sidebar panel\n",
    "    with solara.Sidebar():\n",
    "        with solara.Column():\n",
    "            # put buttons in a row\n",
    "            with solara.Row():\n",
    "                solara.Button(\"Sample dataset\", color=\"primary\", text=True, outlined=True, on_click=State.load_sample, disabled=df is not None)\n",
    "                solara.Button(\"Clear dataset\", color=\"primary\", text=True, outlined=True, on_click=State.reset)\n",
    "            FileDrop(on_file=State.load_from_file, on_total_progress=lambda *args: None, label=\"Drag file here\")\n",
    "        # put selection widgets in a column inside sidebar panel\n",
    "        if df is not None:\n",
    "            columns = list(map(str, df.columns))\n",
    "            solara.Select(\"X-axis\", values=columns, value=State.x)\n",
    "            solara.Select(\"Y-axis\", values=columns, value=State.y)\n",
    "            solara.Select(\"Color\", values=columns, value=State.color)\n",
    "    \n",
    "    # create scatter plot\n",
    "    if df is not None:\n",
    "        if State.x.value and State.y.value:\n",
    "            fig = px.scatter(\n",
    "                df,\n",
    "                State.x.value,\n",
    "                State.y.value,\n",
    "                color = State.color.value\n",
    "            )\n",
    "            solara.FigurePlotly(fig)\n",
    "            solara.DataFrame(df, items_per_page=10)\n",
    "        else:\n",
    "            solara.Warning(\"Select x and y axes\")\n",
    "    else:\n",
    "        solara.Info(\"No data loaded\")\n",
    "\n",
    "# app layout\n",
    "@solara.component\n",
    "def Layout(children):\n",
    "    route, routes = solara.use_route()\n",
    "    return solara.AppLayout(children=children)"
   ]
  },
  {
   "cell_type": "markdown",
   "metadata": {},
   "source": [
    "### Launch App using Terminal"
   ]
  },
  {
   "cell_type": "markdown",
   "metadata": {},
   "source": [
    "#### Extract prefix from help file created during setup"
   ]
  },
  {
   "cell_type": "markdown",
   "metadata": {},
   "source": [
    "- Inside terminal, run the following line to output identifier (similar to `/user/<email-id>/<server-ID>/proxy/8765`)"
   ]
  },
  {
   "cell_type": "code",
   "execution_count": null,
   "metadata": {},
   "outputs": [],
   "source": [
    "python prefix.py"
   ]
  },
  {
   "cell_type": "markdown",
   "metadata": {},
   "source": [
    "#### Assign Solara App Variables"
   ]
  },
  {
   "cell_type": "markdown",
   "metadata": {},
   "source": [
    "- Inside terminal, assign Solara variables (when launch inside VS Code only, this is baked into launching Solara as dashboard app)"
   ]
  },
  {
   "cell_type": "code",
   "execution_count": null,
   "metadata": {},
   "outputs": [],
   "source": [
    "export SOLARA_SERVICE_PREFIX=<ssp>       # replace `<ssp>` with the output from `python prefix.py`"
   ]
  },
  {
   "cell_type": "code",
   "execution_count": null,
   "metadata": {},
   "outputs": [],
   "source": [
    "export SOLARA_APP=sol.py                # replace `sol.py` with desired app filename if renamed"
   ]
  },
  {
   "cell_type": "markdown",
   "metadata": {},
   "source": [
    "#### Launch Solara App"
   ]
  },
  {
   "cell_type": "markdown",
   "metadata": {},
   "source": [
    "- Inside terminal, run the following line to launch Solara app with starlette using ASGI server uvicorn"
   ]
  },
  {
   "cell_type": "code",
   "execution_count": null,
   "metadata": {},
   "outputs": [],
   "source": [
    "SOLARA_APP=$SOLARA_APP uvicorn --workers 1 --root-path $SOLARA_SERVICE_PREFIX --host 0.0.0.0 --port 8765 solara.server.starlette:app"
   ]
  },
  {
   "cell_type": "markdown",
   "metadata": {},
   "source": [
    "#### Exit App"
   ]
  },
  {
   "cell_type": "markdown",
   "metadata": {},
   "source": [
    "- To exit, type `Ctrl-C` inside the terminal"
   ]
  },
  {
   "cell_type": "markdown",
   "metadata": {},
   "source": [
    "### Import App Components Into Jupyter Notebook"
   ]
  },
  {
   "cell_type": "markdown",
   "metadata": {},
   "source": [
    "- Create new Jupyter notebook named `sol_nb.ipynb` (rename as desired)\n",
    "- Select `test-env` kernel\n",
    "- Create code cell and import desired Solara component from `sol.py`"
   ]
  },
  {
   "cell_type": "code",
   "execution_count": null,
   "metadata": {},
   "outputs": [],
   "source": [
    "from sol import Page        # do not add .py extension here"
   ]
  },
  {
   "cell_type": "markdown",
   "metadata": {},
   "source": [
    "- display imported component using `display()`"
   ]
  },
  {
   "cell_type": "code",
   "execution_count": null,
   "metadata": {},
   "outputs": [],
   "source": [
    "display(Page())"
   ]
  },
  {
   "cell_type": "markdown",
   "metadata": {},
   "source": [
    "## Streamlit"
   ]
  },
  {
   "cell_type": "markdown",
   "metadata": {},
   "source": [
    "For documentation on Streamlit, visit the [official site](https://docs.streamlit.io/library/api-reference) or the [Notebooks Hub documentation](https://polusai.github.io/notebooks-hub/user/streamlit_1-intro.html)."
   ]
  },
  {
   "cell_type": "markdown",
   "metadata": {},
   "source": [
    "- Create new file named `app.py` (rename as desired)\n",
    "- Add code to `app.py`"
   ]
  },
  {
   "cell_type": "markdown",
   "metadata": {},
   "source": [
    "The following code was used in the workshop:"
   ]
  },
  {
   "cell_type": "code",
   "execution_count": null,
   "metadata": {},
   "outputs": [],
   "source": [
    "# import dependencies\n",
    "import streamlit as st\n",
    "import pandas as pd\n",
    "import plotly.express as px\n",
    "\n",
    "# set up tabs\n",
    "tab1, tab2 = st.tabs([\"Sample: Iris\", \"Upload Data\"])\n",
    "\n",
    "# tab for sample dataset\n",
    "with tab1:\n",
    "    # load data\n",
    "    iris = px.data.iris()\n",
    "\n",
    "    # editable dataframe\n",
    "    with st.expander(\"See & Edit Data\"):\n",
    "        edited_df = st.data_editor(\n",
    "            iris, # source dataframe\n",
    "            num_rows=\"dynamic\", # enable addition and removal of rows\n",
    "            hide_index=True\n",
    "        )\n",
    "\n",
    "    # add widgets for x-axis, y-axis, and color selection\n",
    "    x_ax = st.selectbox(\n",
    "        \"Select X-axis\",\n",
    "        iris.columns,\n",
    "        index=0\n",
    "    )\n",
    "\n",
    "    y_ax = st.selectbox(\n",
    "        \"Select Y-axis\",\n",
    "        iris.columns,\n",
    "        index=1\n",
    "    )\n",
    "\n",
    "    color = st.selectbox(\n",
    "        \"Select Color\",\n",
    "        iris.columns,\n",
    "        index=4\n",
    "    )\n",
    "\n",
    "    # plotly figure\n",
    "    fig = px.scatter(\n",
    "            edited_df,\n",
    "            x = x_ax,\n",
    "            y = y_ax,\n",
    "            color = color)\n",
    "    st.plotly_chart(fig, use_container_width=True)\n",
    "\n",
    "# tab for uploaded file\n",
    "with tab2:\n",
    "    # upload data\n",
    "    uploaded_file = st.file_uploader(\"Choose a file\")\n",
    "    if uploaded_file is not None:\n",
    "        data = pd.read_csv(uploaded_file)\n",
    "\n",
    "        # editable dataframe\n",
    "        with st.expander(\"See & Edit Data\"):\n",
    "            edited_data = st.data_editor(\n",
    "                data, # source dataframe\n",
    "                num_rows=\"dynamic\", # enable addition and removal of rows\n",
    "                hide_index=True\n",
    "            )\n",
    "\n",
    "        # add widgets for x- axis, y-axis, and color selection\n",
    "        x_ax2 = st.selectbox(\n",
    "            \"Select X-axis\",\n",
    "            edited_data.columns,\n",
    "            index=0\n",
    "        )\n",
    "\n",
    "        y_ax2 = st.selectbox(\n",
    "            \"Select Y-axis\",\n",
    "            edited_data.columns,\n",
    "            index=1\n",
    "        )\n",
    "\n",
    "        color2 = st.selectbox(\n",
    "            \"Select Color\",\n",
    "            edited_data.columns,\n",
    "            index=None\n",
    "        )\n",
    "\n",
    "        # plotly figure\n",
    "        fig2 = px.scatter(\n",
    "                edited_data,\n",
    "                x = x_ax2,\n",
    "                y = y_ax2,\n",
    "                color = color2)\n",
    "        st.plotly_chart(fig2, use_container_width=True)\n"
   ]
  },
  {
   "cell_type": "markdown",
   "metadata": {},
   "source": [
    "### Launch App using Terminal"
   ]
  },
  {
   "cell_type": "markdown",
   "metadata": {},
   "source": [
    "- Ensure proper working directory in terminal (use `cd` to change directory if necessary)\n",
    "- Run the following code to launch Streamlit app"
   ]
  },
  {
   "cell_type": "code",
   "execution_count": null,
   "metadata": {},
   "outputs": [],
   "source": [
    "streamlit run app.py            # rename `app.py` with desired filename if renamed"
   ]
  },
  {
   "cell_type": "markdown",
   "metadata": {},
   "source": [
    "### Exit App"
   ]
  },
  {
   "cell_type": "markdown",
   "metadata": {},
   "source": [
    "- To exit, type `Ctrl-C` inside the terminal"
   ]
  },
  {
   "cell_type": "markdown",
   "metadata": {},
   "source": [
    "## Launch as Dashboard App inside Notebooks Hub"
   ]
  },
  {
   "cell_type": "markdown",
   "metadata": {},
   "source": [
    "For documentation on Notebooks Hub, visit [here](https://polusai.github.io/notebooks-hub/index.html).\n",
    "\n",
    "- Open Notebooks Hub: [login here](https://notebooks.scb-ncats.io/home)\n",
    "- Go to **Servers** tab\n",
    "- Select **Create New Server** to load wizard\n",
    "- Select **Select Dashboard** tab to pick appropriate type\n",
    "- Select **Select File/Folder**\n",
    "- Navigate to `.py` file\n",
    "- Select appropriate hardware (**Shared Medium** is generally sufficient)\n",
    "- Select `python-data-science-0.1.8` module\n",
    "- Add server metadata details\n",
    "- Check **Launch** box\n",
    "- Click **Create Server** button"
   ]
  }
 ],
 "metadata": {
  "language_info": {
   "name": "python"
  },
  "orig_nbformat": 4
 },
 "nbformat": 4,
 "nbformat_minor": 2
}
