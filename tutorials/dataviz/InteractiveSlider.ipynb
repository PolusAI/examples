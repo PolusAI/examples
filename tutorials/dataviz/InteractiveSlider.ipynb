{
 "cells": [
  {
   "cell_type": "code",
   "execution_count": null,
   "id": "25b4c286-7e60-4fa8-9481-6b27e1cefa4c",
   "metadata": {},
   "outputs": [],
   "source": [
    "from bokeh.layouts import column\n",
    "from bokeh.models import ColumnDataSource, CustomJS, Slider\n",
    "from bokeh.plotting import figure, output_file, show, output_notebook\n",
    "\n",
    "output_file(\"callback.html\")\n",
    "\n",
    "x = [x*0.005 for x in range(0, 200)]\n",
    "y = x\n",
    "\n",
    "source = ColumnDataSource(data=dict(x=x, y=y))\n",
    "\n",
    "plot = figure(width=400, height=400)\n",
    "plot.line('x', 'y', source=source, line_width=3, line_alpha=0.6)\n",
    "\n",
    "callback = CustomJS(args=dict(source=source), code=\"\"\"\n",
    "        const data = source.data;\n",
    "        const f = cb_obj.value\n",
    "        const x = data['x']\n",
    "        const y = data['y']\n",
    "        for (let i = 0; i < x.length; i++) {\n",
    "            y[i] = Math.pow(x[i], f)\n",
    "        }\n",
    "        source.change.emit();\n",
    "    \"\"\")\n",
    "\n",
    "slider = Slider(start=0.1, end=4, value=1, step=.1, title=\"power\")\n",
    "slider.js_on_change('value', callback)\n",
    "\n",
    "layout = column(slider, plot)\n",
    "\n",
    "output_notebook()\n",
    "\n",
    "show(layout)"
   ]
  },
  {
   "cell_type": "code",
   "execution_count": null,
   "id": "90971af0-cdf6-473b-a29e-7a6a55ca55c1",
   "metadata": {},
   "outputs": [],
   "source": []
  }
 ],
 "metadata": {
  "kernelspec": {
   "display_name": "Python 3 (ipykernel)",
   "language": "python",
   "name": "python3"
  },
  "language_info": {
   "codemirror_mode": {
    "name": "ipython",
    "version": 3
   },
   "file_extension": ".py",
   "mimetype": "text/x-python",
   "name": "python",
   "nbconvert_exporter": "python",
   "pygments_lexer": "ipython3",
   "version": "3.9.7"
  }
 },
 "nbformat": 4,
 "nbformat_minor": 5
}
