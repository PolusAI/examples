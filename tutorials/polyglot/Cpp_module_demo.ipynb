{
 "cells": [
  {
   "cell_type": "markdown",
   "id": "f8d42006-3b1c-4f8b-8c54-abb63df617bd",
   "metadata": {
    "kernel": "SoS"
   },
   "source": [
    "# Polyglot feature: C++ and Python interaction\n",
    "\n",
    "Combine C++ and Python code in the same notebook, including variable exchange between languages\n",
    "\n",
    "Powered by the following open-source software:\n",
    "- [`cling`](https://root.cern/cling/) - interactive C++ interpreter, built on the top of LLVM and Clang libraries [Cern].\n",
    "- [`xeus-cling`](https://github.com/jupyter-xeus/xeus-cling) - Jupyter kernel for C++ based on the C++ interpreter cling and the native implementation of the Jupyter protocol `xeus` [QuantStack]\n",
    "- [`SoS`](https://vatlab.github.io/sos-docs/) (Script of Scripts) - polyglot notebook kernel that combines multiple kernels in the same Jupyter notebook [MD Anderson Cancer Center]"
   ]
  },
  {
   "cell_type": "markdown",
   "id": "645241d5-0324-4682-b835-552135d53f52",
   "metadata": {
    "kernel": "SoS",
    "tags": []
   },
   "source": [
    "## Conversion of Python (SoS) types to closest* C++ types using `%get` magic\n",
    "*by closest, I mean that we use most commonly used C++ types, such as `int` for all numerical values between (int range). If value is outside `int` range, we use `long int` and so on"
   ]
  },
  {
   "cell_type": "code",
   "execution_count": 1,
   "id": "c9330756-ffd5-46a5-b26d-4fb2705435ce",
   "metadata": {
    "kernel": "SoS"
   },
   "outputs": [],
   "source": [
    "import numpy as np\n",
    "import pandas as pd\n",
    "\n",
    "int1 = 10\n",
    "int2 = 1000000000000000000\n",
    "int3 = 10000000000000000000\n",
    "int4 = np.intc(20)\n",
    "float1 = 0.1\n",
    "float2 = 1e+50\n",
    "float3 = np.longdouble(\"1e+1000\")\n",
    "string1 = 'abc'\n",
    "bool1 = True\n",
    "dictionary1 = {1: 'First', 2: 'Second', 3: 'Third'}\n",
    "list1 = [1, 2, 3]\n",
    "list2 = [10.0, 20.0, 30.0]\n",
    "list3 = ['abc', 'def', 'gih']\n",
    "tuple1 = (4, 5, 6)\n",
    "numpy_array1 = np.array([[3, 4], [5, 6]])\n",
    "numpy_array2 = np.array([['a','b','c','d','e','f'],['A','B','C','D','E','F']])\n",
    "dataframe1 = pd.DataFrame(np.random.randn(1000,4), columns=list('ABC1'))"
   ]
  },
  {
   "cell_type": "code",
   "execution_count": 3,
   "id": "410e1ca6-8874-4797-84c7-02fd5c616513",
   "metadata": {
    "kernel": "C++14"
   },
   "outputs": [],
   "source": [
    "%use C++14\n",
    "%get int1 int2 int3 int4 float1 float2 float3 string1 bool1 dictionary1 list1 list2 list3 tuple1 numpy_array1 numpy_array2 dataframe1"
   ]
  },
  {
   "cell_type": "code",
   "execution_count": 4,
   "id": "eaa60f52-6d32-4b0e-84d8-beabdd8f7ee1",
   "metadata": {
    "kernel": "C++14"
   },
   "outputs": [
    {
     "name": "stdout",
     "output_type": "stream",
     "text": [
      "int1\tint\t10\n",
      "int2\tlong\t1000000000000000000\n",
      "int4\tint\t20\n",
      "float1\tfloat\t0.1000000014901161\n",
      "float2\tdouble\t1e+50\n",
      "float3\tlong double\tinf\n",
      "bool1\tbool\t1\n",
      "string1\tstd::__cxx11::basic_string<char, std::char_traits<char>, std::allocator<char> >\tabc\n"
     ]
    }
   ],
   "source": [
    "std::cout << \"int1\\t\" << type(int1) << \"\\t\" << int1 << \"\\n\";\n",
    "std::cout << \"int2\\t\" << type(int2) << \"\\t\" << int2 << \"\\n\";\n",
    "std::cout << \"int4\\t\" << type(int4) << \"\\t\" << int4 << \"\\n\";\n",
    "std::cout << \"float1\\t\" << type(float1) << \"\\t\" << float1 << \"\\n\";\n",
    "std::cout << \"float2\\t\" << type(float2) << \"\\t\" << float2 << \"\\n\";\n",
    "std::cout << \"float3\\t\" << type(float3) << \"\\t\" << float3 << \"\\n\";\n",
    "std::cout << \"bool1\\t\" << type(bool1) << \"\\t\" << bool1 << \"\\n\";\n",
    "std::cout << \"string1\\t\" << type(string1) << \"\\t\" << string1 << \"\\n\";"
   ]
  },
  {
   "cell_type": "code",
   "execution_count": 5,
   "id": "90aad69c-4ef6-4b20-9f5d-adeb605a606e",
   "metadata": {
    "kernel": "C++14"
   },
   "outputs": [
    {
     "data": {
      "text/html": [
       "<div class=\"sos_hint\">> dictionary1:</div>"
      ],
      "text/plain": [
       ">>> dictionary1:\n"
      ]
     },
     "metadata": {},
     "output_type": "display_data"
    },
    {
     "data": {
      "text/plain": [
       "{ 1 => \"First\", 2 => \"Second\", 3 => \"Third\" }"
      ]
     },
     "execution_count": 2,
     "metadata": {},
     "output_type": "display_data"
    },
    {
     "data": {
      "text/html": [
       "<div class=\"sos_hint\">> numpy_array1:</div>"
      ],
      "text/plain": [
       ">>> numpy_array1:\n"
      ]
     },
     "metadata": {},
     "output_type": "display_data"
    },
    {
     "data": {
      "text/html": [
       "<table style='border-style:solid;border-width:1px;'><tbody><tr><td style='font-family:monospace;' title='(0, 0)'><pre>3</pre></td><td style='font-family:monospace;' title='(0, 1)'><pre>4</pre></td></tr><tr><td style='font-family:monospace;' title='(1, 0)'><pre>5</pre></td><td style='font-family:monospace;' title='(1, 1)'><pre>6</pre></td></tr></tbody></table>"
      ]
     },
     "execution_count": 3,
     "metadata": {},
     "output_type": "display_data"
    },
    {
     "data": {
      "text/html": [
       "<div class=\"sos_hint\">> numpy_array2:</div>"
      ],
      "text/plain": [
       ">>> numpy_array2:\n"
      ]
     },
     "metadata": {},
     "output_type": "display_data"
    },
    {
     "data": {
      "text/html": [
       "<table style='border-style:solid;border-width:1px;'><tbody><tr><td style='font-family:monospace;' title='(0, 0)'><pre>a</pre></td><td style='font-family:monospace;' title='(0, 1)'><pre>b</pre></td><td style='font-family:monospace;' title='(0, 2)'><pre>c</pre></td><td style='font-family:monospace;' title='(0, 3)'><pre>d</pre></td><td style='font-family:monospace;' title='(0, 4)'><pre>e</pre></td><td style='font-family:monospace;' title='(0, 5)'><pre>f</pre></td></tr><tr><td style='font-family:monospace;' title='(1, 0)'><pre>A</pre></td><td style='font-family:monospace;' title='(1, 1)'><pre>B</pre></td><td style='font-family:monospace;' title='(1, 2)'><pre>C</pre></td><td style='font-family:monospace;' title='(1, 3)'><pre>D</pre></td><td style='font-family:monospace;' title='(1, 4)'><pre>E</pre></td><td style='font-family:monospace;' title='(1, 5)'><pre>F</pre></td></tr></tbody></table>"
      ]
     },
     "execution_count": 4,
     "metadata": {},
     "output_type": "display_data"
    },
    {
     "data": {
      "text/html": [
       "<div class=\"sos_hint\">> dataframe1:</div>"
      ],
      "text/plain": [
       ">>> dataframe1:\n"
      ]
     },
     "metadata": {},
     "output_type": "display_data"
    },
    {
     "data": {
      "text/html": [
       "<table style='border-style:solid;border-width:1px;'><thead><th></th><th title='y'>A</th><th title='y'>B</th><th title='y'>C</th><th title='y'>1</th></thead><tbody><tr><th style='border-right-style:solid;border-right-width:1px;' title='x'>0</th><td style='font-family:monospace;' title='(x: 0, y: A)'><pre>-0.898541</pre></td><td style='font-family:monospace;' title='(x: 0, y: B)'><pre>-0.235778</pre></td><td style='font-family:monospace;' title='(x: 0, y: C)'><pre>-0.402606</pre></td><td style='font-family:monospace;' title='(x: 0, y: 1)'><pre> 0.360933</pre></td></tr><tr><th style='border-right-style:solid;border-right-width:1px;' title='x'>1</th><td style='font-family:monospace;' title='(x: 1, y: A)'><pre>-0.915976</pre></td><td style='font-family:monospace;' title='(x: 1, y: B)'><pre>-1.328012</pre></td><td style='font-family:monospace;' title='(x: 1, y: C)'><pre>-1.67462 </pre></td><td style='font-family:monospace;' title='(x: 1, y: 1)'><pre>-1.130506</pre></td></tr><tr><th style='border-right-style:solid;border-right-width:1px;' title='x'>2</th><td style='font-family:monospace;' title='(x: 2, y: A)'><pre> 0.274444</pre></td><td style='font-family:monospace;' title='(x: 2, y: B)'><pre> 1.310693</pre></td><td style='font-family:monospace;' title='(x: 2, y: C)'><pre> 0.688386</pre></td><td style='font-family:monospace;' title='(x: 2, y: 1)'><pre>-0.775981</pre></td></tr><tr><th title='x' style='border-right-style:solid;border-right-width:1px;'><center>...</center></th><td><center>...</center></td><td><center>...</center></td><td><center>...</center></td><td><center>...</center></td></tr><tr><th style='border-right-style:solid;border-right-width:1px;' title='x'>997</th><td style='font-family:monospace;' title='(x: 997, y: A)'><pre>-1.464877</pre></td><td style='font-family:monospace;' title='(x: 997, y: B)'><pre> 0.084132</pre></td><td style='font-family:monospace;' title='(x: 997, y: C)'><pre> 1.348973</pre></td><td style='font-family:monospace;' title='(x: 997, y: 1)'><pre>-0.925398</pre></td></tr><tr><th style='border-right-style:solid;border-right-width:1px;' title='x'>998</th><td style='font-family:monospace;' title='(x: 998, y: A)'><pre> 1.570237</pre></td><td style='font-family:monospace;' title='(x: 998, y: B)'><pre> 0.124354</pre></td><td style='font-family:monospace;' title='(x: 998, y: C)'><pre>-2.813815</pre></td><td style='font-family:monospace;' title='(x: 998, y: 1)'><pre> 0.011657</pre></td></tr><tr><th style='border-right-style:solid;border-right-width:1px;' title='x'>999</th><td style='font-family:monospace;' title='(x: 999, y: A)'><pre> 0.283235</pre></td><td style='font-family:monospace;' title='(x: 999, y: B)'><pre>-0.617234</pre></td><td style='font-family:monospace;' title='(x: 999, y: C)'><pre> 0.572971</pre></td><td style='font-family:monospace;' title='(x: 999, y: 1)'><pre>-0.529772</pre></td></tr></tbody></table>"
      ]
     },
     "execution_count": 5,
     "metadata": {},
     "output_type": "display_data"
    }
   ],
   "source": [
    "%preview dictionary1 numpy_array1 numpy_array2 dataframe1"
   ]
  },
  {
   "cell_type": "markdown",
   "id": "35a7f146-14ae-4fe3-9603-15d4c63a0a74",
   "metadata": {
    "kernel": "C++14"
   },
   "source": [
    "## Conversion of C++ data types to appropriate Python (SoS) types using `%put` magic"
   ]
  },
  {
   "cell_type": "code",
   "execution_count": 6,
   "id": "81f3825a-e64f-4e72-be9c-6cbef30e4ce3",
   "metadata": {
    "kernel": "C++14"
   },
   "outputs": [],
   "source": [
    "int i = 1;\n",
    "short int si = 32;\n",
    "long int li = 2000000000;\n",
    "long long int lli = 2000000000000000000;\n",
    "float f = 0.1f;\n",
    "double d = 1e+300;\n",
    "long double ld = 1e+1000L;\n",
    "bool b = true;\n",
    "char c = '*';\n",
    "std::map<int, int> m = {{1,2},{2,3}};\n",
    "std::map<std::string, float> m2 = {{\"Alice\", -1.0f},{\"Bob\", 1.0f}};\n",
    "std::map<std::string, bool> m3 = {{\"Alice\", true},{\"Bob\", false}};\n",
    "std::vector<int> v = {1,2,3,4,5};\n",
    "std::vector<bool> v2 = {true,false,true,false,true};\n",
    "std::vector<std::string> v3 = {\"q\",\"w\",\"e\",\"r\",\"t\",\"y\"};\n",
    "xt::xarray<double> arr\n",
    "      {{1.1, 2.2, 3.3},\n",
    "       {4.4, 5.5, 6.6},\n",
    "       {7.7, 8.8, 9.9}};          \n",
    "xt::xarray<std::string> arr2\n",
    "      {{\"1.1\", \"2.2\", \"a\"},\n",
    "       {\"4.4\", \"5.5\", \"6.6\"},\n",
    "       {\"7.7\", \"8.8\", \"9.9\"}};"
   ]
  },
  {
   "cell_type": "code",
   "execution_count": 7,
   "id": "1bf0c30c-8134-4e08-beb8-3450c2a76bbb",
   "metadata": {
    "kernel": "C++14"
   },
   "outputs": [
    {
     "name": "stdout",
     "output_type": "stream",
     "text": [
      "i\tint\t1\n",
      "si\tshort\t32\n",
      "li\tlong\t2000000000\n",
      "lli\tlong long\t2000000000000000000\n",
      "f\tfloat\t0.1000000014901161\n",
      "d\tdouble\t1e+300\n",
      "ld\tlong double\t1e+1000\n",
      "b\tbool\t1\n",
      "c\tchar\t*\n"
     ]
    }
   ],
   "source": [
    "std::cout << \"i\\t\" << type(i) << \"\\t\" << i << \"\\n\";\n",
    "std::cout << \"si\\t\" << type(si) << \"\\t\" << si << \"\\n\";\n",
    "std::cout << \"li\\t\" << type(li) << \"\\t\" << li << \"\\n\";\n",
    "std::cout << \"lli\\t\" << type(lli) << \"\\t\" << lli << \"\\n\";\n",
    "std::cout << \"f\\t\" << type(f) << \"\\t\" << f << \"\\n\";\n",
    "std::cout << \"d\\t\" << type(d) << \"\\t\" << d << \"\\n\";\n",
    "std::cout << \"ld\\t\" << type(ld) << \"\\t\" << ld << \"\\n\";\n",
    "std::cout << \"b\\t\" << type(b) << \"\\t\" << b << \"\\n\";\n",
    "std::cout << \"c\\t\" << type(c) << \"\\t\" << c << \"\\n\";"
   ]
  },
  {
   "cell_type": "code",
   "execution_count": 8,
   "id": "0556e983-1b3d-4bee-91da-9a4e33f4aa99",
   "metadata": {
    "kernel": "C++14"
   },
   "outputs": [
    {
     "data": {
      "text/html": [
       "<div class=\"sos_hint\">> arr:</div>"
      ],
      "text/plain": [
       ">>> arr:\n"
      ]
     },
     "metadata": {},
     "output_type": "display_data"
    },
    {
     "data": {
      "text/html": [
       "<table style='border-style:solid;border-width:1px;'><tbody><tr><td style='font-family:monospace;' title='(0, 0)'><pre> 1.1</pre></td><td style='font-family:monospace;' title='(0, 1)'><pre> 2.2</pre></td><td style='font-family:monospace;' title='(0, 2)'><pre> 3.3</pre></td></tr><tr><td style='font-family:monospace;' title='(1, 0)'><pre> 4.4</pre></td><td style='font-family:monospace;' title='(1, 1)'><pre> 5.5</pre></td><td style='font-family:monospace;' title='(1, 2)'><pre> 6.6</pre></td></tr><tr><td style='font-family:monospace;' title='(2, 0)'><pre> 7.7</pre></td><td style='font-family:monospace;' title='(2, 1)'><pre> 8.8</pre></td><td style='font-family:monospace;' title='(2, 2)'><pre> 9.9</pre></td></tr></tbody></table>"
      ]
     },
     "execution_count": 8,
     "metadata": {},
     "output_type": "display_data"
    },
    {
     "data": {
      "text/html": [
       "<div class=\"sos_hint\">> arr2:</div>"
      ],
      "text/plain": [
       ">>> arr2:\n"
      ]
     },
     "metadata": {},
     "output_type": "display_data"
    },
    {
     "data": {
      "text/html": [
       "<table style='border-style:solid;border-width:1px;'><tbody><tr><td style='font-family:monospace;' title='(0, 0)'><pre>1.1</pre></td><td style='font-family:monospace;' title='(0, 1)'><pre>2.2</pre></td><td style='font-family:monospace;' title='(0, 2)'><pre>  a</pre></td></tr><tr><td style='font-family:monospace;' title='(1, 0)'><pre>4.4</pre></td><td style='font-family:monospace;' title='(1, 1)'><pre>5.5</pre></td><td style='font-family:monospace;' title='(1, 2)'><pre>6.6</pre></td></tr><tr><td style='font-family:monospace;' title='(2, 0)'><pre>7.7</pre></td><td style='font-family:monospace;' title='(2, 1)'><pre>8.8</pre></td><td style='font-family:monospace;' title='(2, 2)'><pre>9.9</pre></td></tr></tbody></table>"
      ]
     },
     "execution_count": 9,
     "metadata": {},
     "output_type": "display_data"
    },
    {
     "data": {
      "text/html": [
       "<div class=\"sos_hint\">> m:</div>"
      ],
      "text/plain": [
       ">>> m:\n"
      ]
     },
     "metadata": {},
     "output_type": "display_data"
    },
    {
     "data": {
      "text/plain": [
       "{ 1 => 2, 2 => 3 }"
      ]
     },
     "execution_count": 10,
     "metadata": {},
     "output_type": "display_data"
    },
    {
     "data": {
      "text/html": [
       "<div class=\"sos_hint\">> m2:</div>"
      ],
      "text/plain": [
       ">>> m2:\n"
      ]
     },
     "metadata": {},
     "output_type": "display_data"
    },
    {
     "data": {
      "text/plain": [
       "{ \"Alice\" => -1.00000f, \"Bob\" => 1.00000f }"
      ]
     },
     "execution_count": 11,
     "metadata": {},
     "output_type": "display_data"
    }
   ],
   "source": [
    "%preview m2\n",
    "%preview m\n",
    "%preview arr2\n",
    "%preview arr"
   ]
  },
  {
   "cell_type": "code",
   "execution_count": 9,
   "id": "aaa69765-60d0-47df-892e-7ec0bc1b5924",
   "metadata": {
    "kernel": "C++14"
   },
   "outputs": [],
   "source": [
    "%put i si li lli f d ld b c m m2 m3 v v2 v3 arr arr2"
   ]
  },
  {
   "cell_type": "code",
   "execution_count": 10,
   "id": "1ee75cf5-1bd2-4d63-bc5d-d57119dcfe13",
   "metadata": {
    "kernel": "SoS"
   },
   "outputs": [
    {
     "name": "stdout",
     "output_type": "stream",
     "text": [
      "i \t <class 'int'> \t 1\n",
      "si \t <class 'int'> \t 32\n",
      "li \t <class 'int'> \t 2000000000\n",
      "lli \t <class 'int'> \t 2000000000000000000\n",
      "f \t <class 'float'> \t 0.1000000014901161\n",
      "d \t <class 'float'> \t 1e+300\n",
      "ld \t <class 'numpy.float128'> \t 1e+1000\n",
      "b \t <class 'bool'> \t True\n",
      "c \t <class 'str'> \t *\n",
      "v \t <class 'numpy.ndarray'> \t [1 2 3 4 5]\n",
      "v \t <class 'numpy.ndarray'> \t [ True False  True False  True]\n",
      "v \t <class 'numpy.ndarray'> \t ['q' 'w' 'e' 'r' 't' 'y']\n"
     ]
    }
   ],
   "source": [
    "%use SoS\n",
    "print(\"i \\t\", type(i), \"\\t\", i)\n",
    "print(\"si \\t\", type(si), \"\\t\", si)\n",
    "print(\"li \\t\", type(li), \"\\t\", li)\n",
    "print(\"lli \\t\", type(lli), \"\\t\", lli)\n",
    "print(\"f \\t\", type(f), \"\\t\", f)\n",
    "print(\"d \\t\", type(d), \"\\t\", d)\n",
    "print(\"ld \\t\", type(ld), \"\\t\", ld)\n",
    "print(\"b \\t\", type(b), \"\\t\", b)\n",
    "print(\"c \\t\", type(c), \"\\t\", c)\n",
    "print(\"v \\t\", type(v), \"\\t\", v)\n",
    "print(\"v \\t\", type(v), \"\\t\", v2)\n",
    "print(\"v \\t\", type(v), \"\\t\", v3)"
   ]
  },
  {
   "cell_type": "code",
   "execution_count": 11,
   "id": "8d145aa6-e7d2-4c78-9b89-6555fe68984c",
   "metadata": {
    "kernel": "SoS"
   },
   "outputs": [
    {
     "data": {
      "text/html": [
       "<div class=\"sos_hint\">> arr: ndarray of shape (3, 3)</div>"
      ],
      "text/plain": [
       ">>> arr:\n"
      ]
     },
     "metadata": {},
     "output_type": "display_data"
    },
    {
     "data": {
      "text/plain": [
       "array([[1.1, 2.2, 3.3],\n",
       "       [4.4, 5.5, 6.6],\n",
       "       [7.7, 8.8, 9.9]])"
      ]
     },
     "metadata": {},
     "output_type": "display_data"
    },
    {
     "data": {
      "text/html": [
       "<div class=\"sos_hint\">> m: dict of length 2</div>"
      ],
      "text/plain": [
       ">>> m:\n"
      ]
     },
     "metadata": {},
     "output_type": "display_data"
    },
    {
     "data": {
      "text/plain": [
       "{1: 2, 2: 3}"
      ]
     },
     "metadata": {},
     "output_type": "display_data"
    },
    {
     "data": {
      "text/html": [
       "<div class=\"sos_hint\">> m2: dict of length 2</div>"
      ],
      "text/plain": [
       ">>> m2:\n"
      ]
     },
     "metadata": {},
     "output_type": "display_data"
    },
    {
     "data": {
      "text/plain": [
       "{'Alice': -1.0, 'Bob': 1.0}"
      ]
     },
     "metadata": {},
     "output_type": "display_data"
    }
   ],
   "source": [
    "%preview arr m m2"
   ]
  },
  {
   "cell_type": "code",
   "execution_count": 12,
   "id": "dd0b5a91-df8a-4b6e-ab07-88c563618656",
   "metadata": {
    "kernel": "C++14"
   },
   "outputs": [
    {
     "data": {
      "text/html": [
       "<table style='border-style:solid;border-width:1px;'><thead><th></th><th title='y'>A</th><th title='y'>B</th><th title='y'>C</th><th title='y'>1</th></thead><tbody><tr><th style='border-right-style:solid;border-right-width:1px;' title='x'>0</th><td style='font-family:monospace;' title='(x: 0, y: A)'><pre>-0.898541</pre></td><td style='font-family:monospace;' title='(x: 0, y: B)'><pre>-0.235778</pre></td><td style='font-family:monospace;' title='(x: 0, y: C)'><pre>-0.402606</pre></td><td style='font-family:monospace;' title='(x: 0, y: 1)'><pre> 0.360933</pre></td></tr><tr><th style='border-right-style:solid;border-right-width:1px;' title='x'>1</th><td style='font-family:monospace;' title='(x: 1, y: A)'><pre>-0.915976</pre></td><td style='font-family:monospace;' title='(x: 1, y: B)'><pre>-1.328012</pre></td><td style='font-family:monospace;' title='(x: 1, y: C)'><pre>-1.67462 </pre></td><td style='font-family:monospace;' title='(x: 1, y: 1)'><pre>-1.130506</pre></td></tr><tr><th style='border-right-style:solid;border-right-width:1px;' title='x'>2</th><td style='font-family:monospace;' title='(x: 2, y: A)'><pre> 0.274444</pre></td><td style='font-family:monospace;' title='(x: 2, y: B)'><pre> 1.310693</pre></td><td style='font-family:monospace;' title='(x: 2, y: C)'><pre> 0.688386</pre></td><td style='font-family:monospace;' title='(x: 2, y: 1)'><pre>-0.775981</pre></td></tr><tr><th title='x' style='border-right-style:solid;border-right-width:1px;'><center>...</center></th><td><center>...</center></td><td><center>...</center></td><td><center>...</center></td><td><center>...</center></td></tr><tr><th style='border-right-style:solid;border-right-width:1px;' title='x'>997</th><td style='font-family:monospace;' title='(x: 997, y: A)'><pre>-1.464877</pre></td><td style='font-family:monospace;' title='(x: 997, y: B)'><pre> 0.084132</pre></td><td style='font-family:monospace;' title='(x: 997, y: C)'><pre> 1.348973</pre></td><td style='font-family:monospace;' title='(x: 997, y: 1)'><pre>-0.925398</pre></td></tr><tr><th style='border-right-style:solid;border-right-width:1px;' title='x'>998</th><td style='font-family:monospace;' title='(x: 998, y: A)'><pre> 1.570237</pre></td><td style='font-family:monospace;' title='(x: 998, y: B)'><pre> 0.124354</pre></td><td style='font-family:monospace;' title='(x: 998, y: C)'><pre>-2.813815</pre></td><td style='font-family:monospace;' title='(x: 998, y: 1)'><pre> 0.011657</pre></td></tr><tr><th style='border-right-style:solid;border-right-width:1px;' title='x'>999</th><td style='font-family:monospace;' title='(x: 999, y: A)'><pre> 0.283235</pre></td><td style='font-family:monospace;' title='(x: 999, y: B)'><pre>-0.617234</pre></td><td style='font-family:monospace;' title='(x: 999, y: C)'><pre> 0.572971</pre></td><td style='font-family:monospace;' title='(x: 999, y: 1)'><pre>-0.529772</pre></td></tr></tbody></table>"
      ]
     },
     "execution_count": 12,
     "metadata": {},
     "output_type": "execute_result"
    }
   ],
   "source": [
    "%use C++14\n",
    "dataframe1"
   ]
  },
  {
   "cell_type": "code",
   "execution_count": null,
   "id": "cb9bcc7b-6386-4b69-91e0-dad7310d22e5",
   "metadata": {
    "kernel": "SoS"
   },
   "outputs": [],
   "source": []
  }
 ],
 "metadata": {
  "kernelspec": {
   "display_name": "SoS",
   "language": "sos",
   "name": "sos"
  },
  "language_info": {
   "codemirror_mode": "sos",
   "file_extension": ".sos",
   "mimetype": "text/x-sos",
   "name": "sos",
   "nbconvert_exporter": "sos_notebook.converter.SoS_Exporter",
   "pygments_lexer": "sos"
  },
  "sos": {
   "kernels": [
    [
     "C++14",
     "xcpp14",
     "C++14",
     "",
     "text/x-c++src"
    ],
    [
     "SoS",
     "sos",
     "",
     "",
     "sos"
    ]
   ],
   "version": "0.22.3"
  }
 },
 "nbformat": 4,
 "nbformat_minor": 5
}
