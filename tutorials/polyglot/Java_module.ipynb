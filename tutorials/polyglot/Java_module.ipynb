{
 "cells": [
  {
   "cell_type": "code",
   "execution_count": 2,
   "metadata": {
    "kernel": "Java"
   },
   "outputs": [],
   "source": [
    "%use Java\n",
    "boolean bool = true;"
   ]
  },
  {
   "cell_type": "code",
   "execution_count": 3,
   "metadata": {
    "kernel": "Java"
   },
   "outputs": [
    {
     "data": {
      "text/plain": [
       "true"
      ]
     },
     "execution_count": 3,
     "metadata": {},
     "output_type": "execute_result"
    }
   ],
   "source": [
    "bool"
   ]
  },
  {
   "cell_type": "code",
   "execution_count": 4,
   "metadata": {
    "kernel": "SoS"
   },
   "outputs": [],
   "source": [
    "%use sos\n",
    "import numpy as np\n",
    "int1 = 10\n",
    "int2 = 1000000000000000000\n",
    "int3 = 10000000000000000000\n",
    "int4 = np.intc(20)\n",
    "float1 = 0.1\n",
    "float2 = 1e+50\n",
    "string1 = 'abc'\n",
    "bool1 = True"
   ]
  },
  {
   "cell_type": "code",
   "execution_count": 5,
   "metadata": {
    "kernel": "Java"
   },
   "outputs": [],
   "source": [
    "%use Java\n",
    "%get int1 int2 int4 float1 float2 string1 bool1"
   ]
  },
  {
   "cell_type": "code",
   "execution_count": 6,
   "metadata": {
    "kernel": "Java"
   },
   "outputs": [
    {
     "name": "stdout",
     "output_type": "stream",
     "text": [
      "int1\t10\n",
      "int2\t1000000000000000000\n",
      "int4\t20\n",
      "float1\t0.1\n",
      "float2\t1.0E50\n",
      "string1\tabc\n",
      "bool1\ttrue\n"
     ]
    }
   ],
   "source": [
    "System.out.println(\"int1\\t\" + int1);\n",
    "System.out.println(\"int2\\t\" + int2);\n",
    "System.out.println(\"int4\\t\" + int4);\n",
    "System.out.println(\"float1\\t\" + float1);\n",
    "System.out.println(\"float2\\t\" + float2);\n",
    "System.out.println(\"string1\\t\" + string1);\n",
    "System.out.println(\"bool1\\t\" + bool1);"
   ]
  },
  {
   "cell_type": "code",
   "execution_count": null,
   "metadata": {
    "kernel": "Java"
   },
   "outputs": [],
   "source": []
  }
 ],
 "metadata": {
  "kernelspec": {
   "display_name": "SoS",
   "language": "sos",
   "name": "sos"
  },
  "language_info": {
   "codemirror_mode": "sos",
   "file_extension": ".sos",
   "mimetype": "text/x-sos",
   "name": "sos",
   "nbconvert_exporter": "sos_notebook.converter.SoS_Exporter",
   "pygments_lexer": "sos"
  },
  "sos": {
   "kernels": [
    [
     "Java",
     "java",
     "Java",
     "#00758F"
    ],
    [
     "SoS",
     "sos",
     "",
     ""
    ]
   ],
   "version": "0.22.3"
  }
 },
 "nbformat": 4,
 "nbformat_minor": 4
}
