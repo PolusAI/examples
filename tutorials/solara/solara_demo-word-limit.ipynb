{
 "cells": [
  {
   "cell_type": "markdown",
   "metadata": {},
   "source": [
    "# Solara Tutorial Using Jupyter Notebooks"
   ]
  },
  {
   "cell_type": "markdown",
   "metadata": {},
   "source": [
    "[Solara](https://solara.dev/) is an open-source library that makes it easy to build web apps from pure Python using ipywidgets and a React-likle API. Solara offers the ability to build large, complex apps while keeping code simple. See quickstart instructions [here](https://solara.dev/docs/quickstart). Solara apps work both inside Jupyter Notebooks and as a standalone web app.\n",
    "\n",
    "**This is an example tutorial on how to use Solara app inside Jupyter Notebooks.**\n",
    "\n",
    "**We recommend using VS Code when creating Solara apps.**"
   ]
  },
  {
   "cell_type": "markdown",
   "metadata": {},
   "source": [
    "## Install Solara\n",
    "If you are using a built-in module such as `python-data-science-0.1.8`, please install the `solara` package inside a Jupyter cell. If you are using your own Python environment created inside Notebooks Hub (see instructions [here](https://polusai.github.io/notebooks-hub/user/environments.html#creating-a-new-user-environment)), `solara` can be installed directly inside your environment using the terminal.\n",
    "\n",
    "For the purpose of this tutorial, please use the Jupyter cell below."
   ]
  },
  {
   "cell_type": "code",
   "execution_count": 2,
   "metadata": {},
   "outputs": [
    {
     "name": "stdout",
     "output_type": "stream",
     "text": [
      "Defaulting to user installation because normal site-packages is not writeable\n",
      "Collecting solara\n",
      "  Using cached solara-1.23.0-py2.py3-none-any.whl (14.8 MB)\n",
      "Requirement already satisfied: jinja2 in /opt/modules/shared/conda-envs/python-data-science-0.1.8/lib/python3.9/site-packages (from solara) (3.1.2)\n",
      "Collecting reacton>=1.7.1\n",
      "  Using cached reacton-1.8.0-py2.py3-none-any.whl (107 kB)\n",
      "Requirement already satisfied: markdown in /opt/modules/shared/conda-envs/python-data-science-0.1.8/lib/python3.9/site-packages (from solara) (3.4.1)\n",
      "Collecting pymdown-extensions\n",
      "  Using cached pymdown_extensions-10.4-py3-none-any.whl (240 kB)\n",
      "Collecting rich-click\n",
      "  Using cached rich_click-1.7.1-py3-none-any.whl (32 kB)\n",
      "Collecting humanize\n",
      "  Using cached humanize-4.8.0-py3-none-any.whl (117 kB)\n",
      "Requirement already satisfied: cachetools in /opt/modules/shared/conda-envs/python-data-science-0.1.8/lib/python3.9/site-packages (from solara) (5.3.0)\n",
      "Collecting ipyvue>=1.9.0\n",
      "  Using cached ipyvue-1.10.1-py2.py3-none-any.whl (2.7 MB)\n",
      "Requirement already satisfied: nbformat in /opt/modules/shared/conda-envs/python-data-science-0.1.8/lib/python3.9/site-packages (from solara) (5.8.0)\n",
      "Requirement already satisfied: jupyter-client>=7.0.0 in /opt/modules/shared/conda-envs/python-data-science-0.1.8/lib/python3.9/site-packages (from solara) (7.4.9)\n",
      "Requirement already satisfied: ipywidgets in /opt/modules/shared/conda-envs/python-data-science-0.1.8/lib/python3.9/site-packages (from solara) (7.7.0)\n",
      "Collecting uvicorn\n",
      "  Using cached uvicorn-0.24.0.post1-py3-none-any.whl (59 kB)\n",
      "Requirement already satisfied: markupsafe in /opt/modules/shared/conda-envs/python-data-science-0.1.8/lib/python3.9/site-packages (from solara) (2.1.2)\n",
      "Requirement already satisfied: websockets in /opt/modules/shared/conda-envs/python-data-science-0.1.8/lib/python3.9/site-packages (from solara) (10.4)\n",
      "Requirement already satisfied: requests in /opt/modules/shared/conda-envs/python-data-science-0.1.8/lib/python3.9/site-packages (from solara) (2.28.2)\n",
      "Requirement already satisfied: starlette in /opt/modules/shared/conda-envs/python-data-science-0.1.8/lib/python3.9/site-packages (from solara) (0.26.1)\n",
      "Collecting ipyvuetify>=1.8.10\n",
      "  Using cached ipyvuetify-1.8.10-py2.py3-none-any.whl (11.7 MB)\n",
      "Collecting watchdog\n",
      "  Using cached watchdog-3.0.0-py3-none-manylinux2014_x86_64.whl (82 kB)\n",
      "Requirement already satisfied: click>=7.1.0 in /opt/modules/shared/conda-envs/python-data-science-0.1.8/lib/python3.9/site-packages (from solara) (8.1.3)\n",
      "Requirement already satisfied: ipykernel in /opt/modules/shared/conda-envs/python-data-science-0.1.8/lib/python3.9/site-packages (from solara) (6.16.0)\n",
      "Requirement already satisfied: filelock in /opt/modules/shared/conda-envs/python-data-science-0.1.8/lib/python3.9/site-packages (from solara) (3.10.0)\n",
      "Requirement already satisfied: widgetsnbextension~=3.6.0 in /opt/modules/shared/conda-envs/python-data-science-0.1.8/lib/python3.9/site-packages (from ipywidgets->solara) (3.6.3)\n",
      "Requirement already satisfied: jupyterlab-widgets>=1.0.0 in /opt/modules/shared/conda-envs/python-data-science-0.1.8/lib/python3.9/site-packages (from ipywidgets->solara) (1.1.3)\n",
      "Requirement already satisfied: traitlets>=4.3.1 in /opt/modules/shared/conda-envs/python-data-science-0.1.8/lib/python3.9/site-packages (from ipywidgets->solara) (5.9.0)\n",
      "Requirement already satisfied: ipython-genutils~=0.2.0 in /opt/modules/shared/conda-envs/python-data-science-0.1.8/lib/python3.9/site-packages (from ipywidgets->solara) (0.2.0)\n",
      "Requirement already satisfied: ipython>=4.0.0 in /opt/modules/shared/conda-envs/python-data-science-0.1.8/lib/python3.9/site-packages (from ipywidgets->solara) (8.11.0)\n",
      "Requirement already satisfied: debugpy>=1.0 in /opt/modules/shared/conda-envs/python-data-science-0.1.8/lib/python3.9/site-packages (from ipykernel->solara) (1.6.6)\n",
      "Requirement already satisfied: pyzmq>=17 in /opt/modules/shared/conda-envs/python-data-science-0.1.8/lib/python3.9/site-packages (from ipykernel->solara) (25.0.2)\n",
      "Requirement already satisfied: tornado>=6.1 in /opt/modules/shared/conda-envs/python-data-science-0.1.8/lib/python3.9/site-packages (from ipykernel->solara) (6.2)\n",
      "Requirement already satisfied: packaging in /opt/modules/shared/conda-envs/python-data-science-0.1.8/lib/python3.9/site-packages (from ipykernel->solara) (23.0)\n",
      "Requirement already satisfied: matplotlib-inline>=0.1 in /opt/modules/shared/conda-envs/python-data-science-0.1.8/lib/python3.9/site-packages (from ipykernel->solara) (0.1.6)\n",
      "Requirement already satisfied: psutil in /opt/modules/shared/conda-envs/python-data-science-0.1.8/lib/python3.9/site-packages (from ipykernel->solara) (5.9.4)\n",
      "Requirement already satisfied: nest-asyncio in /opt/modules/shared/conda-envs/python-data-science-0.1.8/lib/python3.9/site-packages (from ipykernel->solara) (1.5.6)\n",
      "Requirement already satisfied: python-dateutil>=2.8.2 in /opt/modules/shared/conda-envs/python-data-science-0.1.8/lib/python3.9/site-packages (from jupyter-client>=7.0.0->solara) (2.8.2)\n",
      "Requirement already satisfied: entrypoints in /opt/modules/shared/conda-envs/python-data-science-0.1.8/lib/python3.9/site-packages (from jupyter-client>=7.0.0->solara) (0.4)\n",
      "Requirement already satisfied: jupyter-core>=4.9.2 in /opt/modules/shared/conda-envs/python-data-science-0.1.8/lib/python3.9/site-packages (from jupyter-client>=7.0.0->solara) (5.3.0)\n",
      "Requirement already satisfied: jsonschema>=2.6 in /opt/modules/shared/conda-envs/python-data-science-0.1.8/lib/python3.9/site-packages (from nbformat->solara) (4.16.0)\n",
      "Requirement already satisfied: fastjsonschema in /opt/modules/shared/conda-envs/python-data-science-0.1.8/lib/python3.9/site-packages (from nbformat->solara) (2.16.3)\n",
      "Requirement already satisfied: typing-extensions>=4.1.1 in /opt/modules/shared/conda-envs/python-data-science-0.1.8/lib/python3.9/site-packages (from reacton>=1.7.1->solara) (4.5.0)\n",
      "Requirement already satisfied: importlib-metadata>=4.4 in /opt/modules/shared/conda-envs/python-data-science-0.1.8/lib/python3.9/site-packages (from markdown->solara) (6.1.0)\n",
      "Requirement already satisfied: pyyaml in /opt/modules/shared/conda-envs/python-data-science-0.1.8/lib/python3.9/site-packages (from pymdown-extensions->solara) (6.0)\n",
      "Requirement already satisfied: charset-normalizer<4,>=2 in /opt/modules/shared/conda-envs/python-data-science-0.1.8/lib/python3.9/site-packages (from requests->solara) (2.1.1)\n",
      "Requirement already satisfied: idna<4,>=2.5 in /opt/modules/shared/conda-envs/python-data-science-0.1.8/lib/python3.9/site-packages (from requests->solara) (3.4)\n",
      "Requirement already satisfied: certifi>=2017.4.17 in /opt/modules/shared/conda-envs/python-data-science-0.1.8/lib/python3.9/site-packages (from requests->solara) (2022.12.7)\n",
      "Requirement already satisfied: urllib3<1.27,>=1.21.1 in /opt/modules/shared/conda-envs/python-data-science-0.1.8/lib/python3.9/site-packages (from requests->solara) (1.26.15)\n",
      "Requirement already satisfied: rich>=10.7.0 in /opt/modules/shared/conda-envs/python-data-science-0.1.8/lib/python3.9/site-packages (from rich-click->solara) (13.3.2)\n",
      "Requirement already satisfied: anyio<5,>=3.4.0 in /opt/modules/shared/conda-envs/python-data-science-0.1.8/lib/python3.9/site-packages (from starlette->solara) (3.6.2)\n",
      "Collecting h11>=0.8\n",
      "  Using cached h11-0.14.0-py3-none-any.whl (58 kB)\n",
      "Requirement already satisfied: sniffio>=1.1 in /opt/modules/shared/conda-envs/python-data-science-0.1.8/lib/python3.9/site-packages (from anyio<5,>=3.4.0->starlette->solara) (1.3.0)\n",
      "Requirement already satisfied: zipp>=0.5 in /opt/modules/shared/conda-envs/python-data-science-0.1.8/lib/python3.9/site-packages (from importlib-metadata>=4.4->markdown->solara) (3.15.0)\n",
      "Requirement already satisfied: jedi>=0.16 in /opt/modules/shared/conda-envs/python-data-science-0.1.8/lib/python3.9/site-packages (from ipython>=4.0.0->ipywidgets->solara) (0.18.2)\n",
      "Requirement already satisfied: pygments>=2.4.0 in /opt/modules/shared/conda-envs/python-data-science-0.1.8/lib/python3.9/site-packages (from ipython>=4.0.0->ipywidgets->solara) (2.14.0)\n",
      "Requirement already satisfied: pickleshare in /opt/modules/shared/conda-envs/python-data-science-0.1.8/lib/python3.9/site-packages (from ipython>=4.0.0->ipywidgets->solara) (0.7.5)\n",
      "Requirement already satisfied: prompt-toolkit!=3.0.37,<3.1.0,>=3.0.30 in /opt/modules/shared/conda-envs/python-data-science-0.1.8/lib/python3.9/site-packages (from ipython>=4.0.0->ipywidgets->solara) (3.0.38)\n",
      "Requirement already satisfied: pexpect>4.3 in /opt/modules/shared/conda-envs/python-data-science-0.1.8/lib/python3.9/site-packages (from ipython>=4.0.0->ipywidgets->solara) (4.8.0)\n",
      "Requirement already satisfied: stack-data in /opt/modules/shared/conda-envs/python-data-science-0.1.8/lib/python3.9/site-packages (from ipython>=4.0.0->ipywidgets->solara) (0.6.2)\n",
      "Requirement already satisfied: backcall in /opt/modules/shared/conda-envs/python-data-science-0.1.8/lib/python3.9/site-packages (from ipython>=4.0.0->ipywidgets->solara) (0.2.0)\n",
      "Requirement already satisfied: decorator in /opt/modules/shared/conda-envs/python-data-science-0.1.8/lib/python3.9/site-packages (from ipython>=4.0.0->ipywidgets->solara) (5.1.1)\n",
      "Requirement already satisfied: attrs>=17.4.0 in /opt/modules/shared/conda-envs/python-data-science-0.1.8/lib/python3.9/site-packages (from jsonschema>=2.6->nbformat->solara) (22.2.0)\n",
      "Requirement already satisfied: pyrsistent!=0.17.0,!=0.17.1,!=0.17.2,>=0.14.0 in /opt/modules/shared/conda-envs/python-data-science-0.1.8/lib/python3.9/site-packages (from jsonschema>=2.6->nbformat->solara) (0.19.3)\n",
      "Requirement already satisfied: platformdirs>=2.5 in /opt/modules/shared/conda-envs/python-data-science-0.1.8/lib/python3.9/site-packages (from jupyter-core>=4.9.2->jupyter-client>=7.0.0->solara) (3.1.1)\n",
      "Requirement already satisfied: six>=1.5 in /opt/modules/shared/conda-envs/python-data-science-0.1.8/lib/python3.9/site-packages (from python-dateutil>=2.8.2->jupyter-client>=7.0.0->solara) (1.16.0)\n",
      "Requirement already satisfied: markdown-it-py<3.0.0,>=2.2.0 in /opt/modules/shared/conda-envs/python-data-science-0.1.8/lib/python3.9/site-packages (from rich>=10.7.0->rich-click->solara) (2.2.0)\n",
      "Requirement already satisfied: notebook>=4.4.1 in /opt/modules/shared/conda-envs/python-data-science-0.1.8/lib/python3.9/site-packages (from widgetsnbextension~=3.6.0->ipywidgets->solara) (6.5.2)\n",
      "Requirement already satisfied: parso<0.9.0,>=0.8.0 in /opt/modules/shared/conda-envs/python-data-science-0.1.8/lib/python3.9/site-packages (from jedi>=0.16->ipython>=4.0.0->ipywidgets->solara) (0.8.3)\n",
      "Requirement already satisfied: mdurl~=0.1 in /opt/modules/shared/conda-envs/python-data-science-0.1.8/lib/python3.9/site-packages (from markdown-it-py<3.0.0,>=2.2.0->rich>=10.7.0->rich-click->solara) (0.1.0)\n",
      "Requirement already satisfied: prometheus-client in /opt/modules/shared/conda-envs/python-data-science-0.1.8/lib/python3.9/site-packages (from notebook>=4.4.1->widgetsnbextension~=3.6.0->ipywidgets->solara) (0.16.0)\n",
      "Requirement already satisfied: Send2Trash>=1.8.0 in /opt/modules/shared/conda-envs/python-data-science-0.1.8/lib/python3.9/site-packages (from notebook>=4.4.1->widgetsnbextension~=3.6.0->ipywidgets->solara) (1.8.0)\n",
      "Requirement already satisfied: nbclassic>=0.4.7 in /opt/modules/shared/conda-envs/python-data-science-0.1.8/lib/python3.9/site-packages (from notebook>=4.4.1->widgetsnbextension~=3.6.0->ipywidgets->solara) (0.5.3)\n",
      "Requirement already satisfied: argon2-cffi in /opt/modules/shared/conda-envs/python-data-science-0.1.8/lib/python3.9/site-packages (from notebook>=4.4.1->widgetsnbextension~=3.6.0->ipywidgets->solara) (21.3.0)\n",
      "Requirement already satisfied: nbconvert>=5 in /opt/modules/shared/conda-envs/python-data-science-0.1.8/lib/python3.9/site-packages (from notebook>=4.4.1->widgetsnbextension~=3.6.0->ipywidgets->solara) (6.5.3)\n",
      "Requirement already satisfied: terminado>=0.8.3 in /opt/modules/shared/conda-envs/python-data-science-0.1.8/lib/python3.9/site-packages (from notebook>=4.4.1->widgetsnbextension~=3.6.0->ipywidgets->solara) (0.17.1)\n",
      "Requirement already satisfied: ptyprocess>=0.5 in /opt/modules/shared/conda-envs/python-data-science-0.1.8/lib/python3.9/site-packages (from pexpect>4.3->ipython>=4.0.0->ipywidgets->solara) (0.7.0)\n",
      "Requirement already satisfied: wcwidth in /opt/modules/shared/conda-envs/python-data-science-0.1.8/lib/python3.9/site-packages (from prompt-toolkit!=3.0.37,<3.1.0,>=3.0.30->ipython>=4.0.0->ipywidgets->solara) (0.2.6)\n",
      "Requirement already satisfied: executing>=1.2.0 in /opt/modules/shared/conda-envs/python-data-science-0.1.8/lib/python3.9/site-packages (from stack-data->ipython>=4.0.0->ipywidgets->solara) (1.2.0)\n",
      "Requirement already satisfied: pure-eval in /opt/modules/shared/conda-envs/python-data-science-0.1.8/lib/python3.9/site-packages (from stack-data->ipython>=4.0.0->ipywidgets->solara) (0.2.2)\n",
      "Requirement already satisfied: asttokens>=2.1.0 in /opt/modules/shared/conda-envs/python-data-science-0.1.8/lib/python3.9/site-packages (from stack-data->ipython>=4.0.0->ipywidgets->solara) (2.2.1)\n",
      "Requirement already satisfied: notebook-shim>=0.1.0 in /opt/modules/shared/conda-envs/python-data-science-0.1.8/lib/python3.9/site-packages (from nbclassic>=0.4.7->notebook>=4.4.1->widgetsnbextension~=3.6.0->ipywidgets->solara) (0.2.2)\n",
      "Requirement already satisfied: jupyter-server>=1.8 in /opt/modules/shared/conda-envs/python-data-science-0.1.8/lib/python3.9/site-packages (from nbclassic>=0.4.7->notebook>=4.4.1->widgetsnbextension~=3.6.0->ipywidgets->solara) (1.23.6)\n",
      "Requirement already satisfied: pandocfilters>=1.4.1 in /opt/modules/shared/conda-envs/python-data-science-0.1.8/lib/python3.9/site-packages (from nbconvert>=5->notebook>=4.4.1->widgetsnbextension~=3.6.0->ipywidgets->solara) (1.5.0)\n",
      "Requirement already satisfied: tinycss2 in /opt/modules/shared/conda-envs/python-data-science-0.1.8/lib/python3.9/site-packages (from nbconvert>=5->notebook>=4.4.1->widgetsnbextension~=3.6.0->ipywidgets->solara) (1.2.1)\n",
      "Requirement already satisfied: nbclient>=0.5.0 in /opt/modules/shared/conda-envs/python-data-science-0.1.8/lib/python3.9/site-packages (from nbconvert>=5->notebook>=4.4.1->widgetsnbextension~=3.6.0->ipywidgets->solara) (0.5.13)\n",
      "Requirement already satisfied: jupyterlab-pygments in /opt/modules/shared/conda-envs/python-data-science-0.1.8/lib/python3.9/site-packages (from nbconvert>=5->notebook>=4.4.1->widgetsnbextension~=3.6.0->ipywidgets->solara) (0.2.2)\n",
      "Requirement already satisfied: lxml in /opt/modules/shared/conda-envs/python-data-science-0.1.8/lib/python3.9/site-packages (from nbconvert>=5->notebook>=4.4.1->widgetsnbextension~=3.6.0->ipywidgets->solara) (4.9.2)\n",
      "Requirement already satisfied: beautifulsoup4 in /opt/modules/shared/conda-envs/python-data-science-0.1.8/lib/python3.9/site-packages (from nbconvert>=5->notebook>=4.4.1->widgetsnbextension~=3.6.0->ipywidgets->solara) (4.11.1)\n",
      "Requirement already satisfied: bleach in /opt/modules/shared/conda-envs/python-data-science-0.1.8/lib/python3.9/site-packages (from nbconvert>=5->notebook>=4.4.1->widgetsnbextension~=3.6.0->ipywidgets->solara) (6.0.0)\n",
      "Requirement already satisfied: defusedxml in /opt/modules/shared/conda-envs/python-data-science-0.1.8/lib/python3.9/site-packages (from nbconvert>=5->notebook>=4.4.1->widgetsnbextension~=3.6.0->ipywidgets->solara) (0.7.1)\n",
      "Requirement already satisfied: mistune<2,>=0.8.1 in /opt/modules/shared/conda-envs/python-data-science-0.1.8/lib/python3.9/site-packages (from nbconvert>=5->notebook>=4.4.1->widgetsnbextension~=3.6.0->ipywidgets->solara) (0.8.4)\n",
      "Requirement already satisfied: argon2-cffi-bindings in /opt/modules/shared/conda-envs/python-data-science-0.1.8/lib/python3.9/site-packages (from argon2-cffi->notebook>=4.4.1->widgetsnbextension~=3.6.0->ipywidgets->solara) (21.2.0)\n",
      "Requirement already satisfied: websocket-client in /opt/modules/shared/conda-envs/python-data-science-0.1.8/lib/python3.9/site-packages (from jupyter-server>=1.8->nbclassic>=0.4.7->notebook>=4.4.1->widgetsnbextension~=3.6.0->ipywidgets->solara) (1.5.1)\n",
      "Requirement already satisfied: cffi>=1.0.1 in /opt/modules/shared/conda-envs/python-data-science-0.1.8/lib/python3.9/site-packages (from argon2-cffi-bindings->argon2-cffi->notebook>=4.4.1->widgetsnbextension~=3.6.0->ipywidgets->solara) (1.15.1)\n",
      "Requirement already satisfied: soupsieve>1.2 in /opt/modules/shared/conda-envs/python-data-science-0.1.8/lib/python3.9/site-packages (from beautifulsoup4->nbconvert>=5->notebook>=4.4.1->widgetsnbextension~=3.6.0->ipywidgets->solara) (2.3.2.post1)\n",
      "Requirement already satisfied: webencodings in /opt/modules/shared/conda-envs/python-data-science-0.1.8/lib/python3.9/site-packages (from bleach->nbconvert>=5->notebook>=4.4.1->widgetsnbextension~=3.6.0->ipywidgets->solara) (0.5.1)\n",
      "Requirement already satisfied: pycparser in /opt/modules/shared/conda-envs/python-data-science-0.1.8/lib/python3.9/site-packages (from cffi>=1.0.1->argon2-cffi-bindings->argon2-cffi->notebook>=4.4.1->widgetsnbextension~=3.6.0->ipywidgets->solara) (2.21)\n",
      "Installing collected packages: watchdog, humanize, h11, uvicorn, rich-click, pymdown-extensions, reacton, ipyvue, ipyvuetify, solara\n",
      "\u001b[33m  WARNING: The script watchmedo is installed in '/home/jovyan/.local/bin' which is not on PATH.\n",
      "  Consider adding this directory to PATH or, if you prefer to suppress this warning, use --no-warn-script-location.\u001b[0m\u001b[33m\n",
      "\u001b[0m\u001b[33m  WARNING: The script uvicorn is installed in '/home/jovyan/.local/bin' which is not on PATH.\n",
      "  Consider adding this directory to PATH or, if you prefer to suppress this warning, use --no-warn-script-location.\u001b[0m\u001b[33m\n",
      "\u001b[0m\u001b[33m  WARNING: The script rich-click is installed in '/home/jovyan/.local/bin' which is not on PATH.\n",
      "  Consider adding this directory to PATH or, if you prefer to suppress this warning, use --no-warn-script-location.\u001b[0m\u001b[33m\n",
      "\u001b[0m\u001b[33m  WARNING: The script solara is installed in '/home/jovyan/.local/bin' which is not on PATH.\n",
      "  Consider adding this directory to PATH or, if you prefer to suppress this warning, use --no-warn-script-location.\u001b[0m\u001b[33m\n",
      "\u001b[0mSuccessfully installed h11-0.14.0 humanize-4.8.0 ipyvue-1.10.1 ipyvuetify-1.8.10 pymdown-extensions-10.4 reacton-1.8.0 rich-click-1.7.1 solara-1.23.0 uvicorn-0.24.0.post1 watchdog-3.0.0\n",
      "Note: you may need to restart the kernel to use updated packages.\n"
     ]
    }
   ],
   "source": [
    "%pip install solara"
   ]
  },
  {
   "cell_type": "markdown",
   "metadata": {},
   "source": [
    "After running the code cell above to install `solara`, restart the kernel. This can be completed by click the **↺ Restart** button located towards the top of VS Code. Next, run the following code cell to confirm that the `solara` package is accessible."
   ]
  },
  {
   "cell_type": "code",
   "execution_count": 1,
   "metadata": {},
   "outputs": [
    {
     "name": "stdout",
     "output_type": "stream",
     "text": [
      "Name: solara\n",
      "Version: 1.23.0\n",
      "Summary: \n",
      "Home-page: \n",
      "Author: \n",
      "Author-email: \"Maarten A. Breddels\" <maartenbreddels@gmail.com>\n",
      "License: The MIT License (MIT)\n",
      "        \n",
      "        Copyright (c) 2022 Maarten A. Breddels\n",
      "        \n",
      "        Permission is hereby granted, free of charge, to any person obtaining a copy\n",
      "        of this software and associated documentation files (the \"Software\"), to deal\n",
      "        in the Software without restriction, including without limitation the rights\n",
      "        to use, copy, modify, merge, publish, distribute, sublicense, and/or sell\n",
      "        copies of the Software, and to permit persons to whom the Software is\n",
      "        furnished to do so, subject to the following conditions:\n",
      "        \n",
      "        The above copyright notice and this permission notice shall be included in\n",
      "        all copies or substantial portions of the Software.\n",
      "        \n",
      "        THE SOFTWARE IS PROVIDED \"AS IS\", WITHOUT WARRANTY OF ANY KIND, EXPRESS OR\n",
      "        IMPLIED, INCLUDING BUT NOT LIMITED TO THE WARRANTIES OF MERCHANTABILITY,\n",
      "        FITNESS FOR A PARTICULAR PURPOSE AND NONINFRINGEMENT. IN NO EVENT SHALL THE\n",
      "        AUTHORS OR COPYRIGHT HOLDERS BE LIABLE FOR ANY CLAIM, DAMAGES OR OTHER\n",
      "        LIABILITY, WHETHER IN AN ACTION OF CONTRACT, TORT OR OTHERWISE, ARISING FROM,\n",
      "        OUT OF OR IN CONNECTION WITH THE SOFTWARE OR THE USE OR OTHER DEALINGS IN\n",
      "        THE SOFTWARE.\n",
      "Location: /home/jovyan/.local/lib/python3.9/site-packages\n",
      "Requires: cachetools, click, filelock, humanize, ipykernel, ipyvue, ipyvuetify, ipywidgets, jinja2, jupyter-client, markdown, markupsafe, nbformat, pymdown-extensions, reacton, requests, rich-click, starlette, uvicorn, watchdog, websockets\n",
      "Required-by: \n",
      "Note: you may need to restart the kernel to use updated packages.\n"
     ]
    }
   ],
   "source": [
    "%pip show solara"
   ]
  },
  {
   "cell_type": "markdown",
   "metadata": {},
   "source": [
    "## Create Solara App\n",
    "You are now ready to create your app!\n",
    "\n",
    "The following cell is a simple example taken directly from Solara's Quickstart [page](https://solara.dev/docs/quickstart). The code cells below will generate a slider widget and text input widget. The slider widget will assign a maximum number of words allowed in the text input widget. Depending on the total number of input words relative to the limit set using the slider, an appropriate message will appear."
   ]
  },
  {
   "cell_type": "markdown",
   "metadata": {},
   "source": [
    "First, import any dependencies."
   ]
  },
  {
   "cell_type": "code",
   "execution_count": 2,
   "metadata": {},
   "outputs": [],
   "source": [
    "import solara"
   ]
  },
  {
   "cell_type": "markdown",
   "metadata": {},
   "source": [
    "Next, declare any reactive variables at the top level. Components using these variables will be re-executed when their values change."
   ]
  },
  {
   "cell_type": "code",
   "execution_count": 3,
   "metadata": {},
   "outputs": [],
   "source": [
    "sentence = solara.reactive(\"Solara makes our team more productive.\")\n",
    "word_limit = solara.reactive(10)"
   ]
  },
  {
   "cell_type": "markdown",
   "metadata": {},
   "source": [
    "Next, add components to your app. Users can create custom components without any special distinction from the built-in components provided by the framework. To create a component, define a Python function decorated with `@solara.component`. Single elements are taken as the component's main element. If multiple elements are created, they are automatically wrapped in a Column component. See more information [here](https://solara.dev/docs/fundamentals/components)."
   ]
  },
  {
   "cell_type": "code",
   "execution_count": 4,
   "metadata": {},
   "outputs": [],
   "source": [
    "@solara.component\n",
    "def Page():\n",
    "    # Calculate word_count within the component to ensure re-execution when reactive variables change.\n",
    "    word_count = len(sentence.value.split())\n",
    "\n",
    "    solara.SliderInt(\"Word limit\", value=word_limit, min=2, max=20)\n",
    "    solara.InputText(label=\"Your sentence\", value=sentence, continuous_update=True)\n",
    "\n",
    "    # Display messages based on the current word count and word limit.\n",
    "    if word_count >= int(word_limit.value):\n",
    "        solara.Error(f\"With {word_count} words, you passed the word limit of {word_limit.value}.\")\n",
    "    elif word_count >= int(0.8 * word_limit.value):\n",
    "        solara.Warning(f\"With {word_count} words, you are close to the word limit of {word_limit.value}.\")\n",
    "    else:\n",
    "        solara.Success(\"Great short writing!\")"
   ]
  },
  {
   "cell_type": "markdown",
   "metadata": {},
   "source": [
    "The following cell is necessary to render the Solara app inside Jupyter Notebooks. This can be taken out when launching `solara` as a web app, but it is necessary here.\n",
    "\n",
    "The next cell should generate a live output when the cell is run. The button is clickable and will display a click count that increases in real time."
   ]
  },
  {
   "cell_type": "code",
   "execution_count": 5,
   "metadata": {},
   "outputs": [
    {
     "data": {
      "application/vnd.jupyter.widget-view+json": {
       "model_id": "aef9390dfbc34b6bbdbfd4e8d61f8ce2",
       "version_major": 2,
       "version_minor": 0
      },
      "text/html": [
       "Cannot show widget. You probably want to rerun the code cell above (<i>Click in the code cell, and press Shift+Enter <kbd>⇧</kbd>+<kbd>↩</kbd></i>)."
      ],
      "text/plain": [
       "Cannot show ipywidgets in text"
      ]
     },
     "metadata": {},
     "output_type": "display_data"
    }
   ],
   "source": [
    "# When running code inside Jupyter notebook, use either display(Page()) or Page()\n",
    "\n",
    "display(Page())"
   ]
  }
 ],
 "metadata": {
  "kernelspec": {
   "display_name": "python-data-science-0.1.8",
   "language": "python",
   "name": "python3"
  },
  "language_info": {
   "codemirror_mode": {
    "name": "ipython",
    "version": 3
   },
   "file_extension": ".py",
   "mimetype": "text/x-python",
   "name": "python",
   "nbconvert_exporter": "python",
   "pygments_lexer": "ipython3",
   "version": "3.9.15"
  },
  "orig_nbformat": 4
 },
 "nbformat": 4,
 "nbformat_minor": 2
}
