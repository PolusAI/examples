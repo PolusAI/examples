{
 "cells": [
  {
   "cell_type": "markdown",
   "id": "d9127c21-9ab0-4866-815e-01da11d7d48f",
   "metadata": {},
   "source": [
    "## Check if pytorch is currently used"
   ]
  },
  {
   "cell_type": "code",
   "execution_count": null,
   "id": "9a508eef-5eed-4f0e-bd26-ea3f595d229c",
   "metadata": {},
   "outputs": [],
   "source": [
    "import torch"
   ]
  },
  {
   "cell_type": "markdown",
   "id": "d330264d",
   "metadata": {},
   "source": [
    "For the below command, it should result in 'True', since PyTorch comes packaged with Cuda support"
   ]
  },
  {
   "cell_type": "code",
   "execution_count": null,
   "id": "8294e054-7934-4707-b11a-9163115c4786",
   "metadata": {},
   "outputs": [],
   "source": [
    "torch.cuda.is_available()"
   ]
  },
  {
   "cell_type": "markdown",
   "id": "65bf7d99",
   "metadata": {},
   "source": [
    "If PyTorch has been correctly imported the below command should result in '1'"
   ]
  },
  {
   "cell_type": "code",
   "execution_count": null,
   "id": "fa711c95-5137-47d7-a3d2-c189fae88555",
   "metadata": {},
   "outputs": [],
   "source": [
    "torch.cuda.device_count()"
   ]
  },
  {
   "cell_type": "markdown",
   "id": "0034da93",
   "metadata": {},
   "source": [
    "The below command should result in '0'"
   ]
  },
  {
   "cell_type": "code",
   "execution_count": null,
   "id": "0d234791",
   "metadata": {},
   "outputs": [],
   "source": [
    "torch.cuda.current_device()"
   ]
  },
  {
   "cell_type": "markdown",
   "id": "dadd2e33",
   "metadata": {},
   "source": [
    "The below command should show information about the device"
   ]
  },
  {
   "cell_type": "code",
   "execution_count": null,
   "id": "79d75c1c-4729-4f38-ae8e-f1631c0f7332",
   "metadata": {
    "tags": []
   },
   "outputs": [],
   "source": [
    "torch.cuda.device(0)"
   ]
  },
  {
   "cell_type": "markdown",
   "id": "44849934",
   "metadata": {},
   "source": [
    "The below command should result in the device name "
   ]
  },
  {
   "cell_type": "code",
   "execution_count": null,
   "id": "d74cb61d-297e-4cf0-8a7b-976caf0a6bb3",
   "metadata": {},
   "outputs": [],
   "source": [
    "torch.cuda.get_device_name(0)"
   ]
  },
  {
   "cell_type": "markdown",
   "id": "65d4bc33",
   "metadata": {},
   "source": [
    " - CUDA is available and can be used by one device.\n",
    " - Device 0 refers to the GPU ```GeForce GTX 950M```, and it is currently chosen by PyTorch."
   ]
  },
  {
   "cell_type": "markdown",
   "id": "0fec48ca-60a3-4d20-9da5-ba9833c01314",
   "metadata": {},
   "source": [
    "## Check for library version"
   ]
  },
  {
   "cell_type": "code",
   "execution_count": null,
   "id": "8723bb1f-43da-44a3-8d5b-f947fe96a8e1",
   "metadata": {},
   "outputs": [],
   "source": [
    "print(torch.__version__)"
   ]
  }
 ],
 "metadata": {
  "kernelspec": {
   "display_name": "Python Data Science 0.1.5",
   "language": "python",
   "name": "python-data-science"
  },
  "language_info": {
   "codemirror_mode": {
    "name": "ipython",
    "version": 3
   },
   "file_extension": ".py",
   "mimetype": "text/x-python",
   "name": "python",
   "nbconvert_exporter": "python",
   "pygments_lexer": "ipython3",
   "version": "3.9.13"
  }
 },
 "nbformat": 4,
 "nbformat_minor": 5
}
