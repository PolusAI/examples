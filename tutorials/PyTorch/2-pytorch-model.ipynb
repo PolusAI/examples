{
 "cells": [
  {
   "cell_type": "markdown",
   "id": "76ba0b55-f897-4cbf-b22c-1d6f9fcfa4c7",
   "metadata": {},
   "source": [
    "# Load Library\n",
    "\n",
    "1. Use the code in the cells below first and then put your code.\n",
    "2. PyTorch has two primitives to work with data: ```torch.utils.data.DataLoader``` and ```torch.utils.data.Dataset```. Dataset stores the samples and their corresponding labels, and ```DataLoader``` wraps an iterable around the``` Dataset```.\n"
   ]
  },
  {
   "cell_type": "code",
   "execution_count": null,
   "id": "237824e8-2c4b-4f85-bf81-22cf5737a1c6",
   "metadata": {},
   "outputs": [],
   "source": [
    "import torch"
   ]
  },
  {
   "cell_type": "code",
   "execution_count": null,
   "id": "935d24c7-d54c-4555-a25b-bff649d91895",
   "metadata": {},
   "outputs": [],
   "source": [
    "from torch import nn\n",
    "from torch.utils.data import DataLoader\n",
    "from torchvision import datasets\n",
    "from torchvision.transforms import ToTensor\n",
    "import torch.optim as optim\n",
    "import argparse"
   ]
  },
  {
   "cell_type": "markdown",
   "id": "39011796-78f9-44a3-a7b7-62c77188480a",
   "metadata": {},
   "source": [
    "This is the `state_dict example` from the simple model used in the [Training a classifier](https://pytorch.org/tutorials/beginner/blitz/cifar10_tutorial.html#sphx-glr-beginner-blitz-cifar10-tutorial-py) tutorial.\n",
    "In order to load it, needed to import `import torch.optim as optim`. However, it doesn't fully show how to load. "
   ]
  },
  {
   "cell_type": "code",
   "execution_count": null,
   "id": "d2fa33fe-dc71-4c6a-b1ed-82dd85c8dabf",
   "metadata": {},
   "outputs": [],
   "source": [
    "# Define model\n",
    "class TheModelClass(nn.Module):\n",
    "    def __init__(self):\n",
    "        super(TheModelClass, self).__init__()\n",
    "        self.conv1 = nn.Conv2d(3, 6, 5)\n",
    "        self.pool = nn.MaxPool2d(2, 2)\n",
    "        self.conv2 = nn.Conv2d(6, 16, 5)\n",
    "        self.fc1 = nn.Linear(16 * 5 * 5, 120)\n",
    "        self.fc2 = nn.Linear(120, 84)\n",
    "        self.fc3 = nn.Linear(84, 10)\n",
    "\n",
    "    def forward(self, x):\n",
    "        x = self.pool(F.relu(self.conv1(x)))\n",
    "        x = self.pool(F.relu(self.conv2(x)))\n",
    "        x = x.view(-1, 16 * 5 * 5)\n",
    "        x = F.relu(self.fc1(x))\n",
    "        x = F.relu(self.fc2(x))\n",
    "        x = self.fc3(x)\n",
    "        return x\n",
    "\n",
    "# Initialize model\n",
    "model = TheModelClass()\n",
    "\n",
    "# Initialize optimizer\n",
    "optimizer = optim.SGD(model.parameters(), lr=0.001, momentum=0.9)\n",
    "\n",
    "# Print model's state_dict\n",
    "print(\"Model's state_dict:\")\n",
    "for param_tensor in model.state_dict():\n",
    "    print(param_tensor, \"\\t\", model.state_dict()[param_tensor].size())\n",
    "\n",
    "# Print optimizer's state_dict\n",
    "print(\"Optimizer's state_dict:\")\n",
    "for var_name in optimizer.state_dict():\n",
    "    print(var_name, \"\\t\", optimizer.state_dict()[var_name])"
   ]
  },
  {
   "cell_type": "markdown",
   "id": "7a7c39a8-3c5f-433c-838d-0a4b5d93ed00",
   "metadata": {},
   "source": [
    "# Save Model\n",
    "\n",
    "A common way to save a model is to serialize the internal state dictionary (containing the model parameters)."
   ]
  },
  {
   "cell_type": "code",
   "execution_count": null,
   "id": "14ddb18a-fa54-4d10-8480-991e9dc11bdd",
   "metadata": {},
   "outputs": [],
   "source": [
    "PATH = 'model.pth'\n",
    "torch.save(model.state_dict(), PATH)"
   ]
  },
  {
   "cell_type": "markdown",
   "id": "3e41f0a3-8e30-41c5-8dae-9c6b65687306",
   "metadata": {},
   "source": [
    "Also, you can save the entire library. The code for this is below."
   ]
  },
  {
   "cell_type": "code",
   "execution_count": null,
   "id": "14a7cf8e-0cbb-45d1-b4e9-591118a89763",
   "metadata": {},
   "outputs": [],
   "source": [
    "#torch.save(model, PATH)"
   ]
  },
  {
   "cell_type": "markdown",
   "metadata": {},
   "source": [
    "# Load Model\n",
    "The code loads the state dictionary of the model using torch.load and then saves it into a new instance of TheModelClass."
   ]
  },
  {
   "cell_type": "code",
   "execution_count": null,
   "metadata": {},
   "outputs": [],
   "source": [
    "loaded_model = TheModelClass()\n",
    "loaded_model.load_state_dict(torch.load(PATH))\n",
    "loaded_model.eval()"
   ]
  },
  {
   "cell_type": "markdown",
   "id": "c53e15e3-5a4c-4fe8-9e91-c68ab7ea291b",
   "metadata": {},
   "source": [
    "[Link](https://pytorch.org/tutorials/beginner/saving_loading_models.html) to the documentation with the model example above."
   ]
  }
 ],
 "metadata": {
  "kernelspec": {
   "display_name": "Python 3 (ipykernel)",
   "language": "python",
   "name": "python3"
  },
  "language_info": {
   "codemirror_mode": {
    "name": "ipython",
    "version": 3
   },
   "file_extension": ".py",
   "mimetype": "text/x-python",
   "name": "python",
   "nbconvert_exporter": "python",
   "pygments_lexer": "ipython3",
   "version": "3.11.4"
  }
 },
 "nbformat": 4,
 "nbformat_minor": 5
}
