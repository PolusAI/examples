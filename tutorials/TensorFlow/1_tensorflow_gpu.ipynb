{
 "cells": [
  {
   "cell_type": "markdown",
   "id": "73413492-53e1-453f-ab46-e23e820c2143",
   "metadata": {},
   "source": [
    "## Library version\n",
    "To see what TensorFlow version is installed, type this function:"
   ]
  },
  {
   "cell_type": "code",
   "execution_count": 1,
   "id": "3754acd2-503c-4670-be21-50e5ad02d37f",
   "metadata": {},
   "outputs": [],
   "source": [
    "import tensorflow as tf"
   ]
  },
  {
   "cell_type": "code",
   "execution_count": 2,
   "id": "889990fb-cbbf-49d8-b353-809cfad0cfb6",
   "metadata": {},
   "outputs": [
    {
     "data": {
      "text/plain": [
       "'2.8.0'"
      ]
     },
     "execution_count": 2,
     "metadata": {},
     "output_type": "execute_result"
    }
   ],
   "source": [
    "tf.__version__"
   ]
  },
  {
   "cell_type": "markdown",
   "id": "ae48cb98-994a-4074-aaf5-5c18e327fe94",
   "metadata": {},
   "source": [
    "## Check if it's running on GPU\n",
    "\n",
    "Write the function in the cell below."
   ]
  },
  {
   "cell_type": "code",
   "execution_count": 3,
   "id": "3e6b28ce-f008-4ddb-9041-68cfd94e625f",
   "metadata": {},
   "outputs": [
    {
     "name": "stdout",
     "output_type": "stream",
     "text": [
      "Num GPUs Available:  1\n"
     ]
    },
    {
     "name": "stderr",
     "output_type": "stream",
     "text": [
      "2022-10-04 18:51:28.316000: I tensorflow/stream_executor/cuda/cuda_gpu_executor.cc:936] successful NUMA node read from SysFS had negative value (-1), but there must be at least one NUMA node, so returning NUMA node zero\n",
      "2022-10-04 18:51:28.376659: I tensorflow/stream_executor/cuda/cuda_gpu_executor.cc:936] successful NUMA node read from SysFS had negative value (-1), but there must be at least one NUMA node, so returning NUMA node zero\n",
      "2022-10-04 18:51:28.377015: I tensorflow/stream_executor/cuda/cuda_gpu_executor.cc:936] successful NUMA node read from SysFS had negative value (-1), but there must be at least one NUMA node, so returning NUMA node zero\n"
     ]
    }
   ],
   "source": [
    "print(\"Num GPUs Available: \", len(tf.config.list_physical_devices('GPU')))"
   ]
  },
  {
   "cell_type": "code",
   "execution_count": null,
   "id": "f912d94b-277b-4173-b99e-851d9a28c57b",
   "metadata": {},
   "outputs": [],
   "source": []
  }
 ],
 "metadata": {
  "kernelspec": {
   "display_name": "Python 3 (ipykernel)",
   "language": "python",
   "name": "python3"
  },
  "language_info": {
   "codemirror_mode": {
    "name": "ipython",
    "version": 3
   },
   "file_extension": ".py",
   "mimetype": "text/x-python",
   "name": "python",
   "nbconvert_exporter": "python",
   "pygments_lexer": "ipython3",
   "version": "3.9.13"
  }
 },
 "nbformat": 4,
 "nbformat_minor": 5
}
