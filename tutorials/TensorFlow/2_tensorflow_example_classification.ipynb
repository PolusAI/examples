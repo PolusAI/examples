{
 "cells": [
  {
   "cell_type": "markdown",
   "id": "7f7f9167-ac5d-4a7c-8c37-d29d8617d1a8",
   "metadata": {},
   "source": [
    "## Linear Regression Example"
   ]
  },
  {
   "cell_type": "code",
   "execution_count": 8,
   "id": "007f95ac-a744-40b5-871c-7238986186a2",
   "metadata": {},
   "outputs": [],
   "source": [
    "from __future__ import absolute_import, division, print_function"
   ]
  },
  {
   "cell_type": "code",
   "execution_count": 28,
   "id": "ee0864f4-9a18-4f03-954f-c87db5b8f0dc",
   "metadata": {},
   "outputs": [],
   "source": [
    "import tensorflow as tf\n",
    "import numpy as np\n",
    "rng = np.random"
   ]
  },
  {
   "cell_type": "code",
   "execution_count": 29,
   "id": "f6eed8e6-da03-43be-b922-b4cfd4860ed4",
   "metadata": {},
   "outputs": [],
   "source": [
    "# Parameters.\n",
    "learning_rate = 0.01\n",
    "training_steps = 1000\n",
    "display_step = 50"
   ]
  },
  {
   "cell_type": "code",
   "execution_count": 30,
   "id": "a3bc6d3e-d89e-4dd7-a4e3-9722e8464df6",
   "metadata": {},
   "outputs": [],
   "source": [
    "# Training Data.\n",
    "X = np.array([3.3,4.4,5.5,6.71,6.93,4.168,9.779,6.182,7.59,2.167,\n",
    "              7.042,10.791,5.313,7.997,5.654,9.27,3.1])\n",
    "Y = np.array([1.7,2.76,2.09,3.19,1.694,1.573,3.366,2.596,2.53,1.221,\n",
    "              2.827,3.465,1.65,2.904,2.42,2.94,1.3])"
   ]
  },
  {
   "cell_type": "code",
   "execution_count": 31,
   "id": "14c81201-bd0d-4aec-9df5-336c5cb513a6",
   "metadata": {},
   "outputs": [],
   "source": [
    "# Weight and Bias, initialized randomly.\n",
    "W = tf.Variable(rng.randn(), name=\"weight\")\n",
    "b = tf.Variable(rng.randn(), name=\"bias\")\n",
    "\n",
    "# Linear regression (Wx + b).\n",
    "def linear_regression(x):\n",
    "    return W * x + b\n",
    "\n",
    "# Mean square error.\n",
    "def mean_square(y_pred, y_true):\n",
    "    return tf.reduce_mean(tf.square(y_pred - y_true))\n",
    "\n",
    "# Stochastic Gradient Descent Optimizer.\n",
    "optimizer = tf.optimizers.SGD(learning_rate)"
   ]
  },
  {
   "cell_type": "code",
   "execution_count": 32,
   "id": "c4f27789-19ab-458a-be28-0a39ba4e57ce",
   "metadata": {},
   "outputs": [],
   "source": [
    "# Optimization process. \n",
    "def run_optimization():\n",
    "    # Wrap computation inside a GradientTape for automatic differentiation.\n",
    "    with tf.GradientTape() as g:\n",
    "        pred = linear_regression(X)\n",
    "        loss = mean_square(pred, Y)\n",
    "\n",
    "    # Compute gradients.\n",
    "    gradients = g.gradient(loss, [W, b])\n",
    "    \n",
    "    # Update W and b following gradients.\n",
    "    optimizer.apply_gradients(zip(gradients, [W, b]))"
   ]
  },
  {
   "cell_type": "code",
   "execution_count": 33,
   "id": "e0994982-7d75-4091-9133-2bcd03212c9d",
   "metadata": {},
   "outputs": [
    {
     "name": "stdout",
     "output_type": "stream",
     "text": [
      "step: 50, loss: 0.543926, W: 0.502012, b: -0.976262\n",
      "step: 100, loss: 0.459759, W: 0.473360, b: -0.773131\n",
      "step: 150, loss: 0.393753, W: 0.447987, b: -0.593246\n",
      "step: 200, loss: 0.341989, W: 0.425517, b: -0.433946\n",
      "step: 250, loss: 0.301395, W: 0.405619, b: -0.292875\n",
      "step: 300, loss: 0.269560, W: 0.387998, b: -0.167948\n",
      "step: 350, loss: 0.244594, W: 0.372393, b: -0.057317\n",
      "step: 400, loss: 0.225015, W: 0.358574, b: 0.040653\n",
      "step: 450, loss: 0.209661, W: 0.346336, b: 0.127413\n",
      "step: 500, loss: 0.197620, W: 0.335499, b: 0.204244\n",
      "step: 550, loss: 0.188177, W: 0.325902, b: 0.272282\n",
      "step: 600, loss: 0.180772, W: 0.317403, b: 0.332535\n",
      "step: 650, loss: 0.174964, W: 0.309877, b: 0.385893\n",
      "step: 700, loss: 0.170410, W: 0.303212, b: 0.433144\n",
      "step: 750, loss: 0.166838, W: 0.297310, b: 0.474989\n",
      "step: 800, loss: 0.164038, W: 0.292083, b: 0.512044\n",
      "step: 850, loss: 0.161841, W: 0.287454, b: 0.544860\n",
      "step: 900, loss: 0.160118, W: 0.283355, b: 0.573920\n",
      "step: 950, loss: 0.158767, W: 0.279725, b: 0.599654\n",
      "step: 1000, loss: 0.157708, W: 0.276511, b: 0.622444\n"
     ]
    }
   ],
   "source": [
    "# Run training for the given number of steps.\n",
    "for step in range(1, training_steps + 1):\n",
    "    # Run the optimization to update W and b values.\n",
    "    run_optimization()\n",
    "    \n",
    "    if step % display_step == 0:\n",
    "        pred = linear_regression(X)\n",
    "        loss = mean_square(pred, Y)\n",
    "        print(\"step: %i, loss: %f, W: %f, b: %f\" % (step, loss, W.numpy(), b.numpy()))"
   ]
  },
  {
   "cell_type": "code",
   "execution_count": 34,
   "id": "5a7a4487-cef8-4840-a1a8-e1500d8c4955",
   "metadata": {},
   "outputs": [],
   "source": [
    "import matplotlib.pyplot as plt"
   ]
  },
  {
   "cell_type": "code",
   "execution_count": 35,
   "id": "61bb515c-0301-47e8-8056-d2da98ac08af",
   "metadata": {},
   "outputs": [
    {
     "data": {
      "image/png": "[encoded data removed]",
      "text/plain": [
       "<Figure size 640x480 with 1 Axes>"
      ]
     },
     "metadata": {},
     "output_type": "display_data"
    }
   ],
   "source": [
    "# Graphic display\n",
    "plt.plot(X, Y, 'ro', label='Original data')\n",
    "plt.plot(X, np.array(W * X + b), label='Fitted line')\n",
    "plt.legend()\n",
    "plt.show()"
   ]
  },
  {
   "cell_type": "markdown",
   "id": "34c376c4-55b2-462b-bcc8-40a601078250",
   "metadata": {},
   "source": [
    "## Classification Example"
   ]
  },
  {
   "cell_type": "code",
   "execution_count": 32,
   "id": "378a073b-2806-4d93-978d-53654cd16e0a",
   "metadata": {},
   "outputs": [],
   "source": [
    "# Step 1: Import necessary libraries\n",
    "import tensorflow as tf\n",
    "# from tensorflow.keras import layers, models\n",
    "from tensorflow import keras\n",
    "from keras import models, layers \n",
    "import numpy as np"
   ]
  },
  {
   "cell_type": "code",
   "execution_count": 5,
   "id": "9bd251b4-41ce-48cf-a0fa-5a5f27e1858e",
   "metadata": {},
   "outputs": [
    {
     "name": "stdout",
     "output_type": "stream",
     "text": [
      "Downloading data from https://storage.googleapis.com/tensorflow/tf-keras-datasets/mnist.npz\n",
      "11490434/11490434 [==============================] - 0s 0us/step\n"
     ]
    }
   ],
   "source": [
    "# Step 2: Load and prepare the MNIST dataset\n",
    "mnist = tf.keras.datasets.mnist\n",
    "(train_images, train_labels), (test_images, test_labels) = mnist.load_data()"
   ]
  },
  {
   "cell_type": "code",
   "execution_count": 6,
   "id": "cf7132b7-3e4d-4540-bdff-4ca2f0c2142b",
   "metadata": {},
   "outputs": [],
   "source": [
    "# Normalize pixel values to be between 0 and 1\n",
    "train_images, test_images = train_images / 255.0, test_images / 255.0\n"
   ]
  },
  {
   "cell_type": "code",
   "execution_count": 26,
   "id": "f6e049e5-f0a2-488d-851b-fa905104d943",
   "metadata": {},
   "outputs": [],
   "source": [
    "# Step 3: Define the neural network architecture\n",
    "model = models.Sequential([\n",
    "    layers.Flatten(input_shape=(28, 28)),  # Flatten the 28x28 images to 1D array\n",
    "    layers.Dense(128, activation='relu'),  # Fully connected layer with 128 units and ReLU activation\n",
    "    layers.Dropout(0.2),  # Dropout layer to reduce overfitting\n",
    "    layers.Dense(10, activation ='softmax')  # Output layer with 10 units (one for each digit)\n",
    "])"
   ]
  },
  {
   "cell_type": "code",
   "execution_count": 27,
   "id": "e0cb291b-e60b-4e14-961f-12a232c2aaa1",
   "metadata": {},
   "outputs": [],
   "source": [
    "# Step 4: Compile the model\n",
    "model.compile(optimizer='adam',\n",
    "              loss=tf.keras.losses.SparseCategoricalCrossentropy(),\n",
    "              metrics=['accuracy'])"
   ]
  },
  {
   "cell_type": "code",
   "execution_count": 28,
   "id": "67a8ffab-dd9e-4626-acb9-0f24e0df266b",
   "metadata": {},
   "outputs": [
    {
     "name": "stdout",
     "output_type": "stream",
     "text": [
      "Epoch 1/5\n"
     ]
    },
    {
     "name": "stderr",
     "output_type": "stream",
     "text": [
      "2023-10-04 15:05:28.048418: W tensorflow/tsl/framework/cpu_allocator_impl.cc:82] Allocation of 188160000 exceeds 10% of free system memory.\n"
     ]
    },
    {
     "name": "stdout",
     "output_type": "stream",
     "text": [
      "1875/1875 [==============================] - 5s 2ms/step - loss: 0.2951 - accuracy: 0.9150\n",
      "Epoch 2/5\n",
      "1875/1875 [==============================] - 4s 2ms/step - loss: 0.1423 - accuracy: 0.9578\n",
      "Epoch 3/5\n",
      "1875/1875 [==============================] - 4s 2ms/step - loss: 0.1062 - accuracy: 0.9676\n",
      "Epoch 4/5\n",
      "1875/1875 [==============================] - 4s 2ms/step - loss: 0.0891 - accuracy: 0.9722\n",
      "Epoch 5/5\n",
      "1875/1875 [==============================] - 4s 2ms/step - loss: 0.0758 - accuracy: 0.9758\n"
     ]
    },
    {
     "data": {
      "text/plain": [
       "<keras.callbacks.History at 0x7fe0cc552250>"
      ]
     },
     "execution_count": 28,
     "metadata": {},
     "output_type": "execute_result"
    }
   ],
   "source": [
    "# Step 5: Train the model\n",
    "model.fit(train_images, train_labels, epochs=5)"
   ]
  },
  {
   "cell_type": "code",
   "execution_count": 29,
   "id": "8b58df2a-f194-48fe-a468-b1e3406ba437",
   "metadata": {},
   "outputs": [
    {
     "name": "stdout",
     "output_type": "stream",
     "text": [
      "313/313 - 0s - loss: 0.0735 - accuracy: 0.9767 - 494ms/epoch - 2ms/step\n",
      "\n",
      "Test accuracy: 97.67%\n"
     ]
    }
   ],
   "source": [
    "# Step 6: Evaluate the model\n",
    "test_loss, test_acc = model.evaluate(test_images, test_labels, verbose=2)\n",
    "print(f\"\\nTest accuracy: {test_acc*100:.2f}%\")"
   ]
  },
  {
   "cell_type": "code",
   "execution_count": 35,
   "id": "ef4e0564-eca5-449e-9919-c993e72eea3b",
   "metadata": {},
   "outputs": [
    {
     "name": "stdout",
     "output_type": "stream",
     "text": [
      "1/1 [==============================] - 0s 19ms/step\n"
     ]
    }
   ],
   "source": [
    "# choose an index\n",
    "sample_index = 24 \n",
    "\n",
    "sample = np.expand_dims(test_images[sample_index], axis=0)  # Add batch dimension\n",
    "\n",
    "prediction_random = model.predict(sample)"
   ]
  },
  {
   "cell_type": "code",
   "execution_count": 36,
   "id": "60d31a1d-4d46-4881-9b0e-31aae461040c",
   "metadata": {},
   "outputs": [
    {
     "name": "stdout",
     "output_type": "stream",
     "text": [
      "Predicted class: 4\n"
     ]
    }
   ],
   "source": [
    "predicted_class = np.argmax(prediction_random)\n",
    "print(f\"Predicted class: {predicted_class}\")"
   ]
  }
 ],
 "metadata": {
  "kernelspec": {
   "display_name": "Python Data Science 0.1.8",
   "language": "python",
   "name": "python-data-science"
  },
  "language_info": {
   "codemirror_mode": {
    "name": "ipython",
    "version": 3
   },
   "file_extension": ".py",
   "mimetype": "text/x-python",
   "name": "python",
   "nbconvert_exporter": "python",
   "pygments_lexer": "ipython3",
   "version": "3.9.15"
  }
 },
 "nbformat": 4,
 "nbformat_minor": 5
}
