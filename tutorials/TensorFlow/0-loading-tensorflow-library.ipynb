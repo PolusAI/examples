{
 "cells": [
  {
   "cell_type": "markdown",
   "metadata": {},
   "source": [
    "# Tensorflow Library "
   ]
  },
  {
   "cell_type": "markdown",
   "id": "73413492-53e1-453f-ab46-e23e820c2143",
   "metadata": {},
   "source": [
    "### Loading the Tensorflow Library"
   ]
  },
  {
   "cell_type": "code",
   "execution_count": null,
   "id": "3754acd2-503c-4670-be21-50e5ad02d37f",
   "metadata": {},
   "outputs": [],
   "source": [
    "import tensorflow as tf"
   ]
  },
  {
   "cell_type": "markdown",
   "metadata": {},
   "source": [
    "### Checking the installed Tensorflow library version "
   ]
  },
  {
   "cell_type": "code",
   "execution_count": null,
   "id": "889990fb-cbbf-49d8-b353-809cfad0cfb6",
   "metadata": {},
   "outputs": [],
   "source": [
    "tf.__version__"
   ]
  },
  {
   "cell_type": "markdown",
   "id": "ae48cb98-994a-4074-aaf5-5c18e327fe94",
   "metadata": {},
   "source": [
    "### Checking current available devices\n",
    "\n",
    "Cells below check if any GPU is used in this system"
   ]
  },
  {
   "cell_type": "code",
   "execution_count": null,
   "id": "3e6b28ce-f008-4ddb-9041-68cfd94e625f",
   "metadata": {},
   "outputs": [],
   "source": [
    "print(\"Num GPUs Available: \", len(tf.config.list_physical_devices('GPU')))"
   ]
  }
 ],
 "metadata": {
  "kernelspec": {
   "display_name": "Python 3 (ipykernel)",
   "language": "python",
   "name": "python3"
  },
  "language_info": {
   "codemirror_mode": {
    "name": "ipython",
    "version": 3
   },
   "file_extension": ".py",
   "mimetype": "text/x-python",
   "name": "python",
   "nbconvert_exporter": "python",
   "pygments_lexer": "ipython3",
   "version": "3.9.13"
  }
 },
 "nbformat": 4,
 "nbformat_minor": 5
}
