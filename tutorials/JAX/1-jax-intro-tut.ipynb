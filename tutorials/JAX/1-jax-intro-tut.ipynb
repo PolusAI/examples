{
 "cells": [
  {
   "cell_type": "code",
   "execution_count": 16,
   "id": "bec25a3d-99c2-4a9c-ba67-d0e80ec5f26e",
   "metadata": {},
   "outputs": [],
   "source": [
    "## Section 1: Understanding JAX Basics\n",
    "\n",
    "# 1.1 Importing JAX:"
   ]
  },
  {
   "cell_type": "code",
   "execution_count": 1,
   "id": "b43229eb",
   "metadata": {},
   "outputs": [],
   "source": [
    "import jax\n",
    "import jax.numpy as jnp"
   ]
  },
  {
   "cell_type": "code",
   "execution_count": null,
   "id": "08a1a705-e15f-4e3b-b685-aa2371fe22e6",
   "metadata": {},
   "outputs": [],
   "source": [
    "# JAX is designed to be compatible with NumPy, a widely used library for numerical operations."
   ]
  },
  {
   "cell_type": "code",
   "execution_count": 2,
   "id": "f9068560-1f61-48e2-8324-34bf98ad9440",
   "metadata": {},
   "outputs": [
    {
     "name": "stdout",
     "output_type": "stream",
     "text": [
      "[2 4 6]\n"
     ]
    }
   ],
   "source": [
    "import numpy as np\n",
    "\n",
    "# Create a NumPy array\n",
    "numpy_array = np.array([1, 2, 3])\n",
    "\n",
    "# Convert it to a JAX array\n",
    "jax_array = jnp.array(numpy_array)\n",
    "\n",
    "# Perform operations on the JAX array\n",
    "result = jax_array * 2\n",
    "\n",
    "print(result)"
   ]
  },
  {
   "cell_type": "code",
   "execution_count": null,
   "id": "674041e4-0d28-4b73-b1d3-e1bd65c37aca",
   "metadata": {},
   "outputs": [],
   "source": [
    "# As can be seen above, we can use JAX in a similar way to NumPy, making it easy with NumPy to get started with JAX."
   ]
  },
  {
   "cell_type": "code",
   "execution_count": 4,
   "id": "cc1f78f8",
   "metadata": {},
   "outputs": [
    {
     "name": "stdout",
     "output_type": "stream",
     "text": [
      "TFRT_CPU_0\n"
     ]
    }
   ],
   "source": [
    "# Lets check whether JAX is using the CPU or the GPU:\n",
    "devices = jax.devices()\n",
    "for device in devices:\n",
    "    print(device)"
   ]
  },
  {
   "cell_type": "code",
   "execution_count": 5,
   "id": "b5836ed6",
   "metadata": {},
   "outputs": [
    {
     "name": "stdout",
     "output_type": "stream",
     "text": [
      "cpu\n"
     ]
    }
   ],
   "source": [
    "from jax.lib import xla_bridge\n",
    "print(xla_bridge.get_backend().platform)"
   ]
  },
  {
   "cell_type": "code",
   "execution_count": null,
   "id": "d7440cb4-2a08-4b69-a899-687159bd64a4",
   "metadata": {},
   "outputs": [],
   "source": [
    "# One of the key features of JAX is its efficient automatic differentiation capabilities. This allows us to compute gradients effortlessly."
   ]
  },
  {
   "cell_type": "code",
   "execution_count": null,
   "id": "9842f150-697a-4c84-836a-87d214e8d98d",
   "metadata": {},
   "outputs": [
    {
     "ename": "TypeError",
     "evalue": "grad requires real- or complex-valued inputs (input dtype that is a sub-dtype of np.inexact), but got int32. If you want to use Boolean- or integer-valued inputs, use vjp or set allow_int to True.",
     "output_type": "error",
     "traceback": [
      "\u001b[0;31m---------------------------------------------------------------------------\u001b[0m",
      "\u001b[0;31mTypeError\u001b[0m                                 Traceback (most recent call last)",
      "Cell \u001b[0;32mIn[7], line 11\u001b[0m\n\u001b[1;32m      8\u001b[0m df_dx \u001b[38;5;241m=\u001b[39m grad(f)\n\u001b[1;32m     10\u001b[0m \u001b[38;5;66;03m# Evaluate the derivative at x = 2\u001b[39;00m\n\u001b[0;32m---> 11\u001b[0m result \u001b[38;5;241m=\u001b[39m \u001b[43mdf_dx\u001b[49m\u001b[43m(\u001b[49m\u001b[38;5;241;43m2\u001b[39;49m\u001b[43m)\u001b[49m\n\u001b[1;32m     13\u001b[0m \u001b[38;5;28mprint\u001b[39m(result)\n",
      "    \u001b[0;31m[... skipping hidden 4 frame]\u001b[0m\n",
      "File \u001b[0;32m/opt/modules/shared/conda-envs/python-data-science-0.1.8/lib/python3.9/site-packages/jax/_src/api.py:1206\u001b[0m, in \u001b[0;36m_check_input_dtype_revderiv\u001b[0;34m(name, holomorphic, allow_int, x)\u001b[0m\n\u001b[1;32m   1203\u001b[0m \u001b[38;5;28;01mif\u001b[39;00m (dtypes\u001b[38;5;241m.\u001b[39missubdtype(aval\u001b[38;5;241m.\u001b[39mdtype, np\u001b[38;5;241m.\u001b[39minteger) \u001b[38;5;129;01mor\u001b[39;00m\n\u001b[1;32m   1204\u001b[0m     dtypes\u001b[38;5;241m.\u001b[39missubdtype(aval\u001b[38;5;241m.\u001b[39mdtype, np\u001b[38;5;241m.\u001b[39mbool_)):\n\u001b[1;32m   1205\u001b[0m   \u001b[38;5;28;01mif\u001b[39;00m \u001b[38;5;129;01mnot\u001b[39;00m allow_int:\n\u001b[0;32m-> 1206\u001b[0m     \u001b[38;5;28;01mraise\u001b[39;00m \u001b[38;5;167;01mTypeError\u001b[39;00m(\u001b[38;5;124mf\u001b[39m\u001b[38;5;124m\"\u001b[39m\u001b[38;5;132;01m{\u001b[39;00mname\u001b[38;5;132;01m}\u001b[39;00m\u001b[38;5;124m requires real- or complex-valued inputs (input dtype \u001b[39m\u001b[38;5;124m\"\u001b[39m\n\u001b[1;32m   1207\u001b[0m                     \u001b[38;5;124mf\u001b[39m\u001b[38;5;124m\"\u001b[39m\u001b[38;5;124mthat is a sub-dtype of np.inexact), but got \u001b[39m\u001b[38;5;132;01m{\u001b[39;00maval\u001b[38;5;241m.\u001b[39mdtype\u001b[38;5;241m.\u001b[39mname\u001b[38;5;132;01m}\u001b[39;00m\u001b[38;5;124m. \u001b[39m\u001b[38;5;124m\"\u001b[39m\n\u001b[1;32m   1208\u001b[0m                     \u001b[38;5;124m\"\u001b[39m\u001b[38;5;124mIf you want to use Boolean- or integer-valued inputs, use vjp \u001b[39m\u001b[38;5;124m\"\u001b[39m\n\u001b[1;32m   1209\u001b[0m                     \u001b[38;5;124m\"\u001b[39m\u001b[38;5;124mor set allow_int to True.\u001b[39m\u001b[38;5;124m\"\u001b[39m)\n\u001b[1;32m   1210\u001b[0m \u001b[38;5;28;01melif\u001b[39;00m \u001b[38;5;129;01mnot\u001b[39;00m dtypes\u001b[38;5;241m.\u001b[39missubdtype(aval\u001b[38;5;241m.\u001b[39mdtype, np\u001b[38;5;241m.\u001b[39minexact):\n\u001b[1;32m   1211\u001b[0m   \u001b[38;5;28;01mraise\u001b[39;00m \u001b[38;5;167;01mTypeError\u001b[39;00m(\u001b[38;5;124mf\u001b[39m\u001b[38;5;124m\"\u001b[39m\u001b[38;5;132;01m{\u001b[39;00mname\u001b[38;5;132;01m}\u001b[39;00m\u001b[38;5;124m requires numerical-valued inputs (input dtype that is a \u001b[39m\u001b[38;5;124m\"\u001b[39m\n\u001b[1;32m   1212\u001b[0m                   \u001b[38;5;124mf\u001b[39m\u001b[38;5;124m\"\u001b[39m\u001b[38;5;124msub-dtype of np.bool_ or np.number), but got \u001b[39m\u001b[38;5;132;01m{\u001b[39;00maval\u001b[38;5;241m.\u001b[39mdtype\u001b[38;5;241m.\u001b[39mname\u001b[38;5;132;01m}\u001b[39;00m\u001b[38;5;124m.\u001b[39m\u001b[38;5;124m\"\u001b[39m)\n",
      "\u001b[0;31mTypeError\u001b[0m: grad requires real- or complex-valued inputs (input dtype that is a sub-dtype of np.inexact), but got int32. If you want to use Boolean- or integer-valued inputs, use vjp or set allow_int to True."
     ]
    }
   ],
   "source": [
    "from jax import grad\n",
    "\n",
    "# Define a simple function\n",
    "def f(x):\n",
    "    return x**2 + 3*x + 1\n",
    "\n",
    "# Compute the derivative of f with respect to x\n",
    "df_dx = grad(f)\n",
    "\n",
    "# Evaluate the derivative at x = 2\n",
    "result = df_dx(2)\n",
    "\n",
    "print(result)"
   ]
  },
  {
   "cell_type": "code",
   "execution_count": null,
   "id": "32589c7c-fbb0-4dfc-801b-6e12a75d5e95",
   "metadata": {},
   "outputs": [],
   "source": [
    "# JAX also allows us to compute higher-order gradients with ease, which is crucial for machine learning algorithms."
   ]
  },
  {
   "cell_type": "code",
   "execution_count": null,
   "id": "750fa4a9-9e97-4ac9-b69b-e93fe29bd64f",
   "metadata": {},
   "outputs": [],
   "source": [
    "# JAX enables efficient vectorized computations, which can greatly accelerate numerical operations."
   ]
  },
  {
   "cell_type": "code",
   "execution_count": null,
   "id": "0e1c7625-210e-4dd0-9572-1f558534b0b4",
   "metadata": {},
   "outputs": [
    {
     "name": "stdout",
     "output_type": "stream",
     "text": [
      "[ 5 11 19 29]\n"
     ]
    }
   ],
   "source": [
    "# Define a function that operates element-wise on an array\n",
    "def elementwise_func(x):\n",
    "    return x**2 + 3*x + 1\n",
    "\n",
    "# Apply the function to an array using JAX\n",
    "input_array = jnp.array([1, 2, 3, 4])\n",
    "result = elementwise_func(input_array)\n",
    "\n",
    "print(result)\n"
   ]
  }
 ],
 "metadata": {
  "kernelspec": {
   "display_name": "base",
   "language": "python",
   "name": "python3"
  },
  "language_info": {
   "codemirror_mode": {
    "name": "ipython",
    "version": 3
   },
   "file_extension": ".py",
   "mimetype": "text/x-python",
   "name": "python",
   "nbconvert_exporter": "python",
   "pygments_lexer": "ipython3",
   "version": "3.11.4"
  }
 },
 "nbformat": 4,
 "nbformat_minor": 5
}
