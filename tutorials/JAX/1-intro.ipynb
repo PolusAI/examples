{
 "cells": [
  {
   "cell_type": "markdown",
   "id": "8d10ae52",
   "metadata": {},
   "source": [
    "## Section 1: Computation using JAX \n",
    "\n",
    "1.1 JAX is designed to be compatible with NumPy, a widely used library for numerical operations:"
   ]
  },
  {
   "cell_type": "code",
   "execution_count": null,
   "id": "1d9094a0",
   "metadata": {
    "tags": []
   },
   "outputs": [],
   "source": [
    "import numpy as np\n",
    "import jax\n",
    "import jax.numpy as jnp\n",
    "\n",
    "# Create a NumPy array\n",
    "numpy_array = np.array([1, 2, 3])\n",
    "\n",
    "# Convert it to a JAX array\n",
    "jax_array = jnp.array(numpy_array)\n",
    "\n",
    "# Perform operations on the JAX array\n",
    "result = jax_array * 2\n",
    "\n",
    "print(result)"
   ]
  },
  {
   "cell_type": "markdown",
   "id": "c1bac40c",
   "metadata": {},
   "source": [
    "1.2 As can be seen above, we can use JAX in a similar way to NumPy, making it easy with NumPy to get started with JAX.\n",
    "\n",
    "1.3 One of the key features of JAX is its efficient automatic differentiation capabilities. This allows us to compute gradients effortlessly:"
   ]
  },
  {
   "cell_type": "code",
   "execution_count": null,
   "id": "5b1bcf42",
   "metadata": {},
   "outputs": [],
   "source": [
    "from jax import grad\n",
    "\n",
    "# Define a simple function\n",
    "def f(x):\n",
    "    return x**2 + 3*x + 1\n",
    "\n",
    "# Compute the derivative of f with respect to x\n",
    "df_dx = grad(f)\n",
    "\n",
    "# Evaluate the derivative at x = 2\n",
    "result = df_dx(2)\n",
    "\n",
    "print(result)"
   ]
  },
  {
   "cell_type": "markdown",
   "id": "b260907b",
   "metadata": {},
   "source": [
    "1.4 JAX also allows us to compute higher-order gradients with ease, which is crucial for machine learning algorithms.\n",
    "\n",
    "1.5 JAX enables efficient vectorized computations, which can greatly accelerate numerical operations."
   ]
  },
  {
   "cell_type": "code",
   "execution_count": null,
   "id": "1f58f805",
   "metadata": {},
   "outputs": [],
   "source": [
    "# Define a function that operates element-wise on an array\n",
    "def elementwise_func(x):\n",
    "    return x**2 + 3*x + 1\n",
    "\n",
    "# Apply the function to an array using JAX\n",
    "input_array = jnp.array([1, 2, 3, 4])\n",
    "result = elementwise_func(input_array)\n",
    "\n",
    "print(result)\n"
   ]
  }
 ],
 "metadata": {
  "kernelspec": {
   "display_name": "Python 3 (ipykernel)",
   "language": "python",
   "name": "python3"
  },
  "language_info": {
   "codemirror_mode": {
    "name": "ipython",
    "version": 3
   },
   "file_extension": ".py",
   "mimetype": "text/x-python",
   "name": "python",
   "nbconvert_exporter": "python",
   "pygments_lexer": "ipython3",
   "version": "3.11.4"
  }
 },
 "nbformat": 4,
 "nbformat_minor": 5
}
