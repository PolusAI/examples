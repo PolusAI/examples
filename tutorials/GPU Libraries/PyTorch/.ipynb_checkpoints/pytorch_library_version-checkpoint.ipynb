{
 "cells": [
  {
   "cell_type": "markdown",
   "id": "06a5ec8e-fd4c-4487-adf6-5f6304262d0f",
   "metadata": {},
   "source": [
    "# Cells above check for Library Version"
   ]
  },
  {
   "cell_type": "code",
   "execution_count": 1,
   "id": "1183b79e-9e90-4567-8c62-4a171c6eb66a",
   "metadata": {},
   "outputs": [],
   "source": [
    "import torch"
   ]
  },
  {
   "cell_type": "code",
   "execution_count": 2,
   "id": "ef6eb2ab-7895-43bc-a8ff-7127ab652459",
   "metadata": {},
   "outputs": [
    {
     "name": "stdout",
     "output_type": "stream",
     "text": [
      "1.11.0\n"
     ]
    }
   ],
   "source": [
    "print(torch.__version__)"
   ]
  },
  {
   "cell_type": "code",
   "execution_count": null,
   "id": "17fd72a5-1c66-40ea-b10c-215ab6a8b775",
   "metadata": {},
   "outputs": [],
   "source": []
  }
 ],
 "metadata": {
  "kernelspec": {
   "display_name": "Python Data Science 0.1.2",
   "language": "python",
   "name": "python-data-science"
  },
  "language_info": {
   "codemirror_mode": {
    "name": "ipython",
    "version": 3
   },
   "file_extension": ".py",
   "mimetype": "text/x-python",
   "name": "python",
   "nbconvert_exporter": "python",
   "pygments_lexer": "ipython3",
   "version": "3.9.12"
  }
 },
 "nbformat": 4,
 "nbformat_minor": 5
}
