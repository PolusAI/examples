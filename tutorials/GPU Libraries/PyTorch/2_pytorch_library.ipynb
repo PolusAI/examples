{
 "cells": [
  {
   "cell_type": "markdown",
   "id": "76ba0b55-f897-4cbf-b22c-1d6f9fcfa4c7",
   "metadata": {},
   "source": [
    "## Load Library\n",
    "\n",
    "1. Use the code in the cells below first and then put your code.\n",
    "2. PyTorch has two primitives to work with data: ```torch.utils.data.DataLoader``` and ```torch.utils.data.Dataset```. Dataset stores the samples and their corresponding labels, and ```DataLoader``` wraps an iterable around the``` Dataset```.\n"
   ]
  },
  {
   "cell_type": "code",
   "execution_count": 12,
   "id": "237824e8-2c4b-4f85-bf81-22cf5737a1c6",
   "metadata": {},
   "outputs": [],
   "source": [
    "import torch"
   ]
  },
  {
   "cell_type": "code",
   "execution_count": 13,
   "id": "935d24c7-d54c-4555-a25b-bff649d91895",
   "metadata": {},
   "outputs": [],
   "source": [
    "from torch import nn\n",
    "from torch.utils.data import DataLoader\n",
    "from torchvision import datasets\n",
    "from torchvision.transforms import ToTensor\n",
    "import torch.optim as optim\n",
    "import argparse"
   ]
  },
  {
   "cell_type": "markdown",
   "id": "39011796-78f9-44a3-a7b7-62c77188480a",
   "metadata": {},
   "source": [
    "This is the `state_dict example` from the simple model used in the [Training a classifier](https://pytorch.org/tutorials/beginner/blitz/cifar10_tutorial.html#sphx-glr-beginner-blitz-cifar10-tutorial-py) tutorial.\n",
    "In order to load it, needed to import `import torch.optim as optim`. However, it doesn't fully show how to load. "
   ]
  },
  {
   "cell_type": "code",
   "execution_count": 14,
   "id": "d2fa33fe-dc71-4c6a-b1ed-82dd85c8dabf",
   "metadata": {},
   "outputs": [
    {
     "name": "stdout",
     "output_type": "stream",
     "text": [
      "Model's state_dict:\n",
      "conv1.weight \t torch.Size([6, 3, 5, 5])\n",
      "conv1.bias \t torch.Size([6])\n",
      "conv2.weight \t torch.Size([16, 6, 5, 5])\n",
      "conv2.bias \t torch.Size([16])\n",
      "fc1.weight \t torch.Size([120, 400])\n",
      "fc1.bias \t torch.Size([120])\n",
      "fc2.weight \t torch.Size([84, 120])\n",
      "fc2.bias \t torch.Size([84])\n",
      "fc3.weight \t torch.Size([10, 84])\n",
      "fc3.bias \t torch.Size([10])\n",
      "Optimizer's state_dict:\n",
      "state \t {}\n",
      "param_groups \t [{'lr': 0.001, 'momentum': 0.9, 'dampening': 0, 'weight_decay': 0, 'nesterov': False, 'maximize': False, 'foreach': None, 'params': [0, 1, 2, 3, 4, 5, 6, 7, 8, 9]}]\n"
     ]
    }
   ],
   "source": [
    "# Define model\n",
    "class TheModelClass(nn.Module):\n",
    "    def __init__(self):\n",
    "        super(TheModelClass, self).__init__()\n",
    "        self.conv1 = nn.Conv2d(3, 6, 5)\n",
    "        self.pool = nn.MaxPool2d(2, 2)\n",
    "        self.conv2 = nn.Conv2d(6, 16, 5)\n",
    "        self.fc1 = nn.Linear(16 * 5 * 5, 120)\n",
    "        self.fc2 = nn.Linear(120, 84)\n",
    "        self.fc3 = nn.Linear(84, 10)\n",
    "\n",
    "    def forward(self, x):\n",
    "        x = self.pool(F.relu(self.conv1(x)))\n",
    "        x = self.pool(F.relu(self.conv2(x)))\n",
    "        x = x.view(-1, 16 * 5 * 5)\n",
    "        x = F.relu(self.fc1(x))\n",
    "        x = F.relu(self.fc2(x))\n",
    "        x = self.fc3(x)\n",
    "        return x\n",
    "\n",
    "# Initialize model\n",
    "model = TheModelClass()\n",
    "\n",
    "# Initialize optimizer\n",
    "optimizer = optim.SGD(model.parameters(), lr=0.001, momentum=0.9)\n",
    "\n",
    "# Print model's state_dict\n",
    "print(\"Model's state_dict:\")\n",
    "for param_tensor in model.state_dict():\n",
    "    print(param_tensor, \"\\t\", model.state_dict()[param_tensor].size())\n",
    "\n",
    "# Print optimizer's state_dict\n",
    "print(\"Optimizer's state_dict:\")\n",
    "for var_name in optimizer.state_dict():\n",
    "    print(var_name, \"\\t\", optimizer.state_dict()[var_name])"
   ]
  },
  {
   "cell_type": "markdown",
   "id": "ae2490e4-0a44-44ca-a28c-28352619d07f",
   "metadata": {},
   "source": [
    "Two cells below help to actually load the model. For reference, the [documentation is here](https://pytorch.org/tutorials/beginner/saving_loading_models.html)\n",
    "\n",
    "Cell below needs to be written to provide a path, where the dataset is."
   ]
  },
  {
   "cell_type": "code",
   "execution_count": 22,
   "id": "b7ffc43d-2e5b-4d4e-9340-5fd64628e3a8",
   "metadata": {},
   "outputs": [
    {
     "name": "stderr",
     "output_type": "stream",
     "text": [
      "usage: ipykernel_launcher.py [-h] -i I\n",
      "ipykernel_launcher.py: error: the following arguments are required: -i/-C:/datasets/\n"
     ]
    },
    {
     "ename": "SystemExit",
     "evalue": "2",
     "output_type": "error",
     "traceback": [
      "An exception has occurred, use %tb to see the full traceback.\n",
      "\u001b[0;31mSystemExit\u001b[0m\u001b[0;31m:\u001b[0m 2\n"
     ]
    }
   ],
   "source": [
    "# ap = argparse.ArgumentParser()\n",
    "# ap.add_argument(\"-i\", \"-C:/datasets/\", required=True,help=\"path to input image\", skiprows = args[\"Start\"], nrows= args[\"Rows\"])\n",
    "# ap.add_argument(\"-p\", \"-C:/datasets/\", required=True,help=\"path to Caffe 'deploy' prototxt file\", skiprows = args[\"Start\"], nrows= args[\"Rows\"])\n",
    "# ap.add_argument(\"-m\", \"-C:/datasets/\", required=True,help=\"path to Caffe pre-trained model\", skiprows = args[\"Start\"], nrows= args[\"Rows\"])\n",
    "\n",
    "args = vars(ap.parse_args())"
   ]
  },
  {
   "cell_type": "markdown",
   "id": "58fdb022-fd01-4050-a659-d58797378f2b",
   "metadata": {},
   "source": [
    "If there is no path, in the cell above, then in the cell below there might be this error: `NameError: name 'args' is not defined`"
   ]
  },
  {
   "cell_type": "code",
   "execution_count": 20,
   "id": "1ad534f5-0d23-402c-b4b1-8ea17bf5b570",
   "metadata": {},
   "outputs": [
    {
     "ename": "NameError",
     "evalue": "name 'args' is not defined",
     "output_type": "error",
     "traceback": [
      "\u001b[0;31m---------------------------------------------------------------------------\u001b[0m",
      "\u001b[0;31mNameError\u001b[0m                                 Traceback (most recent call last)",
      "Cell \u001b[0;32mIn [20], line 1\u001b[0m\n\u001b[0;32m----> 1\u001b[0m model \u001b[38;5;241m=\u001b[39m TheModelClass(\u001b[38;5;241m*\u001b[39m\u001b[43margs\u001b[49m, \u001b[38;5;241m*\u001b[39m\u001b[38;5;241m*\u001b[39mkwargs)\n\u001b[1;32m      2\u001b[0m model\u001b[38;5;241m.\u001b[39mload_state_dict(torch\u001b[38;5;241m.\u001b[39mload(PATH))\n\u001b[1;32m      3\u001b[0m model\u001b[38;5;241m.\u001b[39meval()\n",
      "\u001b[0;31mNameError\u001b[0m: name 'args' is not defined"
     ]
    }
   ],
   "source": [
    "model = TheModelClass(*args, **kwargs)\n",
    "model.load_state_dict(torch.load(PATH))\n",
    "model.eval()"
   ]
  },
  {
   "cell_type": "markdown",
   "id": "f48bf48e-451c-49f2-94ce-ca6f00b137d6",
   "metadata": {},
   "source": [
    "Also, you can load the entire library. Code for that is below"
   ]
  },
  {
   "cell_type": "code",
   "execution_count": 21,
   "id": "01d5aa72-ed8f-4e22-b691-46e3f840fec9",
   "metadata": {},
   "outputs": [
    {
     "ename": "NameError",
     "evalue": "name 'PATH' is not defined",
     "output_type": "error",
     "traceback": [
      "\u001b[0;31m---------------------------------------------------------------------------\u001b[0m",
      "\u001b[0;31mNameError\u001b[0m                                 Traceback (most recent call last)",
      "Cell \u001b[0;32mIn [21], line 1\u001b[0m\n\u001b[0;32m----> 1\u001b[0m model \u001b[38;5;241m=\u001b[39m torch\u001b[38;5;241m.\u001b[39mload(\u001b[43mPATH\u001b[49m)\n\u001b[1;32m      2\u001b[0m model\u001b[38;5;241m.\u001b[39meval()\n",
      "\u001b[0;31mNameError\u001b[0m: name 'PATH' is not defined"
     ]
    }
   ],
   "source": [
    "model = torch.load(PATH)\n",
    "model.eval()"
   ]
  },
  {
   "cell_type": "markdown",
   "id": "7a7c39a8-3c5f-433c-838d-0a4b5d93ed00",
   "metadata": {},
   "source": [
    "# Save Model\n",
    "\n",
    "A common way to save a model is to serialize the internal state dictionary (containing the model parameters)."
   ]
  },
  {
   "cell_type": "code",
   "execution_count": null,
   "id": "14ddb18a-fa54-4d10-8480-991e9dc11bdd",
   "metadata": {},
   "outputs": [],
   "source": [
    "torch.save(model.state_dict(), \"model.pth\")\n",
    "\n",
    "print(\"Saved PyTorch Model State to model.pth\")"
   ]
  },
  {
   "cell_type": "markdown",
   "id": "3e41f0a3-8e30-41c5-8dae-9c6b65687306",
   "metadata": {},
   "source": [
    "Also, you can save the entire library. The code for this is below."
   ]
  },
  {
   "cell_type": "code",
   "execution_count": null,
   "id": "14a7cf8e-0cbb-45d1-b4e9-591118a89763",
   "metadata": {},
   "outputs": [],
   "source": [
    "torch.save(model, PATH)"
   ]
  },
  {
   "cell_type": "markdown",
   "id": "c53e15e3-5a4c-4fe8-9e91-c68ab7ea291b",
   "metadata": {},
   "source": [
    "[Link](https://pytorch.org/tutorials/beginner/saving_loading_models.html) to the documentation with the model example above."
   ]
  },
  {
   "cell_type": "code",
   "execution_count": null,
   "id": "139f865f-df41-4842-9f2a-55ca8285ec3a",
   "metadata": {},
   "outputs": [],
   "source": []
  }
 ],
 "metadata": {
  "kernelspec": {
   "display_name": "Python 3 (ipykernel)",
   "language": "python",
   "name": "python3"
  },
  "language_info": {
   "codemirror_mode": {
    "name": "ipython",
    "version": 3
   },
   "file_extension": ".py",
   "mimetype": "text/x-python",
   "name": "python",
   "nbconvert_exporter": "python",
   "pygments_lexer": "ipython3",
   "version": "3.9.13"
  }
 },
 "nbformat": 4,
 "nbformat_minor": 5
}
