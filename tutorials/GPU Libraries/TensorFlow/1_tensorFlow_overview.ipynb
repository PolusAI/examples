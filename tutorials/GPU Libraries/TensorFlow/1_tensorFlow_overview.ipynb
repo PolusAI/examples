{
 "cells": [
  {
   "cell_type": "markdown",
   "id": "d5dc8823-3239-4d51-9090-853a335efe49",
   "metadata": {},
   "source": [
    "## Load Library\n",
    "\n",
    "There are different types of data that a person can load. In order to load any data, a person needs to write two functions used in the cell above. \n",
    "Most common are:\n",
    "- Images\n",
    "- Video\n",
    "- CSV\n",
    "- NumPy\n",
    "- pandas.Dataframe\n",
    "- tfr.Record and tf.Example\n",
    "- Text\n"
   ]
  },
  {
   "cell_type": "markdown",
   "id": "d639351a-88e6-4605-a8c4-026b96b9206b",
   "metadata": {},
   "source": [
    "In the cells below, this should always be above any code. This imports tensorFlow. "
   ]
  },
  {
   "cell_type": "code",
   "execution_count": 1,
   "id": "3f8eeba3-9ad2-4c3d-a402-46fac9527b2d",
   "metadata": {},
   "outputs": [],
   "source": [
    "import tensorflow as tf\n",
    "from tensorflow import keras"
   ]
  },
  {
   "cell_type": "markdown",
   "id": "8cc4517e-9092-497e-bbe1-54e14a26ea01",
   "metadata": {},
   "source": [
    "# Images\n",
    "\n",
    "\n",
    "- First, you will use high-level Keras preprocessing utilities (such as tf.keras.utils.image_dataset_from_directory) and layers (such as ```tf.keras.layers.Rescaling```) to read a directory of images on disk.\n",
    "- Next, you will write your own input pipeline from scratch using ```tf.data```.\n",
    "Above steps are written in the cell below in the code format. \n",
    "- Finally, you will download a dataset from the large catalog available in TensorFlow Datasets.\n"
   ]
  },
  {
   "cell_type": "code",
   "execution_count": null,
   "id": "7649309b-6f75-4d95-a9e0-eba27ca24354",
   "metadata": {},
   "outputs": [],
   "source": [
    "import numpy as np\n",
    "import os\n",
    "import PIL\n",
    "import PIL.Image"
   ]
  },
  {
   "cell_type": "markdown",
   "id": "a7878a3b-80ce-4f75-9ae5-69044f8f035c",
   "metadata": {},
   "source": [
    "# Video\n",
    "\n",
    "Once you have preprocessed the data, it can be used for such tasks as video classification/recognition, captioning or clustering. The code written in the cell below can help to set up the data when for video: "
   ]
  },
  {
   "cell_type": "code",
   "execution_count": null,
   "id": "567a6321-acd9-4f27-8a20-373b346599c9",
   "metadata": {},
   "outputs": [],
   "source": [
    "import tqdm\n",
    "import random\n",
    "import pathlib\n",
    "import itertools\n",
    "import collections\n",
    "\n",
    "import os\n",
    "import cv2\n",
    "import numpy as np\n",
    "import remotezip as rz\n",
    "\n",
    "# Some modules to display an animation using imageio.\n",
    "import imageio\n",
    "from IPython import display\n",
    "from urllib import request\n",
    "from tensorflow_docs.vis import embed"
   ]
  },
  {
   "cell_type": "markdown",
   "id": "d1b56564-6d32-4e93-bd7e-11145dba2b6f",
   "metadata": {},
   "source": [
    "# CSV, pandasDataframe and NumPy"
   ]
  },
  {
   "cell_type": "code",
   "execution_count": null,
   "id": "8772ecd7-48c6-4b6d-b8b1-a26e814933e2",
   "metadata": {},
   "outputs": [],
   "source": [
    "import pandas as pd\n",
    "import numpy as np\n",
    "\n",
    "# Make numpy values easier to read.\n",
    "np.set_printoptions(precision=3, suppress=True)\n",
    "\n",
    "import tensorflow as tf\n",
    "from tensorflow.keras import layers"
   ]
  },
  {
   "cell_type": "markdown",
   "id": "2ef198f9-e243-4c98-9b0e-2801396ca438",
   "metadata": {},
   "source": [
    "# TfRecord"
   ]
  },
  {
   "cell_type": "code",
   "execution_count": null,
   "id": "2d339151-e336-4349-a272-c3650493083d",
   "metadata": {},
   "outputs": [],
   "source": [
    "import tensorflow as tf\n",
    "\n",
    "import numpy as np\n",
    "import IPython.display as display"
   ]
  },
  {
   "cell_type": "markdown",
   "id": "aca699b3-1971-4819-809f-016f484fb960",
   "metadata": {},
   "source": [
    "# Text"
   ]
  },
  {
   "cell_type": "code",
   "execution_count": null,
   "id": "3a454078-e431-4170-aa0a-616c387288e4",
   "metadata": {},
   "outputs": [],
   "source": [
    "import collections\n",
    "import pathlib\n",
    "\n",
    "import tensorflow as tf\n",
    "\n",
    "from tensorflow.keras import layers\n",
    "from tensorflow.keras import losses\n",
    "from tensorflow.keras import utils\n",
    "from tensorflow.keras.layers import TextVectorization\n",
    "\n",
    "import tensorflow_datasets as tfds\n",
    "import tensorflow_text as tf_text"
   ]
  }
 ],
 "metadata": {
  "kernelspec": {
   "display_name": "Python 3 (ipykernel)",
   "language": "python",
   "name": "python3"
  },
  "language_info": {
   "codemirror_mode": {
    "name": "ipython",
    "version": 3
   },
   "file_extension": ".py",
   "mimetype": "text/x-python",
   "name": "python",
   "nbconvert_exporter": "python",
   "pygments_lexer": "ipython3",
   "version": "3.9.13"
  }
 },
 "nbformat": 4,
 "nbformat_minor": 5
}
