{
 "cells": [
  {
   "cell_type": "markdown",
   "id": "04f89cd0-839a-4cfa-bb6d-c1b6453d6624",
   "metadata": {},
   "source": [
    "# Pet Breeds Example\n",
    "\n",
    "[Source](https://github.com/fastai/fastbook/blob/master/05_pet_breeds.ipynb)"
   ]
  },
  {
   "cell_type": "code",
   "execution_count": 1,
   "id": "d2cedc64-20bf-4fbf-a452-0ba488078442",
   "metadata": {},
   "outputs": [
    {
     "ename": "ModuleNotFoundError",
     "evalue": "No module named 'fastbook'",
     "output_type": "error",
     "traceback": [
      "\u001b[0;31m---------------------------------------------------------------------------\u001b[0m",
      "\u001b[0;31mModuleNotFoundError\u001b[0m                       Traceback (most recent call last)",
      "Cell \u001b[0;32mIn [1], line 4\u001b[0m\n\u001b[1;32m      2\u001b[0m \u001b[38;5;66;03m#hide\u001b[39;00m\n\u001b[1;32m      3\u001b[0m get_ipython()\u001b[38;5;241m.\u001b[39msystem(\u001b[38;5;124m'\u001b[39m\u001b[38;5;124m [ -e /content ] && pip install -Uqq fastbook\u001b[39m\u001b[38;5;124m'\u001b[39m)\n\u001b[0;32m----> 4\u001b[0m \u001b[38;5;28;01mimport\u001b[39;00m \u001b[38;5;21;01mfastbook\u001b[39;00m\n\u001b[1;32m      5\u001b[0m fastbook\u001b[38;5;241m.\u001b[39msetup_book()\n",
      "\u001b[0;31mModuleNotFoundError\u001b[0m: No module named 'fastbook'"
     ]
    }
   ],
   "source": [
    "\n",
    "import fastai\n",
    "#hide\n",
    "! [ -e /content ] && pip install -Uqq fastbook\n",
    "import fastbook\n",
    "fastbook.setup_book()\n",
    "\n"
   ]
  },
  {
   "cell_type": "code",
   "execution_count": null,
   "id": "0a9ebb35-f49e-4ff9-938f-df2f633ac8fb",
   "metadata": {},
   "outputs": [],
   "source": [
    "\n",
    "\n",
    "#hide\n",
    "from fastbook import *\n",
    "\n"
   ]
  },
  {
   "cell_type": "code",
   "execution_count": 2,
   "id": "8e19acf0-9a3c-4b12-92da-a4bf78a3a6da",
   "metadata": {},
   "outputs": [
    {
     "data": {
      "text/html": [
       "\n",
       "<style>\n",
       "    /* Turns off some styling */\n",
       "    progress {\n",
       "        /* gets rid of default border in Firefox and Opera. */\n",
       "        border: none;\n",
       "        /* Needs to be in here for Safari polyfill so background images work as expected. */\n",
       "        background-size: auto;\n",
       "    }\n",
       "    progress:not([value]), progress:not([value])::-webkit-progress-bar {\n",
       "        background: repeating-linear-gradient(45deg, #7e7e7e, #7e7e7e 10px, #5c5c5c 10px, #5c5c5c 20px);\n",
       "    }\n",
       "    .progress-bar-interrupted, .progress-bar-interrupted::-webkit-progress-bar {\n",
       "        background: #F44336;\n",
       "    }\n",
       "</style>\n"
      ],
      "text/plain": [
       "<IPython.core.display.HTML object>"
      ]
     },
     "metadata": {},
     "output_type": "display_data"
    },
    {
     "data": {
      "text/html": [
       "\n",
       "    <div>\n",
       "      <progress value='811712512' class='' max='811706944' style='width:300px; height:20px; vertical-align: middle;'></progress>\n",
       "      100.00% [811712512/811706944 00:13&lt;00:00]\n",
       "    </div>\n",
       "    "
      ],
      "text/plain": [
       "<IPython.core.display.HTML object>"
      ]
     },
     "metadata": {},
     "output_type": "display_data"
    }
   ],
   "source": [
    "from fastai.vision.all import *\n",
    "path = untar_data(URLs.PETS)"
   ]
  },
  {
   "cell_type": "code",
   "execution_count": 3,
   "id": "59299296-92fa-4bd1-bbe0-4d9c0817928b",
   "metadata": {},
   "outputs": [],
   "source": [
    "#hide\n",
    "Path.BASE_PATH = path"
   ]
  },
  {
   "cell_type": "code",
   "execution_count": 4,
   "id": "951ea094-4b68-4fca-a9b0-20100412c2d4",
   "metadata": {},
   "outputs": [
    {
     "data": {
      "text/plain": [
       "(#2) [Path('images'),Path('annotations')]"
      ]
     },
     "execution_count": 4,
     "metadata": {},
     "output_type": "execute_result"
    }
   ],
   "source": [
    "path.ls()"
   ]
  },
  {
   "cell_type": "code",
   "execution_count": 5,
   "id": "21a2c775-27ea-4a58-a665-1d4b987ae26b",
   "metadata": {},
   "outputs": [],
   "source": [
    "import warnings\n",
    "warnings.filterwarnings(\"ignore\")"
   ]
  },
  {
   "cell_type": "code",
   "execution_count": 6,
   "id": "74ffb5ff-e85f-4312-918e-4a7c359d3d29",
   "metadata": {},
   "outputs": [
    {
     "ename": "NameError",
     "evalue": "name 'fastprogress' is not defined",
     "output_type": "error",
     "traceback": [
      "\u001b[0;31m---------------------------------------------------------------------------\u001b[0m",
      "\u001b[0;31mNameError\u001b[0m                                 Traceback (most recent call last)",
      "Cell \u001b[0;32mIn [6], line 2\u001b[0m\n\u001b[1;32m      1\u001b[0m torch\u001b[38;5;241m.\u001b[39mbackends\u001b[38;5;241m.\u001b[39mcudnn\u001b[38;5;241m.\u001b[39mbenchmark \u001b[38;5;241m=\u001b[39m \u001b[38;5;28;01mTrue\u001b[39;00m\n\u001b[0;32m----> 2\u001b[0m \u001b[43mfastprogress\u001b[49m\u001b[38;5;241m.\u001b[39mMAX_COLS \u001b[38;5;241m=\u001b[39m \u001b[38;5;241m80\u001b[39m\n",
      "\u001b[0;31mNameError\u001b[0m: name 'fastprogress' is not defined"
     ]
    }
   ],
   "source": [
    "\n",
    "torch.backends.cudnn.benchmark = True\n",
    "fastprogress.MAX_COLS = 80"
   ]
  },
  {
   "cell_type": "code",
   "execution_count": null,
   "id": "8a15665f-d313-421e-97e2-1e78daead047",
   "metadata": {},
   "outputs": [],
   "source": [
    "def get_dls(bs, workers=None):\n",
    "    path = untar_data(URLs.PETS)\n",
    "    #source = untar_data(path)\n",
    "    if workers is None: workers = min(8, num_cpus())\n",
    "    batch_tfms = [aug_transforms(size=224, min_scale=0.75)]\n",
    "    dblock = DataBlock(blocks = (ImageBlock, CategoryBlock),\n",
    "                       get_items=get_image_files, \n",
    "                       splitter=RandomSplitter(seed=42),\n",
    "                       get_y=using_attr(RegexLabeller(r'(.+)_\\d+.jpg$'), 'name'),\n",
    "                       item_tfms=Resize(460),\n",
    "                       batch_tfms=aug_transforms(size=224, min_scale=0.75))\n",
    "    return dblock.dataloaders(path/\"images\", bs=bs, num_workers=workers)"
   ]
  },
  {
   "cell_type": "code",
   "execution_count": null,
   "id": "f45556c5-7f80-47d3-b292-34bf1b840a60",
   "metadata": {},
   "outputs": [],
   "source": [
    "@call_parse\n",
    "def main(\n",
    "    gpu:   Param(\"GPU to run on\", int)=None,\n",
    "    bs:    Param(\"Batch size\", int)=64,\n",
    "    arch:  Param(\"Architecture\", str)=resnet34,\n",
    "    runs:  Param(\"Number of times to repeat training\", int)=1\n",
    "):\n",
    "    \"Training of pets.\"\n",
    "    \n",
    "    # gpu = setup_distrib(gpu)\n",
    "    if gpu is not None: torch.cuda.set_device(gpu)\n",
    "        \n",
    "    dls = get_dls(bs)\n",
    "\n",
    "    for run in range(runs):\n",
    "        print(f'Run: {run}')\n",
    "        \n",
    "        learn = cnn_learner(dls, arch, metrics=error_rate).to_fp16()\n",
    "\n",
    "        n_gpu = torch.cuda.device_count()\n",
    "        \n",
    "        # The old way to use DataParallel, or DistributedDataParallel training:\n",
    "        # if gpu is None and n_gpu: learn.to_parallel()\n",
    "        # if num_distrib()>1: learn.to_distributed(gpu) # Requires `-m fastai2.launch`\n",
    "\n",
    "        # the context manager way of dp/ddp, both can handle single GPU base case.\n",
    "        ctx = learn.parallel_ctx if gpu is None and n_gpu else learn.distrib_ctx\n",
    "\n",
    "        with partial(ctx, gpu)(): # distributed traing requires \"-m fastai2.launch\"\n",
    "            print(f\"Training in {ctx.__name__} context on GPU {gpu if gpu is not None else list(range(n_gpu))}\")\n",
    "            learn.fine_tune(2)"
   ]
  },
  {
   "cell_type": "code",
   "execution_count": null,
   "id": "7a494ae2-2383-421f-abe4-09ce1b8a785d",
   "metadata": {},
   "outputs": [],
   "source": []
  }
 ],
 "metadata": {
  "kernelspec": {
   "display_name": "Python Data Science 0.1.5",
   "language": "python",
   "name": "python-data-science"
  },
  "language_info": {
   "codemirror_mode": {
    "name": "ipython",
    "version": 3
   },
   "file_extension": ".py",
   "mimetype": "text/x-python",
   "name": "python",
   "nbconvert_exporter": "python",
   "pygments_lexer": "ipython3",
   "version": "3.9.13"
  }
 },
 "nbformat": 4,
 "nbformat_minor": 5
}
