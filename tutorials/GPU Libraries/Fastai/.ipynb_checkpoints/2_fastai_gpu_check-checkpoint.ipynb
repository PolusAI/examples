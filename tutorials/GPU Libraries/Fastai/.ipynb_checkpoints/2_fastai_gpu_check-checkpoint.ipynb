{
 "cells": [
  {
   "cell_type": "markdown",
   "id": "1316f8d1-e8bb-4178-b23e-22c7e865c020",
   "metadata": {},
   "source": [
    "### Check if it's running on GPU\n",
    "\n",
    "Watch the processes using GPU(s) and the current state of your GPU(s):\n",
    "run ``` watch -n 1 nvidia-smi ``` in terminal\n",
    "\n",
    "Watch the usage stats as their change:\n",
    "\n",
    "```nvidia-smi --query-gpu=timestamp,pstate,temperature.gpu,utilization.gpu,utilization.memory,memory.total,memory.free,memory.used --format=csv -l 1```\n",
    "\n",
    "\n",
    "List the available GPU devices:"
   ]
  },
  {
   "cell_type": "code",
   "execution_count": 1,
   "id": "0588c1ca-cd28-49c7-b677-34bdd2c065b4",
   "metadata": {},
   "outputs": [],
   "source": [
    "import fastai"
   ]
  },
  {
   "cell_type": "code",
   "execution_count": 2,
   "id": "f880a6f1-6334-474c-bcf7-d85652bae647",
   "metadata": {},
   "outputs": [
    {
     "ename": "ModuleNotFoundError",
     "evalue": "No module named 'pynvml'",
     "output_type": "error",
     "traceback": [
      "\u001b[0;31m---------------------------------------------------------------------------\u001b[0m",
      "\u001b[0;31mModuleNotFoundError\u001b[0m                       Traceback (most recent call last)",
      "Cell \u001b[0;32mIn [2], line 1\u001b[0m\n\u001b[0;32m----> 1\u001b[0m \u001b[38;5;28;01mfrom\u001b[39;00m \u001b[38;5;21;01mpynvml\u001b[39;00m \u001b[38;5;28;01mimport\u001b[39;00m \u001b[38;5;241m*\u001b[39m\n\u001b[1;32m      2\u001b[0m nvmlInit()\n\u001b[1;32m      3\u001b[0m \u001b[38;5;28;01mtry\u001b[39;00m:\n",
      "\u001b[0;31mModuleNotFoundError\u001b[0m: No module named 'pynvml'"
     ]
    }
   ],
   "source": [
    "from pynvml import *\n",
    "nvmlInit()\n",
    "try:\n",
    "    deviceCount = nvmlDeviceGetCount()\n",
    "    for i in range(deviceCount):\n",
    "        handle = nvmlDeviceGetHandleByIndex(i)\n",
    "        print(\"Device\", i, \":\", nvmlDeviceGetName(handle))\n",
    "except NVMLError as error:\n",
    "    print(error)"
   ]
  },
  {
   "cell_type": "markdown",
   "id": "93f99558-95b0-4d5d-975d-155a986fbff8",
   "metadata": {},
   "source": [
    "## Check the latest Fastai Version on GPU"
   ]
  },
  {
   "cell_type": "code",
   "execution_count": null,
   "id": "88a64e2b-4ec5-49be-b073-584655137d50",
   "metadata": {},
   "outputs": [
    {
     "data": {
      "text/plain": [
       "'2.7.9'"
      ]
     },
     "execution_count": 3,
     "metadata": {},
     "output_type": "execute_result"
    }
   ],
   "source": [
    "fastai.__version__"
   ]
  },
  {
   "cell_type": "code",
   "execution_count": null,
   "id": "8f45383e-991f-4dac-97ac-4128012b4d23",
   "metadata": {},
   "outputs": [],
   "source": []
  }
 ],
 "metadata": {
  "kernelspec": {
   "display_name": "Python Data Science 0.1.5",
   "language": "python",
   "name": "python-data-science"
  },
  "language_info": {
   "codemirror_mode": {
    "name": "ipython",
    "version": 3
   },
   "file_extension": ".py",
   "mimetype": "text/x-python",
   "name": "python",
   "nbconvert_exporter": "python",
   "pygments_lexer": "ipython3",
   "version": "3.9.13"
  }
 },
 "nbformat": 4,
 "nbformat_minor": 5
}
