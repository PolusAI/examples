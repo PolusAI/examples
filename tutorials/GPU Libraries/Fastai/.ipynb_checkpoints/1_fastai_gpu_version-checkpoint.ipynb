{
 "cells": [
  {
   "cell_type": "markdown",
   "id": "36e6439e-1f68-47df-9d75-c7d76e328a86",
   "metadata": {},
   "source": [
    "## Check the latest version of fastai access"
   ]
  },
  {
   "cell_type": "code",
   "execution_count": null,
   "id": "3e452ef1-1f16-45fc-8c3b-8b3f242084ac",
   "metadata": {},
   "outputs": [],
   "source": [
    "import fastai\n",
    "fastai.__version__"
   ]
  }
 ],
 "metadata": {
  "kernelspec": {
   "display_name": "Python Data Science 0.1.2",
   "language": "python",
   "name": "python-data-science"
  },
  "language_info": {
   "codemirror_mode": {
    "name": "ipython",
    "version": 3
   },
   "file_extension": ".py",
   "mimetype": "text/x-python",
   "name": "python",
   "nbconvert_exporter": "python",
   "pygments_lexer": "ipython3",
   "version": "3.9.12"
  }
 },
 "nbformat": 4,
 "nbformat_minor": 5
}
