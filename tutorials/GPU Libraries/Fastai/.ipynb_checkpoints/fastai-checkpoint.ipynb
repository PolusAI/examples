{
 "cells": [
  {
   "cell_type": "code",
   "execution_count": 1,
   "id": "144e86a6-2480-4fe6-9601-aaf6a7d21a5e",
   "metadata": {},
   "outputs": [],
   "source": [
    "import fastai"
   ]
  },
  {
   "cell_type": "code",
   "execution_count": 2,
   "id": "eebb40d1-dfe2-4277-b9f1-d1210b6ac9b1",
   "metadata": {},
   "outputs": [],
   "source": [
    "from fastai.vision.all import *\n",
    "from fastai.text.all import *\n",
    "from fastai.collab import *\n",
    "from fastai.tabular.all import *"
   ]
  },
  {
   "cell_type": "markdown",
   "id": "c0dff5be-5c21-4991-b9c8-b603ccec9c6c",
   "metadata": {
    "tags": []
   },
   "source": [
    "## Load Library\n",
    "\n",
    "Code above is to help user to start the fastai.\n",
    "\n",
    "fastai's applications all use the same basic steps and code:\n",
    "\n",
    "- Create appropriate ```DataLoaders```\n",
    "- Create a ```Learner```\n",
    "- Call a <em>fit</em> method\n",
    "- Make predictions or view results.\n",
    "\n",
    "\n",
    "# Tests\n",
    "To run the tests in parallel, launch:\n",
    "```nbdev_test``` \n",
    "\n",
    "For all the tests to pass, you'll need to install the dependencies specified as part of dev_requirements.\n",
    "\n",
    "```pip install -e .[dev]```\n",
    "\n",
    "Tests are written using ```nbdev```"
   ]
  },
  {
   "cell_type": "markdown",
   "id": "1fcf0b0f-3b8a-4855-92e7-87f08fd98b50",
   "metadata": {},
   "source": [
    "### Check if it's running on GPU\n",
    "\n",
    "Watch the processes using GPU(s) and the current state of your GPU(s):\n",
    "run ``` watch -n 1 nvidia-smi ``` in terminal\n",
    "\n",
    "Watch the usage stats as their change:\n",
    "\n",
    "```nvidia-smi --query-gpu=timestamp,pstate,temperature.gpu,utilization.gpu,utilization.memory,memory.total,memory.free,memory.used --format=csv -l 1```\n",
    "\n",
    "\n",
    "List the available GPU devices:"
   ]
  },
  {
   "cell_type": "code",
   "execution_count": 3,
   "id": "224866a5-db39-44e4-b36b-1dd1ed50634f",
   "metadata": {},
   "outputs": [
    {
     "ename": "ModuleNotFoundError",
     "evalue": "No module named 'pynvml'",
     "output_type": "error",
     "traceback": [
      "\u001b[0;31m---------------------------------------------------------------------------\u001b[0m",
      "\u001b[0;31mModuleNotFoundError\u001b[0m                       Traceback (most recent call last)",
      "Cell \u001b[0;32mIn [3], line 1\u001b[0m\n\u001b[0;32m----> 1\u001b[0m \u001b[38;5;28;01mfrom\u001b[39;00m \u001b[38;5;21;01mpynvml\u001b[39;00m \u001b[38;5;28;01mimport\u001b[39;00m \u001b[38;5;241m*\u001b[39m\n\u001b[1;32m      3\u001b[0m nvmlInit()\n\u001b[1;32m      4\u001b[0m \u001b[38;5;28;01mtry\u001b[39;00m:\n",
      "\u001b[0;31mModuleNotFoundError\u001b[0m: No module named 'pynvml'"
     ]
    }
   ],
   "source": [
    "from pynvml import *\n",
    "\n",
    "nvmlInit()\n",
    "try:\n",
    "    deviceCount = nvmlDeviceGetCount()\n",
    "    for i in range(deviceCount):\n",
    "        handle = nvmlDeviceGetHandleByIndex(i)\n",
    "        print(\"Device\", i, \":\", nvmlDeviceGetName(handle))\n",
    "except NVMLError as error:\n",
    "    print(error)"
   ]
  },
  {
   "cell_type": "code",
   "execution_count": null,
   "id": "4570fa44-2c6a-4062-a8ce-87368ea5260b",
   "metadata": {},
   "outputs": [],
   "source": []
  }
 ],
 "metadata": {
  "kernelspec": {
   "display_name": "Python 3 (ipykernel)",
   "language": "python",
   "name": "python3"
  },
  "language_info": {
   "codemirror_mode": {
    "name": "ipython",
    "version": 3
   },
   "file_extension": ".py",
   "mimetype": "text/x-python",
   "name": "python",
   "nbconvert_exporter": "python",
   "pygments_lexer": "ipython3",
   "version": "3.9.13"
  }
 },
 "nbformat": 4,
 "nbformat_minor": 5
}
