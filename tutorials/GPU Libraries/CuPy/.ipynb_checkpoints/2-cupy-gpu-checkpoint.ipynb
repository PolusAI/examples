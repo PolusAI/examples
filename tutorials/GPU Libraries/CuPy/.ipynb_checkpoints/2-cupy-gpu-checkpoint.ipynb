{
 "cells": [
  {
   "cell_type": "markdown",
   "id": "93911a40-1847-402a-9327-0084ee4c8280",
   "metadata": {},
   "source": [
    "### Check if GPU is used"
   ]
  },
  {
   "cell_type": "code",
   "execution_count": 6,
   "id": "868a8b0b-ec01-4d23-94b8-7b54c6184e90",
   "metadata": {},
   "outputs": [],
   "source": [
    "import numpy as np\n",
    "import cupy "
   ]
  },
  {
   "cell_type": "markdown",
   "id": "174b4882-9040-408a-8934-f298359832a6",
   "metadata": {},
   "source": [
    "## GPU version"
   ]
  },
  {
   "cell_type": "code",
   "execution_count": 2,
   "id": "4e917efe-77a3-437b-86a5-d420be1bcb28",
   "metadata": {},
   "outputs": [
    {
     "data": {
      "text/plain": [
       "'11.1.0'"
      ]
     },
     "execution_count": 2,
     "metadata": {},
     "output_type": "execute_result"
    }
   ],
   "source": [
    "cupy.__version__"
   ]
  },
  {
   "cell_type": "markdown",
   "id": "2451ed33-f72d-4c4f-b1a5-180962b75996",
   "metadata": {},
   "source": [
    "### Current device \n",
    "\n",
    "Cells below check if CuPy is used in this system. "
   ]
  },
  {
   "cell_type": "markdown",
   "id": "9a881a68-1c01-4549-a362-49d6c3f6b0e0",
   "metadata": {},
   "source": [
    "#### The next two cells mean there are only one device that is used. \n",
    "\n",
    "CuPy has a concept of a “current device”, which is the current activated GPU device that will operate on an array or where future arrays will be allocated. Most of the time, if not explicitly declared or switched, the initial default device will be GPU 0. "
   ]
  },
  {
   "cell_type": "code",
   "execution_count": 3,
   "id": "ef3631ee-2fef-458d-aaae-e68eb9192940",
   "metadata": {},
   "outputs": [
    {
     "data": {
      "text/plain": [
       "<CUDA Device 0>"
      ]
     },
     "execution_count": 3,
     "metadata": {},
     "output_type": "execute_result"
    }
   ],
   "source": [
    "cupy.cuda.Device()"
   ]
  },
  {
   "cell_type": "markdown",
   "id": "f1780774-1f0d-45da-9d28-33821b5595f8",
   "metadata": {},
   "source": [
    "Total number of devices Cuda can access"
   ]
  },
  {
   "cell_type": "code",
   "execution_count": 4,
   "id": "314c3455-657d-44e3-91ad-84876c2f8970",
   "metadata": {},
   "outputs": [
    {
     "data": {
      "text/plain": [
       "1"
      ]
     },
     "execution_count": 4,
     "metadata": {},
     "output_type": "execute_result"
    }
   ],
   "source": [
    "cupy.cuda.runtime.getDeviceCount()\n"
   ]
  },
  {
   "cell_type": "markdown",
   "id": "4c4d0adb-d58a-418c-9e49-593d4d6b3ea9",
   "metadata": {},
   "source": [
    "This cell tells the device properties that this GPU is using. "
   ]
  },
  {
   "cell_type": "code",
   "execution_count": 5,
   "id": "e4cc10b6-2a4f-45e8-8403-b32be9a1e6e7",
   "metadata": {},
   "outputs": [
    {
     "data": {
      "text/plain": [
       "{'name': b'Tesla V100-SXM2-16GB',\n",
       " 'totalGlobalMem': 16945512448,\n",
       " 'sharedMemPerBlock': 49152,\n",
       " 'regsPerBlock': 65536,\n",
       " 'warpSize': 32,\n",
       " 'maxThreadsPerBlock': 1024,\n",
       " 'maxThreadsDim': (1024, 1024, 64),\n",
       " 'maxGridSize': (2147483647, 65535, 65535),\n",
       " 'clockRate': 1530000,\n",
       " 'totalConstMem': 65536,\n",
       " 'major': 7,\n",
       " 'minor': 0,\n",
       " 'textureAlignment': 512,\n",
       " 'texturePitchAlignment': 32,\n",
       " 'multiProcessorCount': 80,\n",
       " 'kernelExecTimeoutEnabled': 0,\n",
       " 'integrated': 0,\n",
       " 'canMapHostMemory': 1,\n",
       " 'computeMode': 0,\n",
       " 'maxTexture1D': 131072,\n",
       " 'maxTexture2D': (131072, 65536),\n",
       " 'maxTexture3D': (16384, 16384, 16384),\n",
       " 'concurrentKernels': 1,\n",
       " 'ECCEnabled': 1,\n",
       " 'pciBusID': 0,\n",
       " 'pciDeviceID': 30,\n",
       " 'pciDomainID': 0,\n",
       " 'tccDriver': 0,\n",
       " 'memoryClockRate': 877000,\n",
       " 'memoryBusWidth': 4096,\n",
       " 'l2CacheSize': 6291456,\n",
       " 'maxThreadsPerMultiProcessor': 2048,\n",
       " 'isMultiGpuBoard': 0,\n",
       " 'cooperativeLaunch': 1,\n",
       " 'cooperativeMultiDeviceLaunch': 1,\n",
       " 'deviceOverlap': 1,\n",
       " 'maxTexture1DMipmap': 32768,\n",
       " 'maxTexture1DLinear': 268435456,\n",
       " 'maxTexture1DLayered': (32768, 2048),\n",
       " 'maxTexture2DMipmap': (32768, 32768),\n",
       " 'maxTexture2DLinear': (131072, 65000, 2097120),\n",
       " 'maxTexture2DLayered': (32768, 32768, 2048),\n",
       " 'maxTexture2DGather': (32768, 32768),\n",
       " 'maxTexture3DAlt': (8192, 8192, 32768),\n",
       " 'maxTextureCubemap': 32768,\n",
       " 'maxTextureCubemapLayered': (32768, 2046),\n",
       " 'maxSurface1D': 32768,\n",
       " 'maxSurface1DLayered': (32768, 2048),\n",
       " 'maxSurface2D': (131072, 65536),\n",
       " 'maxSurface2DLayered': (32768, 32768, 2048),\n",
       " 'maxSurface3D': (16384, 16384, 16384),\n",
       " 'maxSurfaceCubemap': 32768,\n",
       " 'maxSurfaceCubemapLayered': (32768, 2046),\n",
       " 'surfaceAlignment': 512,\n",
       " 'asyncEngineCount': 2,\n",
       " 'unifiedAddressing': 1,\n",
       " 'streamPrioritiesSupported': 1,\n",
       " 'globalL1CacheSupported': 1,\n",
       " 'localL1CacheSupported': 1,\n",
       " 'sharedMemPerMultiprocessor': 98304,\n",
       " 'regsPerMultiprocessor': 65536,\n",
       " 'managedMemory': 1,\n",
       " 'multiGpuBoardGroupID': 0,\n",
       " 'hostNativeAtomicSupported': 0,\n",
       " 'singleToDoublePrecisionPerfRatio': 2,\n",
       " 'pageableMemoryAccess': 0,\n",
       " 'concurrentManagedAccess': 1,\n",
       " 'computePreemptionSupported': 1,\n",
       " 'canUseHostPointerForRegisteredMem': 1,\n",
       " 'sharedMemPerBlockOptin': 98304,\n",
       " 'pageableMemoryAccessUsesHostPageTables': 0,\n",
       " 'directManagedMemAccessFromHost': 0,\n",
       " 'uuid': b'\\xe8+\\x01\\xef\\x8cW\\x85\\xa2$\\\\\\xebk\\xab,\\xd8\\xd0',\n",
       " 'luid': b'',\n",
       " 'luidDeviceNodeMask': 0,\n",
       " 'persistingL2CacheMaxSize': 0,\n",
       " 'maxBlocksPerMultiProcessor': 32,\n",
       " 'accessPolicyMaxWindowSize': 0,\n",
       " 'reservedSharedMemPerBlock': 0}"
      ]
     },
     "execution_count": 5,
     "metadata": {},
     "output_type": "execute_result"
    }
   ],
   "source": [
    "cupy.cuda.runtime.getDeviceProperties(0)"
   ]
  },
  {
   "cell_type": "code",
   "execution_count": null,
   "id": "5cee7711-4e60-463e-b249-4025d8b23010",
   "metadata": {},
   "outputs": [],
   "source": []
  }
 ],
 "metadata": {
  "kernelspec": {
   "display_name": "Python 3 (ipykernel)",
   "language": "python",
   "name": "python3"
  },
  "language_info": {
   "codemirror_mode": {
    "name": "ipython",
    "version": 3
   },
   "file_extension": ".py",
   "mimetype": "text/x-python",
   "name": "python",
   "nbconvert_exporter": "python",
   "pygments_lexer": "ipython3",
   "version": "3.9.13"
  }
 },
 "nbformat": 4,
 "nbformat_minor": 5
}
