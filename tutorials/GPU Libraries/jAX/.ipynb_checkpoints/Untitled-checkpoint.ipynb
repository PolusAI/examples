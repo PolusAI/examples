{
 "cells": [
  {
   "cell_type": "markdown",
   "id": "ea2ec231-5ab3-4cab-a36c-517743ebb592",
   "metadata": {},
   "source": [
    "### GPU"
   ]
  },
  {
   "cell_type": "markdown",
   "id": "2a76ab1e-f81d-4a53-badb-93c8836dbf97",
   "metadata": {},
   "source": [
    "To check jax version, write in the terminal `nvcc --version`"
   ]
  },
  {
   "cell_type": "code",
   "execution_count": null,
   "id": "2220112f-74ae-4bd6-87da-e51f4d58f8fb",
   "metadata": {},
   "outputs": [],
   "source": []
  }
 ],
 "metadata": {
  "kernelspec": {
   "display_name": "Python 3 (ipykernel)",
   "language": "python",
   "name": "python3"
  },
  "language_info": {
   "codemirror_mode": {
    "name": "ipython",
    "version": 3
   },
   "file_extension": ".py",
   "mimetype": "text/x-python",
   "name": "python",
   "nbconvert_exporter": "python",
   "pygments_lexer": "ipython3",
   "version": "3.9.13"
  }
 },
 "nbformat": 4,
 "nbformat_minor": 5
}
